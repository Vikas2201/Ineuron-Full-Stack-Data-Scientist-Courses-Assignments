{
 "cells": [
  {
   "cell_type": "markdown",
   "metadata": {},
   "source": [
    "#### 1) Write a Python program to convert kilometers to miles?"
   ]
  },
  {
   "cell_type": "code",
   "execution_count": 1,
   "metadata": {},
   "outputs": [
    {
     "name": "stdout",
     "output_type": "stream",
     "text": [
      "Enter distance in kilometer : 6\n",
      "Distance in miles :  3.7282260000000003\n"
     ]
    }
   ],
   "source": [
    "a = float(input(\"Enter distance in kilometer : \"))\n",
    "print(\"Distance in miles : \",a * 0.621371)"
   ]
  },
  {
   "cell_type": "markdown",
   "metadata": {},
   "source": [
    "#### 2) Write a Python program to convert Celsius to Fahrenheit?"
   ]
  },
  {
   "cell_type": "code",
   "execution_count": 2,
   "metadata": {},
   "outputs": [
    {
     "name": "stdout",
     "output_type": "stream",
     "text": [
      "Enter temperature in celsius : 56\n",
      "Temperature in fahrenheit :  132.8\n"
     ]
    }
   ],
   "source": [
    "c = float(input(\"Enter temperature in celsius : \"))\n",
    "f = (c * 9/5) + 32\n",
    "print(\"Temperature in fahrenheit : \" ,f)"
   ]
  },
  {
   "cell_type": "markdown",
   "metadata": {},
   "source": [
    "#### 3) Write a Python program to display calendar?"
   ]
  },
  {
   "cell_type": "code",
   "execution_count": 3,
   "metadata": {},
   "outputs": [
    {
     "name": "stdout",
     "output_type": "stream",
     "text": [
      "Enter year : 2078\n",
      "Enter month : 3\n",
      "     March 2078\n",
      "Mo Tu We Th Fr Sa Su\n",
      "    1  2  3  4  5  6\n",
      " 7  8  9 10 11 12 13\n",
      "14 15 16 17 18 19 20\n",
      "21 22 23 24 25 26 27\n",
      "28 29 30 31\n",
      "\n"
     ]
    }
   ],
   "source": [
    "import calendar\n",
    "\n",
    "year = int(input(\"Enter year : \"))\n",
    "month = int(input(\"Enter month : \"))\n",
    "\n",
    "print(calendar.month(year, month))"
   ]
  },
  {
   "cell_type": "markdown",
   "metadata": {},
   "source": [
    "#### 4) Write a Python program to solve quadratic equation?"
   ]
  },
  {
   "cell_type": "code",
   "execution_count": 5,
   "metadata": {},
   "outputs": [
    {
     "name": "stdout",
     "output_type": "stream",
     "text": [
      "Enter coefficient of x^2 : 1\n",
      "Enter coefficient of x : 2\n",
      "Enter constant : 1\n",
      "Roots of quadratic equation :  -1.0  &  -1.0\n"
     ]
    }
   ],
   "source": [
    "from math import *\n",
    "\n",
    "a = float(input(\"Enter coefficient of x^2 : \"))\n",
    "b = float(input(\"Enter coefficient of x : \"))\n",
    "c = float(input(\"Enter constant : \"))\n",
    "x1 = (-1 * b + sqrt(b**2 - 4*a*c))/(2*a)\n",
    "x2 = (-1 * b - sqrt(b**2 - 4*a*c))/(2*a)\n",
    "print(\"Roots of quadratic equation : \" , x1 , \" & \" , x2)"
   ]
  },
  {
   "cell_type": "markdown",
   "metadata": {},
   "source": [
    "#### 5) Write a Python program to swap two variables without temp variable?"
   ]
  },
  {
   "cell_type": "code",
   "execution_count": 6,
   "metadata": {},
   "outputs": [
    {
     "name": "stdout",
     "output_type": "stream",
     "text": [
      "Enter first no. : 5\n",
      "Enter second no. : 8\n",
      "After swapping no.'s are  8  &  5\n"
     ]
    }
   ],
   "source": [
    "a = int(input(\"Enter first no. : \"))\n",
    "b = int(input(\"Enter second no. : \"))\n",
    "a , b = b , a\n",
    "print(\"After swapping no.'s are \",a,\" & \",b)"
   ]
  },
  {
   "cell_type": "code",
   "execution_count": null,
   "metadata": {},
   "outputs": [],
   "source": []
  }
 ],
 "metadata": {
  "kernelspec": {
   "display_name": "Python 3",
   "language": "python",
   "name": "python3"
  },
  "language_info": {
   "codemirror_mode": {
    "name": "ipython",
    "version": 3
   },
   "file_extension": ".py",
   "mimetype": "text/x-python",
   "name": "python",
   "nbconvert_exporter": "python",
   "pygments_lexer": "ipython3",
   "version": "3.8.3"
  }
 },
 "nbformat": 4,
 "nbformat_minor": 4
}

{
 "cells": [
  {
   "cell_type": "markdown",
   "metadata": {},
   "source": [
    "#### 1) Write a Python Program to Find LCM?"
   ]
  },
  {
   "cell_type": "code",
   "execution_count": 1,
   "metadata": {},
   "outputs": [
    {
     "name": "stdout",
     "output_type": "stream",
     "text": [
      "Enter first number : 17\n",
      "Enter second number : 4\n",
      "LCM of  17  and  4  :  68\n"
     ]
    }
   ],
   "source": [
    "a = int(input(\"Enter first number : \"))\n",
    "b = int(input(\"Enter second number : \"))\n",
    "if a > b:\n",
    "    Max = a\n",
    "else:\n",
    "    Max = b\n",
    "while True:\n",
    "    if Max%a == 0 and Max%b == 0:\n",
    "        lcm = Max\n",
    "        break\n",
    "    Max += 1\n",
    "print(\"LCM of \",a,\" and \",b,\" : \",lcm)"
   ]
  },
  {
   "cell_type": "markdown",
   "metadata": {},
   "source": [
    "#### 2) Write a Python Program to Find HCF?"
   ]
  },
  {
   "cell_type": "code",
   "execution_count": 2,
   "metadata": {},
   "outputs": [
    {
     "name": "stdout",
     "output_type": "stream",
     "text": [
      "Enter first number : 12\n",
      "Enter second number : 13\n",
      "HCF of given two numbers :  1\n"
     ]
    }
   ],
   "source": [
    "a = int(input(\"Enter first number : \"))\n",
    "b = int(input(\"Enter second number : \"))\n",
    "while b:\n",
    "    a , b = b , a%b\n",
    "print(\"HCF of given two numbers : \",a)"
   ]
  },
  {
   "cell_type": "markdown",
   "metadata": {},
   "source": [
    "#### 3) Write a Python Program to Convert Decimal to Binary, Octal and Hexadecimal?"
   ]
  },
  {
   "cell_type": "code",
   "execution_count": 3,
   "metadata": {},
   "outputs": [
    {
     "name": "stdout",
     "output_type": "stream",
     "text": [
      "Enter a number : 18934\n"
     ]
    }
   ],
   "source": [
    "n = int(input(\"Enter a number : \"))"
   ]
  },
  {
   "cell_type": "code",
   "execution_count": 4,
   "metadata": {},
   "outputs": [
    {
     "name": "stdout",
     "output_type": "stream",
     "text": [
      "Binary form of given Number ' 18934 ':  100100111110110\n"
     ]
    }
   ],
   "source": [
    "r = \"\"\n",
    "n1 = n\n",
    "while n1:\n",
    "    r = str(n1%2) + r\n",
    "    n1 = n1//2\n",
    "print(\"Binary form of given Number '\",n,\"': \",r)"
   ]
  },
  {
   "cell_type": "code",
   "execution_count": 5,
   "metadata": {},
   "outputs": [
    {
     "name": "stdout",
     "output_type": "stream",
     "text": [
      "Octal form of given Number ' 18934 ':  44766\n"
     ]
    }
   ],
   "source": [
    "r = \"\"\n",
    "n1 = n\n",
    "while n1:\n",
    "    r = str(n1%8) + r\n",
    "    n1 = n1//8\n",
    "print(\"Octal form of given Number '\",n,\"': \",r)"
   ]
  },
  {
   "cell_type": "code",
   "execution_count": 6,
   "metadata": {},
   "outputs": [
    {
     "name": "stdout",
     "output_type": "stream",
     "text": [
      "Octal form of given Number ' 18934 ':  49F6\n"
     ]
    }
   ],
   "source": [
    "r = \"\"\n",
    "n1 = n\n",
    "table = {0: '0', 1: '1', 2: '2', 3: '3', 4: '4',5: '5', 6: '6', 7: '7',8: '8', 9: '9', 10: 'A', 11: 'B', 12: 'C',13: 'D', 14: 'E', 15: 'F'}\n",
    "while n1:\n",
    "    r = table[n1%16] + r\n",
    "    n1 = n1//16\n",
    "print(\"Octal form of given Number '\",n,\"': \",r)"
   ]
  },
  {
   "cell_type": "markdown",
   "metadata": {},
   "source": [
    "#### 4) Write a Python Program To Find ASCII value of a character?"
   ]
  },
  {
   "cell_type": "code",
   "execution_count": 7,
   "metadata": {},
   "outputs": [
    {
     "name": "stdout",
     "output_type": "stream",
     "text": [
      "Enter a character : A\n",
      "ASCII value of 'A':  65\n"
     ]
    }
   ],
   "source": [
    "ch = input(\"Enter a character : \")\n",
    "print(\"ASCII value of '\" + ch + \"': \", ord(ch))"
   ]
  },
  {
   "cell_type": "markdown",
   "metadata": {},
   "source": [
    "#### 5) Write a Python Program to Make a Simple Calculator with 4 basic mathematical operations?"
   ]
  },
  {
   "cell_type": "code",
   "execution_count": 8,
   "metadata": {},
   "outputs": [
    {
     "name": "stdout",
     "output_type": "stream",
     "text": [
      "Enter first number : 19\n",
      "Enter second number : 134\n",
      "Enter 1 for Addition\n",
      "Enter 2 for Substration\n",
      "Enter 3 for Multiplication\n",
      "Enter 4 for Divide\n",
      "Enter our choice : 3\n",
      "Multiplication :  2546\n"
     ]
    }
   ],
   "source": [
    "a = int(input(\"Enter first number : \"))\n",
    "b = int(input(\"Enter second number : \"))\n",
    "print(\"Enter 1 for Addition\")\n",
    "print(\"Enter 2 for Substration\")\n",
    "print(\"Enter 3 for Multiplication\")\n",
    "print(\"Enter 4 for Divide\")\n",
    "choice = int(input(\"Enter our choice : \"))\n",
    "if choice == 1:\n",
    "    print(\"Addition : \",a+b)\n",
    "elif choice == 2:\n",
    "    print(\"Subtraction : \",a-b)\n",
    "elif choice == 3:\n",
    "    print(\"Multiplication : \",a*b)\n",
    "elif choice == 4:\n",
    "    print(\"Division : \",a/b)\n",
    "else:\n",
    "    print(\"Enter correct choice\")"
   ]
  },
  {
   "cell_type": "code",
   "execution_count": null,
   "metadata": {},
   "outputs": [],
   "source": []
  }
 ],
 "metadata": {
  "kernelspec": {
   "display_name": "Python 3",
   "language": "python",
   "name": "python3"
  },
  "language_info": {
   "codemirror_mode": {
    "name": "ipython",
    "version": 3
   },
   "file_extension": ".py",
   "mimetype": "text/x-python",
   "name": "python",
   "nbconvert_exporter": "python",
   "pygments_lexer": "ipython3",
   "version": "3.8.3"
  }
 },
 "nbformat": 4,
 "nbformat_minor": 4
}

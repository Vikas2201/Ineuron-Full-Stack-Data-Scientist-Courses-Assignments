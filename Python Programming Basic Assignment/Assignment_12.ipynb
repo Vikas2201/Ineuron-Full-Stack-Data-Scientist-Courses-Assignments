{
 "cells": [
  {
   "cell_type": "markdown",
   "metadata": {},
   "source": [
    "#### 1. Write a Python program to Extract Unique values dictionary values?"
   ]
  },
  {
   "cell_type": "code",
   "execution_count": 1,
   "metadata": {},
   "outputs": [],
   "source": [
    "Subject_marks = {\n",
    "    'vikas' : [5,3,8, 0],\n",
    "   'vicky' : [2, 5, 3, 7],\n",
    "   'ashish' : [8,7, 0, 2],\n",
    "   'mamta' : [8,1, 1, 5],\n",
    "   'kishor' : [6, 3, 9, 0]\n",
    "                }"
   ]
  },
  {
   "cell_type": "code",
   "execution_count": 2,
   "metadata": {},
   "outputs": [
    {
     "name": "stdout",
     "output_type": "stream",
     "text": [
      "Unique values from dictionary values :  [[0, 1, 2, 3, 5, 6, 7, 8, 9]]\n"
     ]
    }
   ],
   "source": [
    "value = [sorted({ele for value in Subject_marks.values() for ele in value})]\n",
    "print(\"Unique values from dictionary values : \",value)"
   ]
  },
  {
   "cell_type": "markdown",
   "metadata": {},
   "source": [
    "#### 2. Write a Python program to find the sum of all items in a dictionary?"
   ]
  },
  {
   "cell_type": "code",
   "execution_count": 3,
   "metadata": {},
   "outputs": [
    {
     "name": "stdout",
     "output_type": "stream",
     "text": [
      "Our dictionary :  {'vikas': [5, 3, 8, 0], 'vicky': [2, 5, 3, 7], 'ashish': [8, 7, 0, 2], 'mamta': [8, 1, 1, 5], 'kishor': [6, 3, 9, 0]}\n"
     ]
    }
   ],
   "source": [
    "print(\"Our dictionary : \",Subject_marks)"
   ]
  },
  {
   "cell_type": "code",
   "execution_count": 4,
   "metadata": {},
   "outputs": [
    {
     "name": "stdout",
     "output_type": "stream",
     "text": [
      "Sum of all items in a dictionary :  83\n"
     ]
    }
   ],
   "source": [
    "Sum_values = sum([ele for value in Subject_marks.values() for ele in value])\n",
    "print(\"Sum of all items in a dictionary : \",Sum_values)"
   ]
  },
  {
   "cell_type": "markdown",
   "metadata": {},
   "source": [
    "#### 3. Write a Python program to Merging two Dictionaries?"
   ]
  },
  {
   "cell_type": "code",
   "execution_count": 5,
   "metadata": {},
   "outputs": [
    {
     "name": "stdout",
     "output_type": "stream",
     "text": [
      "New dictionary after merging two dictionaries :  {'Name': 'Vikas', 'Roll No.': '2019UMC4555', 'Branch': 'Computer science and Engineering', 'specialization': 'Mathematics and computing', 'collage': 'NSUT'}\n"
     ]
    }
   ],
   "source": [
    "dict1 = {\n",
    "    \"Name\" : \"Vikas\",\n",
    "    \"Roll No.\" : \"2019UMC4555\",\n",
    "    \"Branch\" : \"Computer science and Engineering\"\n",
    "}\n",
    "\n",
    "dict2 = {\n",
    "    \"specialization\" : \"Mathematics and computing\",\n",
    "    \"collage\" : \"NSUT\"\n",
    "}\n",
    "\n",
    "dict3 = {**dict1, **dict2}\n",
    "print(\"New dictionary after merging two dictionaries : \",dict3)"
   ]
  },
  {
   "cell_type": "code",
   "execution_count": 6,
   "metadata": {},
   "outputs": [
    {
     "data": {
      "text/plain": [
       "{'Name': 'Vikas',\n",
       " 'Roll No.': '2019UMC4555',\n",
       " 'Branch': 'Computer science and Engineering',\n",
       " 'specialization': 'Mathematics and computing',\n",
       " 'collage': 'NSUT'}"
      ]
     },
     "execution_count": 6,
     "metadata": {},
     "output_type": "execute_result"
    }
   ],
   "source": [
    "dict3"
   ]
  },
  {
   "cell_type": "markdown",
   "metadata": {},
   "source": [
    "#### 4. Write a Python program to convert key-values list to flat dictionary?"
   ]
  },
  {
   "cell_type": "code",
   "execution_count": 7,
   "metadata": {},
   "outputs": [
    {
     "name": "stdout",
     "output_type": "stream",
     "text": [
      "Our dictionary :  {'roll no.': [1, 2, 3, 4, 5], 'Name': ['Vikas', 'Ashish', 'Vicky', 'Rahul', 'Khushi']}\n"
     ]
    }
   ],
   "source": [
    "dic = {\n",
    "    \"roll no.\" : [1,2,3,4,5],\n",
    "    \"Name\" : [\"Vikas\",\"Ashish\",\"Vicky\",\"Rahul\",\"Khushi\"]  \n",
    "    }\n",
    "print(\"Our dictionary : \",dic)"
   ]
  },
  {
   "cell_type": "code",
   "execution_count": 8,
   "metadata": {},
   "outputs": [
    {
     "name": "stdout",
     "output_type": "stream",
     "text": [
      "New dictionary :  {1: 'Vikas', 2: 'Ashish', 3: 'Vicky', 4: 'Rahul', 5: 'Khushi'}\n"
     ]
    }
   ],
   "source": [
    "new_dict = dict(zip(dic[\"roll no.\"],dic[\"Name\"]))\n",
    "print(\"New dictionary : \",new_dict)"
   ]
  },
  {
   "cell_type": "markdown",
   "metadata": {},
   "source": [
    "#### 5. Write a Python program to insertion at the beginning in OrderedDict?"
   ]
  },
  {
   "cell_type": "code",
   "execution_count": 9,
   "metadata": {},
   "outputs": [
    {
     "name": "stdout",
     "output_type": "stream",
     "text": [
      "Our dictionary :  {1: 'Vikas', 2: 'Ashish', 3: 'Vicky', 4: 'Rahul', 5: 'Khushi'}\n"
     ]
    }
   ],
   "source": [
    "print(\"Our dictionary : \",new_dict)"
   ]
  },
  {
   "cell_type": "code",
   "execution_count": 10,
   "metadata": {},
   "outputs": [
    {
     "name": "stdout",
     "output_type": "stream",
     "text": [
      "New dictionary :  OrderedDict([(6, 'Riya'), (1, 'Vikas'), (2, 'Ashish'), (3, 'Vicky'), (4, 'Rahul'), (5, 'Khushi')])\n"
     ]
    }
   ],
   "source": [
    "from collections import OrderedDict\n",
    "new_dict.update({6 : \"Riya\"})\n",
    "new_dict = OrderedDict(new_dict)\n",
    "new_dict.move_to_end(6,last = False)\n",
    "print(\"New dictionary : \",new_dict)"
   ]
  },
  {
   "cell_type": "markdown",
   "metadata": {},
   "source": [
    "#### 6. Write a Python program to check order of character in string using OrderedDict()?"
   ]
  },
  {
   "cell_type": "code",
   "execution_count": 11,
   "metadata": {},
   "outputs": [
    {
     "name": "stdout",
     "output_type": "stream",
     "text": [
      "true\n"
     ]
    }
   ],
   "source": [
    "from collections import OrderedDict \n",
    "string = 'computer engineering'\n",
    "character = 'ceg'\n",
    "Dict = OrderedDict.fromkeys(string) \n",
    "i = 0\n",
    "flag = False\n",
    "for key,value in Dict.items(): \n",
    "    if key == character[i]: \n",
    "        i = i + 1\n",
    "    if i == len(character): \n",
    "        flag = True\n",
    "        break\n",
    "if flag == True:\n",
    "    print(\"true\")\n",
    "else:\n",
    "    print(\"false\")"
   ]
  },
  {
   "cell_type": "code",
   "execution_count": 12,
   "metadata": {},
   "outputs": [
    {
     "data": {
      "text/plain": [
       "OrderedDict([('c', None),\n",
       "             ('o', None),\n",
       "             ('m', None),\n",
       "             ('p', None),\n",
       "             ('u', None),\n",
       "             ('t', None),\n",
       "             ('e', None),\n",
       "             ('r', None),\n",
       "             (' ', None),\n",
       "             ('n', None),\n",
       "             ('g', None),\n",
       "             ('i', None)])"
      ]
     },
     "execution_count": 12,
     "metadata": {},
     "output_type": "execute_result"
    }
   ],
   "source": [
    "Dict"
   ]
  },
  {
   "cell_type": "markdown",
   "metadata": {},
   "source": [
    "#### 7. Write a Python program to sort Python Dictionaries by Key or Value?"
   ]
  },
  {
   "cell_type": "code",
   "execution_count": 13,
   "metadata": {},
   "outputs": [
    {
     "name": "stdout",
     "output_type": "stream",
     "text": [
      "black: 98\n",
      "green: 67\n",
      "red: 42\n",
      "white: 41\n"
     ]
    }
   ],
   "source": [
    "Dict = {'red': 42,\n",
    "          'green': 67,\n",
    "          'black': 98,\n",
    "          'white': 41}\n",
    "\n",
    "for key in sorted(Dict):\n",
    "    print(\"%s: %d\" % (key, Dict[key]))"
   ]
  },
  {
   "cell_type": "code",
   "execution_count": null,
   "metadata": {},
   "outputs": [],
   "source": []
  }
 ],
 "metadata": {
  "kernelspec": {
   "display_name": "Python 3",
   "language": "python",
   "name": "python3"
  },
  "language_info": {
   "codemirror_mode": {
    "name": "ipython",
    "version": 3
   },
   "file_extension": ".py",
   "mimetype": "text/x-python",
   "name": "python",
   "nbconvert_exporter": "python",
   "pygments_lexer": "ipython3",
   "version": "3.8.3"
  }
 },
 "nbformat": 4,
 "nbformat_minor": 4
}

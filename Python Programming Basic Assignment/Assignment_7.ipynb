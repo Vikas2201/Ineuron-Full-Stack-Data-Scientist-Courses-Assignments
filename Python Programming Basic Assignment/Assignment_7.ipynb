{
 "cells": [
  {
   "cell_type": "markdown",
   "metadata": {},
   "source": [
    "#### 1) Write a Python Program to find sum of array?"
   ]
  },
  {
   "cell_type": "code",
   "execution_count": 1,
   "metadata": {},
   "outputs": [
    {
     "name": "stdout",
     "output_type": "stream",
     "text": [
      "Enter Size of array : 5\n",
      "Enter element in an array : \n",
      "1\n",
      "2\n",
      "3\n",
      "4\n",
      "5\n",
      "Our array :  [1, 2, 3, 4, 5]\n",
      "Sum of elements of an array :  15\n"
     ]
    }
   ],
   "source": [
    "lt = []\n",
    "n = int(input(\"Enter Size of array : \"))\n",
    "print(\"Enter element in an array : \")\n",
    "for i in range(n):\n",
    "    lt.append(int(input()))\n",
    "print(\"Our array : \",lt)\n",
    "Sum = 0\n",
    "for i in lt:\n",
    "    Sum += i\n",
    "print(\"Sum of elements of an array : \",Sum)"
   ]
  },
  {
   "cell_type": "markdown",
   "metadata": {},
   "source": [
    "#### 2) Write a Python Program to find largest element in an array?"
   ]
  },
  {
   "cell_type": "code",
   "execution_count": 2,
   "metadata": {},
   "outputs": [
    {
     "name": "stdout",
     "output_type": "stream",
     "text": [
      "Enter Size of array : 5\n",
      "Enter element in an array : \n",
      "12\n",
      "14\n",
      "-4\n",
      "-12\n",
      "0\n",
      "Our array :  [12, 14, -4, -12, 0]\n",
      "Largest element in an array :  14\n"
     ]
    }
   ],
   "source": [
    "lt = []\n",
    "n = int(input(\"Enter Size of array : \"))\n",
    "print(\"Enter element in an array : \")\n",
    "for i in range(n):\n",
    "    lt.append(int(input()))\n",
    "print(\"Our array : \",lt)\n",
    "Max = lt[0]\n",
    "for i in lt:\n",
    "    if Max <= i:\n",
    "        Max = i\n",
    "print(\"Largest element in an array : \",Max)"
   ]
  },
  {
   "cell_type": "markdown",
   "metadata": {},
   "source": [
    "#### 3) Write a Python Program for array rotation?"
   ]
  },
  {
   "cell_type": "code",
   "execution_count": 3,
   "metadata": {},
   "outputs": [
    {
     "name": "stdout",
     "output_type": "stream",
     "text": [
      "Enter Size of array : 5\n",
      "Enter element in an array : \n",
      "23\n",
      "12\n",
      "11\n",
      "9\n",
      "10\n",
      "Our array :  [23, 12, 11, 9, 10]\n",
      "Enter index for which u want to rotate an array : 3\n",
      "Our array after rotation :  [9, 10, 23, 12, 11]\n"
     ]
    }
   ],
   "source": [
    "lt = []\n",
    "n = int(input(\"Enter Size of array : \"))\n",
    "print(\"Enter element in an array : \")\n",
    "for i in range(n):\n",
    "    lt.append(int(input()))\n",
    "print(\"Our array : \",lt)\n",
    "index = int(input(\"Enter index for which u want to rotate an array : \"))\n",
    "if index < n:\n",
    "    lt[:] = lt[index:n] + lt[0:index]\n",
    "    print(\"Our array after rotation : \",lt)\n",
    "else:\n",
    "    print(\"Enter correct index\")"
   ]
  },
  {
   "cell_type": "markdown",
   "metadata": {},
   "source": [
    "#### 4) Write a Python Program to Split the array and add the first part to the end?"
   ]
  },
  {
   "cell_type": "code",
   "execution_count": 4,
   "metadata": {},
   "outputs": [
    {
     "name": "stdout",
     "output_type": "stream",
     "text": [
      "Enter Size of array : 5\n",
      "Enter element in an array : \n",
      "3\n",
      "4\n",
      "5\n",
      "6\n",
      "7\n",
      "Our array :  [3, 4, 5, 6, 7]\n",
      "Enter position from where an array has to be split : 3\n",
      "Resultant array :  [6, 7, 3, 4, 5]\n"
     ]
    }
   ],
   "source": [
    "lt = []\n",
    "n = int(input(\"Enter Size of array : \"))\n",
    "print(\"Enter element in an array : \")\n",
    "for i in range(n):\n",
    "    lt.append(int(input()))\n",
    "print(\"Our array : \",lt)\n",
    "index = int(input(\"Enter position from where an array has to be split : \"))\n",
    "if index < n:\n",
    "    lt[:] = lt[index:n] + lt[0:index]\n",
    "    print(\"Resultant array : \",lt)\n",
    "else:\n",
    "    print(\"Enter correct index\")"
   ]
  },
  {
   "cell_type": "markdown",
   "metadata": {},
   "source": [
    "#### 5) Write a Python Program to check if given array is Monotonic?"
   ]
  },
  {
   "cell_type": "code",
   "execution_count": 5,
   "metadata": {},
   "outputs": [
    {
     "name": "stdout",
     "output_type": "stream",
     "text": [
      "Enter Size of array : 6\n",
      "Enter element in an array : \n",
      "12\n",
      "14\n",
      "11\n",
      "10\n",
      "9\n",
      "0\n",
      "Our array :  [12, 14, 11, 10, 9, 0]\n",
      "Our Array is not monotonic\n"
     ]
    }
   ],
   "source": [
    "lt = []\n",
    "n = int(input(\"Enter Size of array : \"))\n",
    "print(\"Enter element in an array : \")\n",
    "for i in range(n):\n",
    "    lt.append(int(input()))\n",
    "print(\"Our array : \",lt)\n",
    "if all(lt[i] <= lt[i + 1] for i in range(n - 1)) :\n",
    "    print(\"Our Array is monotonicly increasingly array\")\n",
    "elif all(lt[i] >= lt[i + 1] for i in range(n - 1)) :\n",
    "    print(\"Our Array is monotonicly decreasingly  array\")\n",
    "else:\n",
    "    print(\"Our Array is not monotonic\")"
   ]
  },
  {
   "cell_type": "code",
   "execution_count": null,
   "metadata": {},
   "outputs": [],
   "source": []
  }
 ],
 "metadata": {
  "kernelspec": {
   "display_name": "Python 3",
   "language": "python",
   "name": "python3"
  },
  "language_info": {
   "codemirror_mode": {
    "name": "ipython",
    "version": 3
   },
   "file_extension": ".py",
   "mimetype": "text/x-python",
   "name": "python",
   "nbconvert_exporter": "python",
   "pygments_lexer": "ipython3",
   "version": "3.8.3"
  }
 },
 "nbformat": 4,
 "nbformat_minor": 4
}

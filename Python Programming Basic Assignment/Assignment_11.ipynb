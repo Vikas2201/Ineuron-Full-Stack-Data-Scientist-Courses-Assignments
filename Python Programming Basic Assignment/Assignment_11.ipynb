{
 "cells": [
  {
   "cell_type": "markdown",
   "metadata": {},
   "source": [
    "#### 1. Write a Python program to find words which are greater than given length k?"
   ]
  },
  {
   "cell_type": "code",
   "execution_count": 1,
   "metadata": {},
   "outputs": [
    {
     "name": "stdout",
     "output_type": "stream",
     "text": [
      "Enter a string : my name is vicky. I like coding.\n",
      "Enter word length : 3\n",
      "ALL words which are greater than length  3  :  ['name', 'vicky.', 'like', 'coding.']\n"
     ]
    }
   ],
   "source": [
    "string = input(\"Enter a string : \")\n",
    "k = int(input(\"Enter word length : \"))\n",
    "words = string.split(\" \")\n",
    "result = []\n",
    "for word in words:\n",
    "    if len(word) > k:\n",
    "        result.append(word)\n",
    "print(\"ALL words which are greater than length \",k,\" : \",result)"
   ]
  },
  {
   "cell_type": "markdown",
   "metadata": {},
   "source": [
    "#### 2. Write a Python program for removing i-th character from a string?"
   ]
  },
  {
   "cell_type": "code",
   "execution_count": 2,
   "metadata": {},
   "outputs": [
    {
     "name": "stdout",
     "output_type": "stream",
     "text": [
      "Enter a string : my name is vicky.\n",
      "Enter index of character that u want to removing : 3\n",
      "New string after removing  3 th character :  my ame is vicky.\n"
     ]
    }
   ],
   "source": [
    "string = input(\"Enter a string : \")\n",
    "k = int(input(\"Enter index of character that u want to removing : \"))\n",
    "new_str = \"\"\n",
    "for i in range(len(string)):\n",
    "    if i != k:\n",
    "        new_str += string[i]\n",
    "print(\"New string after removing \",k,\"th character : \",new_str)"
   ]
  },
  {
   "cell_type": "markdown",
   "metadata": {},
   "source": [
    "#### 3. Write a Python program to split and join a string?"
   ]
  },
  {
   "cell_type": "code",
   "execution_count": 3,
   "metadata": {},
   "outputs": [
    {
     "name": "stdout",
     "output_type": "stream",
     "text": [
      "Enter a string : my name is vicky\n",
      "String after spliting :  ['my', 'name', 'is', 'vicky']\n",
      "String after joining :  my-name-is-vicky\n"
     ]
    }
   ],
   "source": [
    "string = input(\"Enter a string : \")\n",
    "new_string = string.split()\n",
    "print(\"String after spliting : \",new_string)\n",
    "new_str = '-'.join(new_string)\n",
    "print(\"String after joining : \",new_str)"
   ]
  },
  {
   "cell_type": "markdown",
   "metadata": {},
   "source": [
    "#### 4. Write a Python to check if a given string is binary string or not?"
   ]
  },
  {
   "cell_type": "code",
   "execution_count": 4,
   "metadata": {},
   "outputs": [
    {
     "name": "stdout",
     "output_type": "stream",
     "text": [
      "Enter a string : 010101001010101001010\n",
      "Given string is a binary string\n"
     ]
    }
   ],
   "source": [
    "string = input(\"Enter a string : \")\n",
    "import re\n",
    "seq = re.compile('[^01]')\n",
    "if(len(seq.findall(string))):\n",
    "    print(\"Given string is not a binary string.\")\n",
    "else:\n",
    "    print(\"Given string is a binary string\")"
   ]
  },
  {
   "cell_type": "markdown",
   "metadata": {},
   "source": [
    "#### 5. Write a Python program to find uncommon words from two Strings?"
   ]
  },
  {
   "cell_type": "code",
   "execution_count": 5,
   "metadata": {},
   "outputs": [
    {
     "name": "stdout",
     "output_type": "stream",
     "text": [
      "Enter first string : hello! you are vicky.\n",
      "Enter second string : yes I am vicky.\n",
      "Uncommon words from two strings :  ['hello!', 'you', 'are', 'yes', 'I', 'am']\n"
     ]
    }
   ],
   "source": [
    "str1 = input(\"Enter first string : \")\n",
    "str2 = input(\"Enter second string : \")\n",
    "str_list1 = str1.split()\n",
    "str_list2 = str2.split()\n",
    "lt = []\n",
    "for i in str_list1:\n",
    "    if i not in str_list2:\n",
    "        lt.append(i)\n",
    "for i in str_list2:\n",
    "    if i not in str_list1:\n",
    "        lt.append(i)\n",
    "print(\"Uncommon words from two strings : \",lt)"
   ]
  },
  {
   "cell_type": "markdown",
   "metadata": {},
   "source": [
    "#### 6. Write a Python to find all duplicate characters in string?"
   ]
  },
  {
   "cell_type": "code",
   "execution_count": 6,
   "metadata": {},
   "outputs": [
    {
     "name": "stdout",
     "output_type": "stream",
     "text": [
      "Enter a string : vicky and vikas\n",
      "All duplicate characters in string :  ['v', 'i', 'k', ' ', 'a']\n"
     ]
    }
   ],
   "source": [
    "string = input(\"Enter a string : \")\n",
    "dup = []\n",
    "for char in string:\n",
    "    if string.count(char) > 1 and char not in dup:\n",
    "        dup.append(char)\n",
    "print(\"All duplicate characters in string : \",dup)"
   ]
  },
  {
   "cell_type": "markdown",
   "metadata": {},
   "source": [
    "#### 7. Write a Python Program to check if a string contains any special character?"
   ]
  },
  {
   "cell_type": "code",
   "execution_count": 7,
   "metadata": {},
   "outputs": [
    {
     "name": "stdout",
     "output_type": "stream",
     "text": [
      "Enter a string : hello! my self vikas\n",
      "String contain a special character\n"
     ]
    }
   ],
   "source": [
    "special_char = \"!#@~$%^&*(){}[]-_=+'';:,./?><|\\\"\"\n",
    "string = input(\"Enter a string : \")\n",
    "flag = False\n",
    "for i in string:\n",
    "    if i in special_char:\n",
    "        print(\"String contain a special character\")\n",
    "        flag = True\n",
    "        break\n",
    "if flag == False: \n",
    "    print(\"String does not contain a special character\")"
   ]
  },
  {
   "cell_type": "code",
   "execution_count": null,
   "metadata": {},
   "outputs": [],
   "source": []
  }
 ],
 "metadata": {
  "kernelspec": {
   "display_name": "Python 3",
   "language": "python",
   "name": "python3"
  },
  "language_info": {
   "codemirror_mode": {
    "name": "ipython",
    "version": 3
   },
   "file_extension": ".py",
   "mimetype": "text/x-python",
   "name": "python",
   "nbconvert_exporter": "python",
   "pygments_lexer": "ipython3",
   "version": "3.8.3"
  }
 },
 "nbformat": 4,
 "nbformat_minor": 4
}

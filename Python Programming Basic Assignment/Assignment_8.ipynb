{
 "cells": [
  {
   "cell_type": "markdown",
   "metadata": {},
   "source": [
    "#### 1. Write a Python Program to Add Two Matrices?"
   ]
  },
  {
   "cell_type": "code",
   "execution_count": 1,
   "metadata": {},
   "outputs": [
    {
     "name": "stdout",
     "output_type": "stream",
     "text": [
      "Enter value of row for first matrix : 3\n",
      "Enter value of column for first matrix : 3\n",
      "Enter value of row for second matrix : 3\n",
      "Enter value of column for second matrix : 3\n",
      "Enter element in first Matrix : \n",
      "1\n",
      "4\n",
      "7\n",
      "2\n",
      "4\n",
      "8\n",
      "3\n",
      "6\n",
      "9\n",
      "Enter element in second Matrix : \n",
      "11\n",
      "14\n",
      "17\n",
      "12\n",
      "15\n",
      "18\n",
      "13\n",
      "16\n",
      "19\n",
      "Our First Matrix : \n",
      "[1, 4, 7]\n",
      "[2, 4, 8]\n",
      "[3, 6, 9]\n",
      "Our Second Matrix : \n",
      "[11, 14, 17]\n",
      "[12, 15, 18]\n",
      "[13, 16, 19]\n",
      "Addition of two matrix : \n",
      "[12, 18, 24]\n",
      "[14, 19, 26]\n",
      "[16, 22, 28]\n"
     ]
    }
   ],
   "source": [
    "r1 = int(input(\"Enter value of row for first matrix : \"))\n",
    "c1 = int(input(\"Enter value of column for first matrix : \"))\n",
    "\n",
    "r2 = int(input(\"Enter value of row for second matrix : \"))\n",
    "c2 = int(input(\"Enter value of column for second matrix : \"))\n",
    "\n",
    "\n",
    "if r1 == r2 and c1 == c2:  \n",
    "    mat1 = []\n",
    "    print(\"Enter element in first Matrix : \")\n",
    "    for i in range(r1):\n",
    "        lt = []\n",
    "        for j in range(c1):\n",
    "            lt.append(int(input()))\n",
    "        mat1.append(lt)\n",
    "\n",
    "    mat2 = []\n",
    "    print(\"Enter element in second Matrix : \")\n",
    "    for i in range(r2):\n",
    "        lt = []\n",
    "        for j in range(c2):\n",
    "            lt.append(int(input()))\n",
    "        mat2.append(lt)\n",
    "    \n",
    "    print(\"Our First Matrix : \")\n",
    "    for x in mat1:\n",
    "        print(x)\n",
    "    \n",
    "    print(\"Our Second Matrix : \")\n",
    "    for x in mat2:\n",
    "        print(x)\n",
    "    \n",
    "    result = [[mat1[i][j] + mat2[i][j]  for j in range(c1) ]for i in range(r1)]\n",
    "    \n",
    "    print(\"Addition of two matrix : \")\n",
    "    for x in result:\n",
    "        print(x)\n",
    "else:\n",
    "    print(\"Enter correct row and columns\")"
   ]
  },
  {
   "cell_type": "markdown",
   "metadata": {},
   "source": [
    "#### 2. Write a Python Program to Multiply Two Matrices?"
   ]
  },
  {
   "cell_type": "code",
   "execution_count": 2,
   "metadata": {},
   "outputs": [
    {
     "name": "stdout",
     "output_type": "stream",
     "text": [
      "Enter value of row for first matrix : 3\n",
      "Enter value of column for first matrix : 3\n",
      "Enter value of row for second matrix : 3\n",
      "Enter value of column for second matrix : 3\n",
      "Enter element in first Matrix : \n",
      "1\n",
      "4\n",
      "7\n",
      "2\n",
      "5\n",
      "8\n",
      "3\n",
      "6\n",
      "9\n",
      "Enter element in second Matrix : \n",
      "11\n",
      "14\n",
      "17\n",
      "12\n",
      "15\n",
      "18\n",
      "13\n",
      "16\n",
      "19\n",
      "Our First Matrix : \n",
      "[1, 4, 7]\n",
      "[2, 5, 8]\n",
      "[3, 6, 9]\n",
      "Our Second Matrix : \n",
      "[11, 14, 17]\n",
      "[12, 15, 18]\n",
      "[13, 16, 19]\n",
      "Resultant Matrix : \n",
      "[150, 186, 222]\n",
      "[186, 231, 276]\n",
      "[222, 276, 330]\n"
     ]
    }
   ],
   "source": [
    "r1 = int(input(\"Enter value of row for first matrix : \"))\n",
    "c1 = int(input(\"Enter value of column for first matrix : \"))\n",
    "\n",
    "r2 = int(input(\"Enter value of row for second matrix : \"))\n",
    "c2 = int(input(\"Enter value of column for second matrix : \"))\n",
    "\n",
    "\n",
    "if c1 == r2:  \n",
    "    mat1 = []\n",
    "    print(\"Enter element in first Matrix : \")\n",
    "    for i in range(r1):\n",
    "        lt = []\n",
    "        for j in range(c1):\n",
    "            lt.append(int(input()))\n",
    "        mat1.append(lt)\n",
    "\n",
    "    mat2 = []\n",
    "    print(\"Enter element in second Matrix : \")\n",
    "    for i in range(r2):\n",
    "        lt = []\n",
    "        for j in range(c2):\n",
    "            lt.append(int(input()))\n",
    "        mat2.append(lt)\n",
    "    \n",
    "    print(\"Our First Matrix : \")\n",
    "    for x in mat1:\n",
    "        print(x)\n",
    "    \n",
    "    print(\"Our Second Matrix : \")\n",
    "    for x in mat2:\n",
    "        print(x)\n",
    "    \n",
    "    result = [[sum(a*b for a,b in zip(row,col)) for col in zip(*mat2)] for row in mat1]\n",
    "\n",
    "    print(\"Resultant Matrix : \")\n",
    "    for x in result:\n",
    "        print(x)"
   ]
  },
  {
   "cell_type": "markdown",
   "metadata": {},
   "source": [
    "#### 3. Write a Python Program to Transpose a Matrix?"
   ]
  },
  {
   "cell_type": "code",
   "execution_count": 3,
   "metadata": {},
   "outputs": [
    {
     "name": "stdout",
     "output_type": "stream",
     "text": [
      "Enter value of row : 3\n",
      "Enter value of column : 3\n",
      "Enter element in first Matrix : \n",
      "1\n",
      "2\n",
      "3\n",
      "4\n",
      "5\n",
      "6\n",
      "7\n",
      "8\n",
      "9\n",
      "Our Matrix : \n",
      "[1, 2, 3]\n",
      "[4, 5, 6]\n",
      "[7, 8, 9]\n",
      "[1, 4, 7]\n",
      "[2, 5, 8]\n",
      "[3, 6, 9]\n"
     ]
    }
   ],
   "source": [
    "r1 = int(input(\"Enter value of row : \"))\n",
    "c1 = int(input(\"Enter value of column : \"))\n",
    "mat1 = []\n",
    "print(\"Enter element in first Matrix : \")\n",
    "for i in range(r1):\n",
    "    lt = []\n",
    "    for j in range(c1):\n",
    "        lt.append(int(input()))\n",
    "    mat1.append(lt)\n",
    "\n",
    "print(\"Our Matrix : \")\n",
    "for x in mat1:\n",
    "    print(x)\n",
    "    \n",
    "result = [[mat1[j][i] for j in range(r1)] for i in range(c1)]\n",
    "\n",
    "for x in result:\n",
    "    print(x)"
   ]
  },
  {
   "cell_type": "markdown",
   "metadata": {},
   "source": [
    "#### 4. Write a Python Program to Sort Words in Alphabetic Order?"
   ]
  },
  {
   "cell_type": "code",
   "execution_count": 4,
   "metadata": {},
   "outputs": [
    {
     "name": "stdout",
     "output_type": "stream",
     "text": [
      "Enter a string : My Name Is Vikas\n",
      "Sorted words in Alphabetic Order : \n",
      "Is My Name Vikas "
     ]
    }
   ],
   "source": [
    "Str = input(\"Enter a string : \")\n",
    "words = [word for word in Str.split()]\n",
    "words.sort()\n",
    "print(\"Sorted words in Alphabetic Order : \")\n",
    "for word in words:\n",
    "    print(word,end = \" \")"
   ]
  },
  {
   "cell_type": "markdown",
   "metadata": {},
   "source": [
    "#### 5. Write a Python Program to Remove Punctuation From a String?"
   ]
  },
  {
   "cell_type": "code",
   "execution_count": 5,
   "metadata": {},
   "outputs": [
    {
     "name": "stdout",
     "output_type": "stream",
     "text": [
      "Enter a String : hello!! What is your name?\n",
      "String after Removing Punctuation :  hello What is your name\n"
     ]
    }
   ],
   "source": [
    "punctuations = '''!()-[]{};:'\"\\,<>./?@#$%^&*_~'''\n",
    "Str = input(\"Enter a String : \")\n",
    "new_str = \"\"\n",
    "for i in Str:\n",
    "    if i not in punctuations:\n",
    "        new_str += i\n",
    "print(\"String after Removing Punctuation : \",new_str)"
   ]
  },
  {
   "cell_type": "code",
   "execution_count": null,
   "metadata": {},
   "outputs": [],
   "source": []
  }
 ],
 "metadata": {
  "kernelspec": {
   "display_name": "Python 3",
   "language": "python",
   "name": "python3"
  },
  "language_info": {
   "codemirror_mode": {
    "name": "ipython",
    "version": 3
   },
   "file_extension": ".py",
   "mimetype": "text/x-python",
   "name": "python",
   "nbconvert_exporter": "python",
   "pygments_lexer": "ipython3",
   "version": "3.8.3"
  }
 },
 "nbformat": 4,
 "nbformat_minor": 4
}

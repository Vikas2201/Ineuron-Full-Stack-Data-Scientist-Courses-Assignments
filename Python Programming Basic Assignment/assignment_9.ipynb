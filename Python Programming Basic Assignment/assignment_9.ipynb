{
 "cells": [
  {
   "cell_type": "markdown",
   "metadata": {},
   "source": [
    "#### 1. Write a Python program to check if the given number is a Disarium Number?"
   ]
  },
  {
   "cell_type": "code",
   "execution_count": 1,
   "metadata": {},
   "outputs": [
    {
     "name": "stdout",
     "output_type": "stream",
     "text": [
      "Enter a number : 175\n",
      "Number is a Disarium Number\n"
     ]
    }
   ],
   "source": [
    "n = int(input(\"Enter a number : \"))\n",
    "num = n\n",
    "i = len(str(n))\n",
    "Sum = 0\n",
    "while num > 0:\n",
    "    r = num % 10\n",
    "    Sum = Sum + r**i\n",
    "    i -= 1\n",
    "    num = num // 10\n",
    "if Sum == n:\n",
    "    print(\"Number is a Disarium Number\")\n",
    "else :\n",
    "    print(\"Number is not a Disarium Numbe\")"
   ]
  },
  {
   "cell_type": "markdown",
   "metadata": {},
   "source": [
    "#### 2. Write a Python program to print all disarium numbers between 1 to 100?"
   ]
  },
  {
   "cell_type": "code",
   "execution_count": 2,
   "metadata": {},
   "outputs": [
    {
     "name": "stdout",
     "output_type": "stream",
     "text": [
      "All Disarium number between 1 to 100 :  [1, 2, 3, 4, 5, 6, 7, 8, 9, 89]\n"
     ]
    }
   ],
   "source": [
    "lt = []\n",
    "for n in range(1,101):\n",
    "    num = n\n",
    "    i = len(str(n))\n",
    "    Sum = 0\n",
    "    while num > 0:\n",
    "        r = num % 10\n",
    "        Sum = Sum + r**i\n",
    "        i -= 1\n",
    "        num = num // 10\n",
    "    if Sum == n:\n",
    "        lt.append(n)\n",
    "print(\"All Disarium number between 1 to 100 : \",lt)"
   ]
  },
  {
   "cell_type": "markdown",
   "metadata": {},
   "source": [
    "#### 3. Write a Python program to check if the given number is Happy Number?"
   ]
  },
  {
   "cell_type": "code",
   "execution_count": 3,
   "metadata": {},
   "outputs": [],
   "source": [
    "def happy(num):\n",
    "    Sum = 0\n",
    "    while num >0:\n",
    "        r = num%10\n",
    "        Sum = Sum + r**2\n",
    "        num = num//10\n",
    "    return Sum"
   ]
  },
  {
   "cell_type": "code",
   "execution_count": 4,
   "metadata": {},
   "outputs": [
    {
     "name": "stdout",
     "output_type": "stream",
     "text": [
      "Enter a number : 165\n",
      "Number is not happy\n"
     ]
    }
   ],
   "source": [
    "n = int(input(\"Enter a number : \"))\n",
    "ans = n\n",
    "while ans != 1 and ans != 4:\n",
    "    ans = happy(ans)\n",
    "if ans == 1:\n",
    "    print(\"Number is happy\")\n",
    "else:\n",
    "    print(\"Number is not happy\")"
   ]
  },
  {
   "cell_type": "markdown",
   "metadata": {},
   "source": [
    "#### 4. Write a Python program to print all happy numbers between 1 and 100?"
   ]
  },
  {
   "cell_type": "code",
   "execution_count": 5,
   "metadata": {},
   "outputs": [],
   "source": [
    "def happy(num):\n",
    "    Sum = 0\n",
    "    while num >0:\n",
    "        r = num%10\n",
    "        Sum = Sum + r**2\n",
    "        num = num//10\n",
    "    return Sum"
   ]
  },
  {
   "cell_type": "code",
   "execution_count": 6,
   "metadata": {},
   "outputs": [
    {
     "name": "stdout",
     "output_type": "stream",
     "text": [
      "All happy number between 1 and 100 :  [1, 7, 10, 13, 19, 23, 28, 31, 32, 44, 49, 68, 70, 79, 82, 86, 91, 94, 97, 100]\n"
     ]
    }
   ],
   "source": [
    "lt = []\n",
    "for n in range(1,101):\n",
    "    ans = n\n",
    "    while ans != 1 and ans != 4:\n",
    "        ans = happy(ans)\n",
    "    if ans == 1:\n",
    "        lt.append(n)\n",
    "print(\"All happy number between 1 and 100 : \",lt)"
   ]
  },
  {
   "cell_type": "markdown",
   "metadata": {},
   "source": [
    "#### 5. Write a Python program to determine whether the given number is a Harshad Number?"
   ]
  },
  {
   "cell_type": "code",
   "execution_count": 7,
   "metadata": {},
   "outputs": [
    {
     "name": "stdout",
     "output_type": "stream",
     "text": [
      "Enter a number : 54\n",
      "Number is harshad number\n"
     ]
    }
   ],
   "source": [
    "n = int(input(\"Enter a number : \"))\n",
    "num = n\n",
    "Sum = 0\n",
    "while num >0:\n",
    "    r = num % 10\n",
    "    Sum += r\n",
    "    num = num // 10\n",
    "if n%Sum == 0 :\n",
    "    print(\"Number is harshad number\")\n",
    "else :\n",
    "    print(\"Number is not a harshad number\")\n"
   ]
  },
  {
   "cell_type": "markdown",
   "metadata": {},
   "source": [
    "#### 6. Write a Python program to print all pronic numbers between 1 and 100?"
   ]
  },
  {
   "cell_type": "code",
   "execution_count": 9,
   "metadata": {},
   "outputs": [],
   "source": [
    "def pronic(num):\n",
    "    for i in range(1,num+1):\n",
    "        if num == i*(i+1):\n",
    "            return True\n",
    "    return False"
   ]
  },
  {
   "cell_type": "code",
   "execution_count": 10,
   "metadata": {},
   "outputs": [
    {
     "name": "stdout",
     "output_type": "stream",
     "text": [
      "All pronic numbers between 1 to 100 :  [2, 6, 12, 20, 30, 42, 56, 72, 90]\n"
     ]
    }
   ],
   "source": [
    "lt = []\n",
    "for i in range(1,101):\n",
    "    if pronic(i):\n",
    "        lt.append(i)\n",
    "print(\"All pronic numbers between 1 to 100 : \",lt)"
   ]
  },
  {
   "cell_type": "code",
   "execution_count": null,
   "metadata": {},
   "outputs": [],
   "source": []
  }
 ],
 "metadata": {
  "kernelspec": {
   "display_name": "Python 3",
   "language": "python",
   "name": "python3"
  },
  "language_info": {
   "codemirror_mode": {
    "name": "ipython",
    "version": 3
   },
   "file_extension": ".py",
   "mimetype": "text/x-python",
   "name": "python",
   "nbconvert_exporter": "python",
   "pygments_lexer": "ipython3",
   "version": "3.8.3"
  }
 },
 "nbformat": 4,
 "nbformat_minor": 4
}

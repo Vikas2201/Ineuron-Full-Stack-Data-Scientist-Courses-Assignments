{
 "cells": [
  {
   "cell_type": "code",
   "execution_count": 1,
   "metadata": {},
   "outputs": [
    {
     "name": "stdout",
     "output_type": "stream",
     "text": [
      "Enter size of list : 10\n",
      "Enter elements : -5\n",
      "Enter elements : 10\n",
      "Enter elements : -467\n",
      "Enter elements : 999\n",
      "Enter elements : 201\n",
      "Enter elements : -45\n",
      "Enter elements : 8967\n",
      "Enter elements : 121\n",
      "Enter elements : -34\n",
      "Enter elements : 111\n"
     ]
    }
   ],
   "source": [
    "lt = []\n",
    "n = int(input(\"Enter size of list : \"))\n",
    "for i in range(0, n):\n",
    "    value = int(input(\"Enter elements : \"))\n",
    "    lt.append(value)"
   ]
  },
  {
   "cell_type": "code",
   "execution_count": 2,
   "metadata": {},
   "outputs": [
    {
     "name": "stdout",
     "output_type": "stream",
     "text": [
      "Our list :  [-5, 10, -467, 999, 201, -45, 8967, 121, -34, 111]\n"
     ]
    }
   ],
   "source": [
    "print(\"Our list : \",lt)"
   ]
  },
  {
   "cell_type": "markdown",
   "metadata": {},
   "source": [
    "#### 1. Write a Python program to find sum of elements in list?"
   ]
  },
  {
   "cell_type": "code",
   "execution_count": 3,
   "metadata": {},
   "outputs": [
    {
     "name": "stdout",
     "output_type": "stream",
     "text": [
      "Sum of all element in list :  9858\n"
     ]
    }
   ],
   "source": [
    "Sum = 0\n",
    "for i in lt:\n",
    "    Sum += i\n",
    "print(\"Sum of all element in list : \",Sum)"
   ]
  },
  {
   "cell_type": "markdown",
   "metadata": {},
   "source": [
    "#### 2. Write a Python program to Multiply all numbers in the list?"
   ]
  },
  {
   "cell_type": "code",
   "execution_count": 4,
   "metadata": {},
   "outputs": [
    {
     "name": "stdout",
     "output_type": "stream",
     "text": [
      "Product of all element in list :  863963470295319586500\n"
     ]
    }
   ],
   "source": [
    "prod = 1\n",
    "for i in lt:\n",
    "    prod *= i\n",
    "print(\"Product of all element in list : \",prod)"
   ]
  },
  {
   "cell_type": "markdown",
   "metadata": {},
   "source": [
    "#### 3. Write a Python program to find smallest number in a list?"
   ]
  },
  {
   "cell_type": "code",
   "execution_count": 5,
   "metadata": {},
   "outputs": [
    {
     "name": "stdout",
     "output_type": "stream",
     "text": [
      "Smallest number in a list :  -467\n"
     ]
    }
   ],
   "source": [
    "Min = lt[0]\n",
    "for i in lt:\n",
    "    if Min > i:\n",
    "        Min = i\n",
    "print(\"Smallest number in a list : \",Min)"
   ]
  },
  {
   "cell_type": "markdown",
   "metadata": {},
   "source": [
    "#### 4. Write a Python program to find largest number in a list?"
   ]
  },
  {
   "cell_type": "code",
   "execution_count": 6,
   "metadata": {},
   "outputs": [
    {
     "name": "stdout",
     "output_type": "stream",
     "text": [
      "Largest number in a list :  8967\n"
     ]
    }
   ],
   "source": [
    "Max = lt[0]\n",
    "for i in lt:\n",
    "    if Max < i:\n",
    "        Max = i\n",
    "print(\"Largest number in a list : \",Max)"
   ]
  },
  {
   "cell_type": "markdown",
   "metadata": {},
   "source": [
    "#### 5. Write a Python program to find second largest number in a list?"
   ]
  },
  {
   "cell_type": "code",
   "execution_count": 7,
   "metadata": {},
   "outputs": [
    {
     "name": "stdout",
     "output_type": "stream",
     "text": [
      "Second largest element in list :  999\n"
     ]
    }
   ],
   "source": [
    "Max1 = max(lt)\n",
    "Max2 = 0\n",
    "for i in lt:\n",
    "    if Max2 < i and i != Max1:\n",
    "        Max2 = i\n",
    "print(\"Second largest element in list : \",Max2)"
   ]
  },
  {
   "cell_type": "markdown",
   "metadata": {},
   "source": [
    "#### 6. Write a Python program to find N largest elements from a list?"
   ]
  },
  {
   "cell_type": "code",
   "execution_count": 11,
   "metadata": {},
   "outputs": [],
   "source": [
    "new_list = lt.copy()"
   ]
  },
  {
   "cell_type": "code",
   "execution_count": 12,
   "metadata": {},
   "outputs": [
    {
     "name": "stdout",
     "output_type": "stream",
     "text": [
      "Enter the value of n : 3\n",
      "List of  3  largest element :  [8967, 999, 201]\n"
     ]
    }
   ],
   "source": [
    "n = int(input(\"Enter the value of n : \"))\n",
    "max_list = []\n",
    "for j in range(n):\n",
    "    Max = float('-inf')\n",
    "    for i in new_list:\n",
    "        if Max < i:\n",
    "            Max = i\n",
    "    max_list.append(Max)\n",
    "    new_list.remove(Max)\n",
    "print(\"List of \",n,\" largest element : \",max_list)"
   ]
  },
  {
   "cell_type": "markdown",
   "metadata": {},
   "source": [
    "#### 7. Write a Python program to print even numbers in a list?"
   ]
  },
  {
   "cell_type": "code",
   "execution_count": 13,
   "metadata": {},
   "outputs": [
    {
     "name": "stdout",
     "output_type": "stream",
     "text": [
      "ALL even numbers in a list :  [10, -34]\n"
     ]
    }
   ],
   "source": [
    "even_list = []\n",
    "for i in lt:\n",
    "    if i%2 == 0:\n",
    "        even_list.append(i)\n",
    "print(\"ALL even numbers in a list : \",even_list)"
   ]
  },
  {
   "cell_type": "markdown",
   "metadata": {},
   "source": [
    "#### 8. Write a Python program to print odd numbers in a List?"
   ]
  },
  {
   "cell_type": "code",
   "execution_count": 15,
   "metadata": {},
   "outputs": [
    {
     "name": "stdout",
     "output_type": "stream",
     "text": [
      "ALL odd numbers in a list :  [-5, -467, 999, 201, -45, 8967, 121, 111]\n"
     ]
    }
   ],
   "source": [
    "odd_list = []\n",
    "for i in lt:\n",
    "    if i%2 != 0:\n",
    "        odd_list.append(i)\n",
    "print(\"ALL odd numbers in a list : \",odd_list)"
   ]
  },
  {
   "cell_type": "markdown",
   "metadata": {},
   "source": [
    "#### 9. Write a Python program to Remove empty List from List?"
   ]
  },
  {
   "cell_type": "code",
   "execution_count": 16,
   "metadata": {},
   "outputs": [
    {
     "data": {
      "text/plain": [
       "[-5, 10, -467, 999, 201, -45, 8967, 121, -34, 111, []]"
      ]
     },
     "execution_count": 16,
     "metadata": {},
     "output_type": "execute_result"
    }
   ],
   "source": [
    "new_list = lt.copy()\n",
    "new_list.append([])\n",
    "new_list"
   ]
  },
  {
   "cell_type": "code",
   "execution_count": 17,
   "metadata": {},
   "outputs": [
    {
     "name": "stdout",
     "output_type": "stream",
     "text": [
      "New list :  [-5, 10, -467, 999, 201, -45, 8967, 121, -34, 111]\n"
     ]
    }
   ],
   "source": [
    "for i in new_list:\n",
    "    if i == []:\n",
    "        new_list.remove(i)\n",
    "print(\"New list : \",new_list)"
   ]
  },
  {
   "cell_type": "markdown",
   "metadata": {},
   "source": [
    "#### 10. Write a Python program to Cloning or Copying a list?"
   ]
  },
  {
   "cell_type": "code",
   "execution_count": 18,
   "metadata": {},
   "outputs": [
    {
     "name": "stdout",
     "output_type": "stream",
     "text": [
      "New list after cloning or copying a list :  [-5, 10, -467, 999, 201, -45, 8967, 121, -34, 111]\n"
     ]
    }
   ],
   "source": [
    "copy_list = lt[:]\n",
    "print(\"New list after cloning or copying a list : \",copy_list)"
   ]
  },
  {
   "cell_type": "markdown",
   "metadata": {},
   "source": [
    "#### 11. Write a Python program to Count occurrences of an element in a list?"
   ]
  },
  {
   "cell_type": "code",
   "execution_count": 19,
   "metadata": {},
   "outputs": [
    {
     "name": "stdout",
     "output_type": "stream",
     "text": [
      "Enter a number for counting its occurrence : 3\n",
      "3  occur in list :  0\n"
     ]
    }
   ],
   "source": [
    "num = int(input(\"Enter a number for counting its occurrence : \"))\n",
    "c = 0\n",
    "for i in lt:\n",
    "    if i == num:\n",
    "        c += 1\n",
    "print(num,\" occur in list : \",c)"
   ]
  },
  {
   "cell_type": "code",
   "execution_count": null,
   "metadata": {},
   "outputs": [],
   "source": []
  }
 ],
 "metadata": {
  "kernelspec": {
   "display_name": "Python 3",
   "language": "python",
   "name": "python3"
  },
  "language_info": {
   "codemirror_mode": {
    "name": "ipython",
    "version": 3
   },
   "file_extension": ".py",
   "mimetype": "text/x-python",
   "name": "python",
   "nbconvert_exporter": "python",
   "pygments_lexer": "ipython3",
   "version": "3.8.3"
  }
 },
 "nbformat": 4,
 "nbformat_minor": 4
}

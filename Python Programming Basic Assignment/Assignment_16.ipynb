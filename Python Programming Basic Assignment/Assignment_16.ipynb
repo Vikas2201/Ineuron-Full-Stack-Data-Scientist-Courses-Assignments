{
 "cells": [
  {
   "cell_type": "markdown",
   "metadata": {},
   "source": [
    "#### Question 1 : \n",
    "\n",
    "Write a function that stutters a word as if someone is struggling to read it. The first two letters are repeated twice with an ellipsis ... and space after each, and then the word is pronounced with a question mark ?.\n",
    "\n",
    "Examples\n",
    "\n",
    "stutter(&quot;incredible&quot;) ➞ &quot;in... in... incredible?&quot;\n",
    "\n",
    "stutter(&quot;enthusiastic&quot;) ➞ &quot;en... en... enthusiastic?&quot;\n",
    "\n",
    "stutter(&quot;outstanding&quot;) ➞ &quot;ou... ou... outstanding?&quot;\n",
    "\n",
    "Hint :- Assume all input is in lower case and at least two characters long."
   ]
  },
  {
   "cell_type": "code",
   "execution_count": 1,
   "metadata": {},
   "outputs": [],
   "source": [
    "def stuttler(word):\n",
    "    new_word = (word[:2] + \".... \")*2 + word +\"?\"\n",
    "    return new_word"
   ]
  },
  {
   "cell_type": "code",
   "execution_count": 2,
   "metadata": {},
   "outputs": [
    {
     "name": "stdout",
     "output_type": "stream",
     "text": [
      "Enter a word : enthusiastic\n",
      "en.... en.... enthusiastic?\n"
     ]
    }
   ],
   "source": [
    "word = input(\"Enter a word : \")\n",
    "print(stuttler(word))"
   ]
  },
  {
   "cell_type": "markdown",
   "metadata": {},
   "source": [
    "#### Question 2:\n",
    "\n",
    "Create a function that takes an angle in radians and returns the corresponding angle in degrees rounded to one decimal place.\n",
    "\n",
    "Examples\n",
    "\n",
    "radians_to_degrees(1) ➞ 57.3\n",
    "\n",
    "radians_to_degrees(20) ➞ 1145.9\n",
    "\n",
    "radians_to_degrees(50) ➞ 2864.8"
   ]
  },
  {
   "cell_type": "code",
   "execution_count": 3,
   "metadata": {},
   "outputs": [],
   "source": [
    "def radians_to_degrees(angle):\n",
    "    deg = round((angle * 180 * 7)/22,1)\n",
    "    return deg"
   ]
  },
  {
   "cell_type": "code",
   "execution_count": 4,
   "metadata": {},
   "outputs": [
    {
     "name": "stdout",
     "output_type": "stream",
     "text": [
      "Enter angle in radian : 1\n",
      "Angle in degree :  57.3\n"
     ]
    }
   ],
   "source": [
    "angle = float(input(\"Enter angle in radian : \"))\n",
    "print(\"Angle in degree : \",radians_to_degrees(angle))"
   ]
  },
  {
   "cell_type": "markdown",
   "metadata": {},
   "source": [
    "#### Question 3 : \n",
    "\n",
    "In this challenge, establish if a given integer num is a Curzon number. If 1 plus 2 elevated to num is exactly divisible by 1 plus 2 multiplied by num, then num is a Curzon number.\n",
    "\n",
    "Given a non-negative integer num, implement a function that returns True if num is a Curzon number, or False otherwise.\n",
    "\n",
    "Examples\n",
    "\n",
    "is_curzon(5) ➞ True\n",
    "\n",
    "2 ** 5 + 1 = 33\n",
    "    \n",
    "2 * 5 + 1 = 11\n",
    " \n",
    "33 is a multiple of 11\n",
    "\n",
    "is_curzon(10) ➞ False\n",
    " \n",
    "2 ** 10 + 1 = 1025\n",
    "\n",
    "2 * 10 + 1 = 21\n",
    "\n",
    "1025 is not a multiple of 21\n",
    "\n",
    "is_curzon(14) ➞ True\n",
    "\n",
    "2 ** 14 + 1 = 16385\n",
    "\n",
    "2 * 14 + 1 = 29\n",
    "\n",
    "16385 is a multiple of 29"
   ]
  },
  {
   "cell_type": "code",
   "execution_count": 5,
   "metadata": {},
   "outputs": [],
   "source": [
    "def check(num):\n",
    "    a = 2**num + 1\n",
    "    b = 2*num + 1\n",
    "    if a%b == 0:\n",
    "        return True\n",
    "    else:\n",
    "        return False"
   ]
  },
  {
   "cell_type": "code",
   "execution_count": 6,
   "metadata": {},
   "outputs": [
    {
     "name": "stdout",
     "output_type": "stream",
     "text": [
      "Enter a number : 14\n",
      "It is curzon number\n"
     ]
    }
   ],
   "source": [
    "num = int(input(\"Enter a number : \"))\n",
    "if check(num):\n",
    "    print(\"It is curzon number\")\n",
    "else:\n",
    "    print(\"It is not a curzon number\")"
   ]
  },
  {
   "cell_type": "markdown",
   "metadata": {},
   "source": [
    "#### Question 4 :\n",
    "\n",
    "Given the side length x find the area of a hexagon.\n",
    "\n",
    "Examples\n",
    "\n",
    "area_of_hexagon(1) ➞ 2.6\n",
    "\n",
    "area_of_hexagon(2) ➞ 10.4\n",
    "\n",
    "area_of_hexagon(3) ➞ 23.4"
   ]
  },
  {
   "cell_type": "code",
   "execution_count": 7,
   "metadata": {},
   "outputs": [
    {
     "name": "stdout",
     "output_type": "stream",
     "text": [
      "Enter side of hexagon : 3\n",
      "Area of hexgon :  23.4\n"
     ]
    }
   ],
   "source": [
    "from math import *\n",
    "side = float(input(\"Enter side of hexagon : \"))\n",
    "area = round((3*sqrt(3)*side*side)/2,1)\n",
    "print(\"Area of hexgon : \",area)"
   ]
  },
  {
   "cell_type": "markdown",
   "metadata": {},
   "source": [
    "#### Question 5 : \n",
    "\n",
    "Create a function that returns a base-2 (binary) representation of a base-10 (decimal) string number. To convert is simple: ((2) means base-2 and (10) means base-10) 010101001(2) = 1 + 8 + 32 + 128. Going from right to left, the value of the most right bit is 1, now from that every bit to the left will be x2 the value, value of an 8 bit binary numbers are (256, 128, 64, 32, 16, 8, 4, 2, 1).\n",
    "\n",
    "Examples\n",
    "\n",
    "binary(1) ➞ &quot;1&quot;\n",
    "\n",
    "    1*1 = 1\n",
    "\n",
    "binary(5) ➞ &quot;101&quot;\n",
    "    \n",
    "    1*1 + 1*4 = 5\n",
    "\n",
    "binary(10) ➞ &quot;1010&quot;\n",
    "    \n",
    "    1*2 + 1*8 = 10"
   ]
  },
  {
   "cell_type": "code",
   "execution_count": 8,
   "metadata": {},
   "outputs": [],
   "source": [
    "def convert_decimal_to_binary(num):\n",
    "    ans = \"\"\n",
    "    while num > 0:\n",
    "        r = num%2\n",
    "        num = num//2\n",
    "        ans = str(r) + ans\n",
    "    return ans"
   ]
  },
  {
   "cell_type": "code",
   "execution_count": 9,
   "metadata": {},
   "outputs": [
    {
     "name": "stdout",
     "output_type": "stream",
     "text": [
      "Enter a number in base-10 : 19\n",
      "Number in base-2 :  10011\n"
     ]
    }
   ],
   "source": [
    "num = int(input(\"Enter a number in base-10 : \"))\n",
    "print(\"Number in base-2 : \",convert_decimal_to_binary(num))"
   ]
  },
  {
   "cell_type": "code",
   "execution_count": null,
   "metadata": {},
   "outputs": [],
   "source": []
  }
 ],
 "metadata": {
  "kernelspec": {
   "display_name": "Python 3",
   "language": "python",
   "name": "python3"
  },
  "language_info": {
   "codemirror_mode": {
    "name": "ipython",
    "version": 3
   },
   "file_extension": ".py",
   "mimetype": "text/x-python",
   "name": "python",
   "nbconvert_exporter": "python",
   "pygments_lexer": "ipython3",
   "version": "3.8.3"
  }
 },
 "nbformat": 4,
 "nbformat_minor": 4
}

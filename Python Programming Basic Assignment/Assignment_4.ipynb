{
 "cells": [
  {
   "cell_type": "markdown",
   "metadata": {},
   "source": [
    "#### 1) Write a Python Program to Find the Factorial of a Number?"
   ]
  },
  {
   "cell_type": "code",
   "execution_count": 1,
   "metadata": {},
   "outputs": [
    {
     "name": "stdout",
     "output_type": "stream",
     "text": [
      "Enter a number : 120\n",
      "Factorial of  120  :  6689502913449127057588118054090372586752746333138029810295671352301633557244962989366874165271984981308157637893214090552534408589408121859898481114389650005964960521256960000000000000000000000000000\n"
     ]
    }
   ],
   "source": [
    "n = int(input(\"Enter a number : \"))\n",
    "prod = 1\n",
    "for i in range(1,n+1):\n",
    "    prod = prod * i\n",
    "print(\"Factorial of \",n,\" : \",prod)"
   ]
  },
  {
   "cell_type": "markdown",
   "metadata": {},
   "source": [
    "#### 2) Write a Python Program to Display the multiplication Table?"
   ]
  },
  {
   "cell_type": "code",
   "execution_count": 2,
   "metadata": {},
   "outputs": [
    {
     "name": "stdout",
     "output_type": "stream",
     "text": [
      "Enter number : 11\n",
      "Multiplication table of given number : \n",
      "11  *  1  =  11\n",
      "11  *  2  =  22\n",
      "11  *  3  =  33\n",
      "11  *  4  =  44\n",
      "11  *  5  =  55\n",
      "11  *  6  =  66\n",
      "11  *  7  =  77\n",
      "11  *  8  =  88\n",
      "11  *  9  =  99\n",
      "11  *  10  =  110\n"
     ]
    }
   ],
   "source": [
    "n = int(input(\"Enter number : \"))\n",
    "print(\"Multiplication table of given number : \")\n",
    "for i in range(1,11):\n",
    "    print(n,\" * \",i,\" = \",n*i)"
   ]
  },
  {
   "cell_type": "markdown",
   "metadata": {},
   "source": [
    "#### 3) Write a Python Program to Print the Fibonacci sequence?"
   ]
  },
  {
   "cell_type": "code",
   "execution_count": 3,
   "metadata": {},
   "outputs": [
    {
     "name": "stdout",
     "output_type": "stream",
     "text": [
      "Enter number of terms in fibonacci sequence : 11\n",
      "Fibonacci Sequence upto  11  term : \n",
      "0 1 1 2 3 5 8 13 21 34 55 "
     ]
    }
   ],
   "source": [
    "n = int(input(\"Enter number of terms in fibonacci sequence : \"))\n",
    "a , b = 0 , 1\n",
    "print(\"Fibonacci Sequence upto \",n,\" term : \")\n",
    "for i in range(n):\n",
    "    print(a, end = \" \")\n",
    "    c = a + b\n",
    "    a = b\n",
    "    b = c"
   ]
  },
  {
   "cell_type": "markdown",
   "metadata": {},
   "source": [
    "#### 4) Write a Python Program to Check Armstrong Number?"
   ]
  },
  {
   "cell_type": "code",
   "execution_count": 4,
   "metadata": {},
   "outputs": [
    {
     "name": "stdout",
     "output_type": "stream",
     "text": [
      "Enter a number : 153\n",
      "Enter number is armstrong number\n"
     ]
    }
   ],
   "source": [
    "n = int(input(\"Enter a number : \"))\n",
    "Sum = 0\n",
    "n1 = n \n",
    "p = len(str(n1))\n",
    "while n1 > 0:\n",
    "    r = n1%10\n",
    "    n1 = int(n1/10)\n",
    "    Sum = Sum + r**p\n",
    "if n == Sum:\n",
    "    print(\"Enter number is armstrong number\")\n",
    "else:\n",
    "    print(\"Enter number is not a armstrong number\")"
   ]
  },
  {
   "cell_type": "markdown",
   "metadata": {},
   "source": [
    "#### 5) Write a Python Program to Find Armstrong Number in an Interval?"
   ]
  },
  {
   "cell_type": "code",
   "execution_count": 5,
   "metadata": {},
   "outputs": [
    {
     "name": "stdout",
     "output_type": "stream",
     "text": [
      "Enter lower bound of interval : 1\n",
      "Enter upper bound of interval : 10000\n",
      "Armstrong number in an interval [ 1  ,  10000 ] :  [1, 2, 3, 4, 5, 6, 7, 8, 9, 153, 370, 371, 407, 1634, 8208, 9474]\n"
     ]
    }
   ],
   "source": [
    "a = int(input(\"Enter lower bound of interval : \"))\n",
    "b = int(input(\"Enter upper bound of interval : \"))\n",
    "lt = []\n",
    "for n in range(a,b+1):\n",
    "    p = len(str(n))\n",
    "    temp = n\n",
    "    Sum = 0\n",
    "    while temp > 0:\n",
    "        r = temp%10\n",
    "        temp = int(temp/10)\n",
    "        Sum = Sum + r**p\n",
    "    if n == Sum:\n",
    "        lt.append(n)\n",
    "print(\"Armstrong number in an interval [\",a,\" , \",b,\"] : \",lt)"
   ]
  },
  {
   "cell_type": "markdown",
   "metadata": {},
   "source": [
    "#### 6) Write a Python Program to Find the Sum of Natural Numbers?"
   ]
  },
  {
   "cell_type": "code",
   "execution_count": 6,
   "metadata": {},
   "outputs": [
    {
     "name": "stdout",
     "output_type": "stream",
     "text": [
      "Enter number : 101\n",
      "Sum of first  101  natural number :  5151\n"
     ]
    }
   ],
   "source": [
    "n = int(input(\"Enter number : \"))\n",
    "Sum = (n * (n+1))/2\n",
    "print(\"Sum of first \",n,\" natural number : \",int(Sum))"
   ]
  },
  {
   "cell_type": "code",
   "execution_count": null,
   "metadata": {},
   "outputs": [],
   "source": []
  }
 ],
 "metadata": {
  "kernelspec": {
   "display_name": "Python 3",
   "language": "python",
   "name": "python3"
  },
  "language_info": {
   "codemirror_mode": {
    "name": "ipython",
    "version": 3
   },
   "file_extension": ".py",
   "mimetype": "text/x-python",
   "name": "python",
   "nbconvert_exporter": "python",
   "pygments_lexer": "ipython3",
   "version": "3.8.3"
  }
 },
 "nbformat": 4,
 "nbformat_minor": 4
}

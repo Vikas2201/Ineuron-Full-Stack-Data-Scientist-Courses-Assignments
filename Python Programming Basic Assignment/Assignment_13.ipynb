{
 "cells": [
  {
   "cell_type": "markdown",
   "metadata": {},
   "source": [
    "#### Question 1 :\n",
    "\n",
    "Write a program that calculates and prints the value according to the given formula:\n",
    "\n",
    "Q = Square root of [(2 * C * D)/H]\n",
    "\n",
    "Following are the fixed values of C and H:\n",
    "\n",
    "C is 50. H is 30.\n",
    "\n",
    "D is the variable whose values should be input to your program in a comma-separated sequence.\n",
    "\n",
    "Example\n",
    "\n",
    "Let us assume the following comma separated input sequence is given to the program: 100,150,180\n",
    "\n",
    "The output of the program should be: 18,22,24"
   ]
  },
  {
   "cell_type": "code",
   "execution_count": 1,
   "metadata": {},
   "outputs": [
    {
     "name": "stdout",
     "output_type": "stream",
     "text": [
      "Input Value Of D : 100,150,180\n",
      "Output :  [18, 22, 24]\n"
     ]
    }
   ],
   "source": [
    "from math import *\n",
    "D = input(\"Input Value Of D : \")\n",
    "D = D.split(\",\")\n",
    "result = []\n",
    "for i in D :\n",
    "    result.append(int(sqrt((2*50*int(i))/30)))\n",
    "print(\"Output : \",result)"
   ]
  },
  {
   "cell_type": "markdown",
   "metadata": {},
   "source": [
    "#### Question 2 :\n",
    "\n",
    "Write a program which takes 2 digits, X,Y as input and generates a 2-dimensional array. The element value in the i-th row and j-th column of the array should be i*j. Note: i=0,1.., X-1; j=0,1,¡Y-1.\n",
    "\n",
    "Example\n",
    "\n",
    "Suppose the following inputs are given to the program: 3,5\n",
    "    \n",
    "Then, the output of the program should be:\n",
    "[[0, 0, 0, 0, 0], [0, 1, 2, 3, 4], [0, 2, 4, 6, 8]]"
   ]
  },
  {
   "cell_type": "code",
   "execution_count": 2,
   "metadata": {},
   "outputs": [
    {
     "name": "stdout",
     "output_type": "stream",
     "text": [
      "Enter value of x : 3\n",
      "Enter value of y : 5\n",
      "Output :  [[0, 0, 0, 0, 0], [0, 1, 2, 3, 4], [0, 2, 4, 6, 8]]\n"
     ]
    }
   ],
   "source": [
    "x = int(input(\"Enter value of x : \"))\n",
    "y = int(input(\"Enter value of y : \"))\n",
    "output = []\n",
    "for i in range(x):\n",
    "    lt = []\n",
    "    for j in range(y):\n",
    "        lt.append(i*j)\n",
    "    output.append(lt)\n",
    "print(\"Output : \",output)"
   ]
  },
  {
   "cell_type": "markdown",
   "metadata": {},
   "source": [
    "#### Question 3 :\n",
    "\n",
    "Write a program that accepts a comma separated sequence of words as input and prints the words in a comma-separated sequence after sorting them alphabetically.\n",
    "\n",
    "Suppose the following input is supplied to the program: without,hello,bag,world\n",
    "\n",
    "Then, the output should be: bag,hello,without,world"
   ]
  },
  {
   "cell_type": "code",
   "execution_count": 3,
   "metadata": {},
   "outputs": [
    {
     "name": "stdout",
     "output_type": "stream",
     "text": [
      "Enter sequence of words : without,hello,bag,world\n",
      "Output :  bag,hello,without,world\n"
     ]
    }
   ],
   "source": [
    "word = input(\"Enter sequence of words : \")\n",
    "words = word.split(\",\")\n",
    "words.sort()\n",
    "output = \"\"\n",
    "for i in words:\n",
    "    output = output + str(i) + \",\"\n",
    "print(\"Output : \",output[:-1])"
   ]
  },
  {
   "cell_type": "markdown",
   "metadata": {},
   "source": [
    "#### Question 4 :\n",
    "\n",
    "Write a program that accepts a sequence of whitespace separated words as input and prints the words after removing all duplicate words and sorting them alphanumerically.\n",
    "\n",
    "Suppose the following input is supplied to the program: hello world and practice makes perfect and hello world again\n",
    "\n",
    "Then, the output should be: again and hello makes perfect practice world"
   ]
  },
  {
   "cell_type": "code",
   "execution_count": 4,
   "metadata": {},
   "outputs": [
    {
     "name": "stdout",
     "output_type": "stream",
     "text": [
      "Enter a sequence : hello world and practice makes perfect and hello world again\n",
      "output :  again and hello makes perfect practice world \n"
     ]
    }
   ],
   "source": [
    "string = input(\"Enter a sequence : \")\n",
    "string = string.split(\" \")\n",
    "string.sort()\n",
    "output = \"\"\n",
    "for i in string:\n",
    "    if i not in output:\n",
    "        output = output + str(i) + \" \"\n",
    "print(\"output : \",output)"
   ]
  },
  {
   "cell_type": "markdown",
   "metadata": {},
   "source": [
    "#### Question 5:\n",
    "\n",
    "Write a program that accepts a sentence and calculate the number of letters and digits.\n",
    "\n",
    "Suppose the following input is supplied to the program: hello world! 123\n",
    "\n",
    "Then, the output should be: \n",
    "\n",
    "    LETTERS 10 \n",
    "\n",
    "    DIGITS 3"
   ]
  },
  {
   "cell_type": "code",
   "execution_count": 5,
   "metadata": {},
   "outputs": [
    {
     "name": "stdout",
     "output_type": "stream",
     "text": [
      "Enter a sentence : hello world! 123\n",
      "LETTERS  10\n",
      "DIGITS  3\n"
     ]
    }
   ],
   "source": [
    "sentence = input(\"Enter a sentence : \")\n",
    "sentence = list(sentence)\n",
    "l , d = 0 , 0\n",
    "for i in sentence:\n",
    "    if i.isalpha():\n",
    "        l +=1\n",
    "    if i.isdigit():\n",
    "        d +=1\n",
    "print(\"LETTERS \",l)\n",
    "print(\"DIGITS \",d)"
   ]
  },
  {
   "cell_type": "markdown",
   "metadata": {},
   "source": [
    "#### Question 6:\n",
    "\n",
    "A website requires the users to input username and password to register. Write a program to check the validity of password input by users.\n",
    "\n",
    "Following are the criteria for checking the password:\n",
    "\n",
    "1. At least 1 letter between [a-z]\n",
    "\n",
    "2. At least 1 number between [0-9]\n",
    "\n",
    "3. At least 1 letter between [A-Z]\n",
    "\n",
    "4. At least 1 character from [$#@]\n",
    "\n",
    "5. Minimum length of transaction password: 6\n",
    "\n",
    "6. Maximum length of transaction password: 12\n",
    "\n",
    "Your program should accept a sequence of comma separated passwords and will check them according to the above criteria. Passwords that match the criteria are to be printed, each separated by a comma.\n",
    "\n",
    "Example : If the following passwords are given as input to the program: ABd1234@1,a F1#,2w3E*,2We3345\n",
    "\n",
    "Then, the output of the program should be: ABd1234@1"
   ]
  },
  {
   "cell_type": "code",
   "execution_count": 6,
   "metadata": {},
   "outputs": [
    {
     "name": "stdout",
     "output_type": "stream",
     "text": [
      "Enter passwords : ABd1234@1,a F1#,2w3E*,2We3345\n",
      "ABd1234@1\n"
     ]
    }
   ],
   "source": [
    "import re\n",
    "password = input(\"Enter passwords : \")\n",
    "passwords = password.split(\",\")\n",
    "output = []\n",
    "for i in passwords:\n",
    "    if len(i) < 6 or len(i) > 12:\n",
    "        continue\n",
    "    elif not re.search(\"([a-z])+\",i):\n",
    "        continue\n",
    "    elif not re.search(\"([A-Z])+\",i):\n",
    "        continue\n",
    "    elif not re.search(\"([0-9])+\",i):\n",
    "        continue\n",
    "    elif not re.search(\"([@$#])+\",i):\n",
    "        continue\n",
    "    else:\n",
    "        output.append(i)\n",
    "print((\" \").join(output))"
   ]
  },
  {
   "cell_type": "code",
   "execution_count": null,
   "metadata": {},
   "outputs": [],
   "source": []
  }
 ],
 "metadata": {
  "kernelspec": {
   "display_name": "Python 3",
   "language": "python",
   "name": "python3"
  },
  "language_info": {
   "codemirror_mode": {
    "name": "ipython",
    "version": 3
   },
   "file_extension": ".py",
   "mimetype": "text/x-python",
   "name": "python",
   "nbconvert_exporter": "python",
   "pygments_lexer": "ipython3",
   "version": "3.8.3"
  }
 },
 "nbformat": 4,
 "nbformat_minor": 4
}

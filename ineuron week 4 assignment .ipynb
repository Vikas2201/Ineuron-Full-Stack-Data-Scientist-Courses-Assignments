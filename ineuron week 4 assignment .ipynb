{
 "cells": [
  {
   "cell_type": "markdown",
   "metadata": {},
   "source": [
    "Write a Python Program (with class concepts) to find the area of the triangle using the below\n",
    "formula.\n",
    "area = (s*(s-a)*(s-b)*(s-c)) ** 0.5\n",
    "Function to take the length of the sides of triangle from user should be defined in the parent class and function to calculate the area should be defined in subclass."
   ]
  },
  {
   "cell_type": "code",
   "execution_count": 1,
   "metadata": {},
   "outputs": [
    {
     "name": "stdout",
     "output_type": "stream",
     "text": [
      "enter 1st side of triangle : 5\n",
      "enter 2nd side of triangle : 4\n",
      "enter 3rd side of triangle : 3\n",
      "1st side of triangle is :  5\n",
      "2nd side of triangle is :  4\n",
      "3rd side of triangle is :  3\n",
      "Area of triangle is : 6.0\n"
     ]
    }
   ],
   "source": [
    "class triangle :\n",
    "    def getdata(self , a , b , c) :\n",
    "        self.a = a\n",
    "        self.b = b\n",
    "        self.c = c\n",
    "    def display_data (self) :\n",
    "        print(\"1st side of triangle is : \", self.a)\n",
    "        print(\"2nd side of triangle is : \",self.b)\n",
    "        print(\"3rd side of triangle is : \",self.c )\n",
    "class Area(triangle) :\n",
    "    def area_of_triangle(self) :\n",
    "        self.s = (a+b+c)/2\n",
    "        self.area = (self.s *(self.s -a)*(self.s -b)*(self.s -c)) ** 0.5\n",
    "    def display_area(self) :\n",
    "        print(\"Area of triangle is :\",self.area)\n",
    "#main program begains\n",
    "a=int(input(\"enter 1st side of triangle : \"))\n",
    "b=int(input(\"enter 2nd side of triangle : \"))\n",
    "c=int(input(\"enter 3rd side of triangle : \"))\n",
    "tri = Area()\n",
    "tri.getdata(a,b,c)\n",
    "tri.area_of_triangle()\n",
    "tri.display_data()\n",
    "tri.display_area()   "
   ]
  },
  {
   "cell_type": "markdown",
   "metadata": {},
   "source": [
    "Write a function filter_long_words() that takes a list of words and an integer n and returns the list of words that are longer than n."
   ]
  },
  {
   "cell_type": "code",
   "execution_count": 2,
   "metadata": {},
   "outputs": [
    {
     "name": "stdout",
     "output_type": "stream",
     "text": [
      "How many words you want to enter in list : 5\n",
      "vikas\n",
      "viki\n",
      "niki\n",
      "yogesh\n",
      "rubina\n",
      "Enter a integer : 4\n",
      "Our list of words :  ['vikas', 'viki', 'niki', 'yogesh', 'rubina']\n",
      "The list of words that are longer than  4  :  ['vikas', 'yogesh', 'rubina']\n"
     ]
    }
   ],
   "source": [
    "def filter_long_words(lt, n ) :\n",
    "    List = []\n",
    "    for i in lt :\n",
    "        if len(i)>n :\n",
    "            List.append(i)\n",
    "    print(\"The list of words that are longer than \", n ,\" : \", List)        \n",
    "#main program    \n",
    "lt=[]\n",
    "l=int(input(\"How many words you want to enter in list : \"))\n",
    "for i in range(0,l,1) :\n",
    "    word = input( )\n",
    "    lt.append(word)\n",
    "n = int(input(\"Enter a integer : \"))\n",
    "print(\"Our list of words : \", lt)\n",
    "filter_long_words(lt,n)"
   ]
  },
  {
   "cell_type": "markdown",
   "metadata": {},
   "source": [
    "Write a Python program using function concept that maps list of words into a list of integers representing the lengths of the corresponding words."
   ]
  },
  {
   "cell_type": "code",
   "execution_count": 3,
   "metadata": {},
   "outputs": [
    {
     "name": "stdout",
     "output_type": "stream",
     "text": [
      "How many word u want to enter in list : 5\n",
      "vikas\n",
      "viki\n",
      "rubina\n",
      "viki\n",
      "yogesh\n",
      "Our list of words :  ['vikas', 'viki', 'rubina', 'viki', 'yogesh']\n",
      "list of integers that representing the lengths of the corresponding words :  [5, 4, 6, 4, 6]\n"
     ]
    }
   ],
   "source": [
    "def list_lenght(lt) :\n",
    "    List = []\n",
    "    for i in lt :\n",
    "        List.append(len(i))\n",
    "    print(\"list of integers that representing the lengths of the corresponding words : \",List)\n",
    "#main program    \n",
    "lt = []\n",
    "n = int(input(\"How many word u want to enter in list : \"))\n",
    "for i in range (0 , n ) :\n",
    "    word = input()\n",
    "    lt.append(word)\n",
    "print(\"Our list of words : \", lt)    \n",
    "list_lenght(lt)"
   ]
  },
  {
   "cell_type": "markdown",
   "metadata": {},
   "source": [
    "Write a Python function which takes a character (i.e. a string of length 1) and returns True if it is a vowel, False otherwise."
   ]
  },
  {
   "cell_type": "code",
   "execution_count": 4,
   "metadata": {},
   "outputs": [
    {
     "name": "stdout",
     "output_type": "stream",
     "text": [
      "enter a character : i\n",
      "True\n"
     ]
    }
   ],
   "source": [
    "def Check_Vowel(ch) :\n",
    "    if ch == 'A' or ch == 'I' or ch == 'E' or ch == 'O' or ch == 'U' or ch == 'a'or ch == 'i' or ch == 'e' or ch == 'o' or ch == 'u' :\n",
    "            print(\"True\")\n",
    "    else :\n",
    "        print(\"False\")\n",
    "#main program        \n",
    "ch = input(\"enter a character : \")\n",
    "Check_Vowel(ch)"
   ]
  },
  {
   "cell_type": "code",
   "execution_count": null,
   "metadata": {},
   "outputs": [],
   "source": []
  }
 ],
 "metadata": {
  "kernelspec": {
   "display_name": "Python 3",
   "language": "python",
   "name": "python3"
  },
  "language_info": {
   "codemirror_mode": {
    "name": "ipython",
    "version": 3
   },
   "file_extension": ".py",
   "mimetype": "text/x-python",
   "name": "python",
   "nbconvert_exporter": "python",
   "pygments_lexer": "ipython3",
   "version": "3.8.3"
  }
 },
 "nbformat": 4,
 "nbformat_minor": 4
}

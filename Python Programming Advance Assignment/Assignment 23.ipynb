{
 "cells": [
  {
   "cell_type": "markdown",
   "metadata": {},
   "source": [
    "#### 1. Create a class Sudoku that takes a string as an argument. The string will contain the numbers of a regular 9x9 sudoku board left to right and top to bottom, with zeros filling up the empty cells. Attributes\n",
    "\n",
    "#### An instance of the class Sudoku will have one attribute:\n",
    "\n",
    "    - board: a list representing the board, with sublits for each row, with the numbers as integers. Empty cell represented with 0. Methods\n",
    "\n",
    "#### An instance of the class Sudoku wil have three methods:\n",
    "\n",
    "    - get_row(n): will return the row in position n.\n",
    "\n",
    "    - get_col(n): will return the column in position n.\n",
    "\n",
    "    - get_sqr([n, m]): will return the square in position n if only one argument is given, and the square to which the cell in position (n, m) belongs to if two arguments are given.\n",
    "\n",
    "Example\n",
    "\n",
    "game =\n",
    "Sudoku(&quot;417950030000000700060007000050009106800600000000003400\n",
    "900005000000430000200701580&quot;)\n",
    "\n",
    "game.board ➞ [\n",
    "[4, 1, 7, 9, 5, 0, 0, 3, 0],\n",
    "[0, 0, 0, 0, 0, 0, 7, 0, 0],\n",
    "[0, 6, 0, 0, 0, 7, 0, 0, 0],\n",
    "[0, 5, 0, 0, 0, 9, 1, 0, 6],\n",
    "[8, 0, 0, 6, 0, 0, 0, 0, 0],\n",
    "[0, 0, 0, 0, 0, 3, 4, 0, 0],\n",
    "[9, 0, 0, 0, 0, 5, 0, 0, 0],\n",
    "[0, 0, 0, 4, 3, 0, 0, 0, 0],\n",
    "[2, 0, 0, 7, 0, 1, 5, 8, 0]\n",
    "]\n",
    "\n",
    "game.get_row(0) ➞ [4, 1, 7, 9, 5, 0, 0, 3, 0]\n",
    "\n",
    "game.get_col(8) ➞ [0, 0, 0, 6, 0, 0, 0, 0, 0]\n",
    "\n",
    "game.get_sqr(1) ➞ [9, 5, 0, 0, 0, 0, 0, 0, 7]\n",
    "\n",
    "game.get_sqr(1, 8) ➞ [0, 3, 0, 7, 0, 0, 0, 0, 0]\n",
    "\n",
    "game.get_sqr(8, 3) ➞ [0, 0, 5, 4, 3, 0, 7, 0, 1]"
   ]
  },
  {
   "cell_type": "code",
   "execution_count": 1,
   "metadata": {},
   "outputs": [],
   "source": [
    "class Sudoku:\n",
    "    \n",
    "    def __init__(self,String):\n",
    "        self.board = []\n",
    "        for val in range(0,len(String),9):\n",
    "            self.board.append([int(string) for string in String[val:val+9]])\n",
    "            \n",
    "    def get_row(self,row):\n",
    "        return self.board[row]\n",
    "    \n",
    "    def get_col(self,column):\n",
    "        ans = []\n",
    "        for val in self.board:\n",
    "            ans.append(val[column])\n",
    "        return ans\n",
    "    \n",
    "    def get_sqr(self,row,column=None):\n",
    "        output = []\n",
    "        square_to_cell = {\n",
    "            0 : [[0,1,2],[0,1,2]],\n",
    "            1 : [[0,1,2],[3,4,5]],\n",
    "            2 : [[0,1,2],[6,7,8]],\n",
    "            3 : [[3,4,5],[0,1,2]],\n",
    "            4 : [[3,4,5],[3,4,5]],\n",
    "            5 : [[3,4,5],[6,7,8]],\n",
    "            6 : [[6,7,8],[0,1,2]],\n",
    "            7 : [[6,7,8],[3,4,5]],\n",
    "            8 : [[6,7,8],[6,7,8]]\n",
    "        }\n",
    "        \n",
    "        if column == None:\n",
    "            for i in square_to_cell[row][0]:\n",
    "                for j in square_to_cell[row][1]:\n",
    "                    output.append(self.board[i][j])\n",
    "        else:\n",
    "            square = None\n",
    "            if row <= 2:\n",
    "                square = 0 if column <=2 else 1 if column <=5 else 2\n",
    "            elif row <= 5:\n",
    "                square = 3 if column <=2 else 4 if column <=5 else 5\n",
    "            else:\n",
    "                square = 6 if column <=2 else 7 if column <=5 else 8\n",
    "            for i in square_to_cell[square][0]:\n",
    "                for j in square_to_cell[square][1]:\n",
    "                    output.append(self.board[i][j])\n",
    "        return output"
   ]
  },
  {
   "cell_type": "code",
   "execution_count": 2,
   "metadata": {},
   "outputs": [],
   "source": [
    "game = Sudoku(\"417950030000000700060007000050009106800600000000003400900005000000430000200701580\")"
   ]
  },
  {
   "cell_type": "code",
   "execution_count": 3,
   "metadata": {},
   "outputs": [
    {
     "data": {
      "text/plain": [
       "[[4, 1, 7, 9, 5, 0, 0, 3, 0],\n",
       " [0, 0, 0, 0, 0, 0, 7, 0, 0],\n",
       " [0, 6, 0, 0, 0, 7, 0, 0, 0],\n",
       " [0, 5, 0, 0, 0, 9, 1, 0, 6],\n",
       " [8, 0, 0, 6, 0, 0, 0, 0, 0],\n",
       " [0, 0, 0, 0, 0, 3, 4, 0, 0],\n",
       " [9, 0, 0, 0, 0, 5, 0, 0, 0],\n",
       " [0, 0, 0, 4, 3, 0, 0, 0, 0],\n",
       " [2, 0, 0, 7, 0, 1, 5, 8, 0]]"
      ]
     },
     "execution_count": 3,
     "metadata": {},
     "output_type": "execute_result"
    }
   ],
   "source": [
    "game.board"
   ]
  },
  {
   "cell_type": "code",
   "execution_count": 4,
   "metadata": {},
   "outputs": [
    {
     "data": {
      "text/plain": [
       "[4, 1, 7, 9, 5, 0, 0, 3, 0]"
      ]
     },
     "execution_count": 4,
     "metadata": {},
     "output_type": "execute_result"
    }
   ],
   "source": [
    "game.get_row(0)"
   ]
  },
  {
   "cell_type": "code",
   "execution_count": 5,
   "metadata": {},
   "outputs": [
    {
     "data": {
      "text/plain": [
       "[0, 0, 0, 6, 0, 0, 0, 0, 0]"
      ]
     },
     "execution_count": 5,
     "metadata": {},
     "output_type": "execute_result"
    }
   ],
   "source": [
    "game.get_col(8)"
   ]
  },
  {
   "cell_type": "code",
   "execution_count": 6,
   "metadata": {},
   "outputs": [
    {
     "data": {
      "text/plain": [
       "[9, 5, 0, 0, 0, 0, 0, 0, 7]"
      ]
     },
     "execution_count": 6,
     "metadata": {},
     "output_type": "execute_result"
    }
   ],
   "source": [
    "game.get_sqr(1)"
   ]
  },
  {
   "cell_type": "code",
   "execution_count": 7,
   "metadata": {},
   "outputs": [
    {
     "data": {
      "text/plain": [
       "[0, 3, 0, 7, 0, 0, 0, 0, 0]"
      ]
     },
     "execution_count": 7,
     "metadata": {},
     "output_type": "execute_result"
    }
   ],
   "source": [
    "game.get_sqr(1, 8)"
   ]
  },
  {
   "cell_type": "code",
   "execution_count": 8,
   "metadata": {},
   "outputs": [
    {
     "data": {
      "text/plain": [
       "[0, 0, 5, 4, 3, 0, 7, 0, 1]"
      ]
     },
     "execution_count": 8,
     "metadata": {},
     "output_type": "execute_result"
    }
   ],
   "source": [
    "game.get_sqr(8, 3)"
   ]
  },
  {
   "cell_type": "markdown",
   "metadata": {},
   "source": [
    "#### 2. The function input is two non-empty linked lists representing two non- negative integers. The digits are stored in reverse order, and each of their nodes contains a single digit. Add the two numbers and return the sum as a linked list, in which the digits are also stored in reversed order. The class ListNode, building block of the linked list, is defined in the Tests tab.\n",
    "\n",
    "Class definition\n",
    "\n",
    "    class ListNode:\n",
    "        def __init__(self, val=0, next=None):\n",
    "            self.val = val\n",
    "            self.next = next\n",
    "\n",
    "Examples\n",
    "\n",
    "lt1 = ListNode(2)\n",
    "\n",
    "lt1.add_data([4, 3])\n",
    "\n",
    "lt2 = ListNode(5)\n",
    "\n",
    "lt2.add_data([6, 4])\n",
    "#print(lt1.get_data()) # [2, 4, 3]\n",
    "#print(lt2.get_data()) # [5, 6, 4]\n",
    "#print(342 + 465) # 807\n",
    "\n",
    "add_two_numbers(lt1, lt2).get_data() ➞ [7, 0, 8]\n",
    "\n",
    "lt1 = ListNode(0)\n",
    "\n",
    "lt2 = ListNode(0)\n",
    "\n",
    "#print(lt1.get_data()) # [0]\n",
    "\n",
    "#print(lt2.get_data()) # [0]\n",
    "\n",
    "#print(0 + 0) # 0\n",
    "\n",
    "add_two_numbers(lt1, lt2).get_data() ➞ [0]\n",
    "\n",
    "lt1 = ListNode(9)\n",
    "\n",
    "lt1.add_data([9,9,9,9,9,9])\n",
    "\n",
    "lt2 = ListNode(9)\n",
    "\n",
    "lt2.add_data([9,9,9])\n",
    "\n",
    "#print(lt1.get_data()) # [9, 9, 9, 9, 9, 9, 9]\n",
    "\n",
    "#print(lt2.get_data()) # [9, 9, 9, 9]\n",
    "\n",
    "#print(9999999 + 9999) # 10009998\n",
    "\n",
    "add_two_numbers(lt1, lt2).get_data() ➞ [8, 9, 9, 9, 0, 0, 0, 1]"
   ]
  },
  {
   "cell_type": "code",
   "execution_count": 9,
   "metadata": {},
   "outputs": [],
   "source": [
    "class ListNode:\n",
    "    \n",
    "    def __init__(self, val=0, next=None):\n",
    "        self.val = val\n",
    "        self.next = next\n",
    "        self.num_list = []\n",
    "        self.num_list.append(val)\n",
    "        \n",
    "    def add_data(self,List):\n",
    "        self.num_list.extend(List)\n",
    "    \n",
    "    def get_data(self):\n",
    "        return self.num_list\n",
    "    \n",
    "class add_two_numbers:\n",
    "    \n",
    "    def __init__(self,n1,n2):\n",
    "        self.n1 = n1\n",
    "        self.n2 = n2 \n",
    "        \n",
    "    def get_data(self):\n",
    "        it1 = ''.join([str(val) for val in self.n1.get_data()[::-1]])\n",
    "        it2 = ''.join([str(val) for val in self.n2.get_data()[::-1]])\n",
    "        return [int(x) for x in str(int(it1)+int(it2))[::-1]]"
   ]
  },
  {
   "cell_type": "code",
   "execution_count": 10,
   "metadata": {},
   "outputs": [],
   "source": [
    "lt1 = ListNode(2)\n",
    "lt1.add_data([4, 3])"
   ]
  },
  {
   "cell_type": "code",
   "execution_count": 11,
   "metadata": {},
   "outputs": [],
   "source": [
    "lt2 = ListNode(5)\n",
    "lt2.add_data([6, 4])"
   ]
  },
  {
   "cell_type": "code",
   "execution_count": 12,
   "metadata": {},
   "outputs": [
    {
     "data": {
      "text/plain": [
       "[2, 4, 3]"
      ]
     },
     "execution_count": 12,
     "metadata": {},
     "output_type": "execute_result"
    }
   ],
   "source": [
    "lt1.get_data()"
   ]
  },
  {
   "cell_type": "code",
   "execution_count": 13,
   "metadata": {},
   "outputs": [
    {
     "data": {
      "text/plain": [
       "[5, 6, 4]"
      ]
     },
     "execution_count": 13,
     "metadata": {},
     "output_type": "execute_result"
    }
   ],
   "source": [
    "lt2.get_data()"
   ]
  },
  {
   "cell_type": "code",
   "execution_count": 14,
   "metadata": {},
   "outputs": [
    {
     "data": {
      "text/plain": [
       "[7, 0, 8]"
      ]
     },
     "execution_count": 14,
     "metadata": {},
     "output_type": "execute_result"
    }
   ],
   "source": [
    "add_two_numbers(lt1, lt2).get_data()"
   ]
  },
  {
   "cell_type": "code",
   "execution_count": 15,
   "metadata": {},
   "outputs": [],
   "source": [
    "lt1 = ListNode(0)\n",
    "lt2 = ListNode(0)"
   ]
  },
  {
   "cell_type": "code",
   "execution_count": 16,
   "metadata": {},
   "outputs": [
    {
     "data": {
      "text/plain": [
       "[0]"
      ]
     },
     "execution_count": 16,
     "metadata": {},
     "output_type": "execute_result"
    }
   ],
   "source": [
    "lt1.get_data()"
   ]
  },
  {
   "cell_type": "code",
   "execution_count": 17,
   "metadata": {},
   "outputs": [
    {
     "data": {
      "text/plain": [
       "[0]"
      ]
     },
     "execution_count": 17,
     "metadata": {},
     "output_type": "execute_result"
    }
   ],
   "source": [
    "lt2.get_data()"
   ]
  },
  {
   "cell_type": "code",
   "execution_count": 18,
   "metadata": {},
   "outputs": [
    {
     "data": {
      "text/plain": [
       "[0]"
      ]
     },
     "execution_count": 18,
     "metadata": {},
     "output_type": "execute_result"
    }
   ],
   "source": [
    "add_two_numbers(lt1, lt2).get_data()"
   ]
  },
  {
   "cell_type": "code",
   "execution_count": 19,
   "metadata": {},
   "outputs": [],
   "source": [
    "lt1 = ListNode(9)\n",
    "lt1.add_data([9,9,9,9,9,9])\n",
    "\n",
    "lt2 = ListNode(9)\n",
    "lt2.add_data([9,9,9])"
   ]
  },
  {
   "cell_type": "code",
   "execution_count": 20,
   "metadata": {},
   "outputs": [
    {
     "data": {
      "text/plain": [
       "[9, 9, 9, 9, 9, 9, 9]"
      ]
     },
     "execution_count": 20,
     "metadata": {},
     "output_type": "execute_result"
    }
   ],
   "source": [
    "lt1.get_data()"
   ]
  },
  {
   "cell_type": "code",
   "execution_count": 21,
   "metadata": {},
   "outputs": [
    {
     "data": {
      "text/plain": [
       "[9, 9, 9, 9]"
      ]
     },
     "execution_count": 21,
     "metadata": {},
     "output_type": "execute_result"
    }
   ],
   "source": [
    "lt2.get_data()"
   ]
  },
  {
   "cell_type": "code",
   "execution_count": 22,
   "metadata": {},
   "outputs": [
    {
     "data": {
      "text/plain": [
       "[8, 9, 9, 9, 0, 0, 0, 1]"
      ]
     },
     "execution_count": 22,
     "metadata": {},
     "output_type": "execute_result"
    }
   ],
   "source": [
    "add_two_numbers(lt1, lt2).get_data()"
   ]
  },
  {
   "cell_type": "markdown",
   "metadata": {},
   "source": [
    "#### 3. Write a class called CoffeeShop, which has three instance variables:\n",
    "\n",
    "    1. name : a string (basically, of the shop)\n",
    "\n",
    "    2. menu : a list of items (of dict type), with each item containing the item (name of the item), type (whether a food or a drink) and price.\n",
    "\n",
    "    3. orders : an empty list and seven methods:\n",
    "\n",
    "            1. add_order: adds the name of the item to the end of the orders list if it exists on the menu, otherwise, return &quot;This item is currently unavailable!&quot;\n",
    "\n",
    "            2. fulfill_order: if the orders list is not empty, return &quot;The {item} is ready!&quot;. If the orders list is empty, return &quot;All orders have been fulfilled!&quot;\n",
    "\n",
    "            3. list_orders: returns the item names of the orders taken, otherwise, an empty list.\n",
    "\n",
    "            4. due_amount: returns the total amount due for the orders taken.\n",
    "\n",
    "            5. cheapest_item: returns the name of the cheapest item on the menu.\n",
    "\n",
    "            6. drinks_only: returns only the item names of type drink from the menu.\n",
    "\n",
    "            7. food_only: returns only the item names of type food from the menu.\n",
    "\n",
    "#### IMPORTANT: Orders are fulfilled in a FIFO (first-in, first-out) order.\n",
    "\n",
    "Examples\n",
    "\n",
    "tcs.add_order(&quot;hot cocoa&quot;) ➞ &quot;This item is currently unavailable!&quot;\n",
    "#Tesha&#39;s coffee shop does not sell hot cocoa\n",
    "\n",
    "tcs.add_order(&quot;iced tea&quot;) ➞ &quot;This item is currently unavailable!&quot;\n",
    "#specifying the variant of &quot;iced tea&quot; will help the process\n",
    "\n",
    "tcs.add_order(&quot;cinnamon roll&quot;) ➞ &quot;Order added!&quot;\n",
    "\n",
    "tcs.add_order(&quot;iced coffee&quot;) ➞ &quot;Order added!&quot;\n",
    "\n",
    "tcs.list_orders ➞ [&quot;cinnamon roll&quot;, &quot;iced coffee&quot;]\n",
    "\n",
    "#all items of the current order\n",
    "\n",
    "tcs.due_amount() ➞ 2.17\n",
    "\n",
    "tcs.fulfill_order() ➞ &quot;The cinnamon roll is ready!&quot;\n",
    "\n",
    "tcs.fulfill_order() ➞ &quot;The iced coffee is ready!&quot;\n",
    "\n",
    "tcs.fulfill_order() ➞ &quot;All orders have been fulfilled!&quot;\n",
    "#all orders have been presumably served\n",
    "\n",
    "tcs.list_orders() ➞ []\n",
    "#an empty list is returned if all orders have been exhausted\n",
    "\n",
    "tcs.due_amount() ➞ 0.0\n",
    "#no new orders taken, expect a zero payable\n",
    "\n",
    "tcs.cheapest_item() ➞ &quot;lemonade&quot;\n",
    "\n",
    "tcs.drinks_only() ➞ [&quot;orange juice&quot;, &quot;lemonade&quot;, &quot;cranberry juice&quot;, &quot;pineapple\n",
    "juice&quot;, &quot;lemon iced tea&quot;, &quot;vanilla chai latte&quot;, &quot;hot chocolate&quot;, &quot;iced coffee&quot;]\n",
    "\n",
    "tcs.food_only() ➞ [&quot;tuna sandwich&quot;, &quot;ham and cheese sandwich&quot;, &quot;bacon and\n",
    "egg&quot;, &quot;steak&quot;, &quot;hamburger&quot;, &quot;cinnamon roll&quot;]"
   ]
  },
  {
   "cell_type": "code",
   "execution_count": 23,
   "metadata": {},
   "outputs": [],
   "source": [
    "Menu = [\n",
    "    {'name':'Orange Juice','type':'drink','price':25.50},\n",
    "    {'name':'Lemonade','type':'drink','price':10},\n",
    "    {'name':'Cranberry Juice','type':'drink','price':40},\n",
    "    {'name':'Pineapple Juice','type':'drink','price':40},\n",
    "    {'name':'Lemon Iced Tea','type':'drink','price':80},\n",
    "    {'name':'Vanilla Chai Latte','type':'drink','price':90},\n",
    "    {'name':'Hot Choclate','type':'drink','price':100},\n",
    "    {'name':'Iced Cofee','type':'drink','price':70.12},\n",
    "    {'name':'Tuna Sandwich','type':'food','price':120},\n",
    "    {'name':'Ham Cheese Sandwich','type':'food','price':180},\n",
    "    {'name':'Bacon And Egg','type':'food','price': 120},\n",
    "    {'name':'Chicken Biryani','type':'food','price':360},\n",
    "    {'name':'Veg Burger','type':'food','price':90},\n",
    "    {'name':'Cinnamon Roll','type':'food','price':60.25}\n",
    "]"
   ]
  },
  {
   "cell_type": "code",
   "execution_count": 24,
   "metadata": {},
   "outputs": [],
   "source": [
    "class Cofeeshop:\n",
    "    \n",
    "    def __init__(self,name,menu,orders):\n",
    "        self.name = name\n",
    "        self.menu = menu\n",
    "        self.orders = orders\n",
    "    \n",
    "    def add_order(self, order_name):\n",
    "        available_items = [item['name'].lower() for item in self.menu]\n",
    "        if order_name in available_items:\n",
    "            output = \"Order added!\"\n",
    "            self.orders.append(order_name)\n",
    "        else:\n",
    "            output = \"This item is currently unavailable!\"\n",
    "        return output\n",
    "    \n",
    "    def list_orders(self):\n",
    "        return self.orders\n",
    "    \n",
    "    def due_amount(self):\n",
    "        output = sum([item['price'] for item in self.menu if item['name'].lower() in self.orders])\n",
    "        return output\n",
    "    \n",
    "    def fulfill_order(self):\n",
    "        if len(self.orders) > 0:\n",
    "            output = f'The {self.orders.pop(0)} is ready!'\n",
    "        else:\n",
    "            output = 'All orders have been fulfilled!'\n",
    "        return output\n",
    "        \n",
    "    def cheapest_item(self):\n",
    "        lowest_price = min([item['price'] for item in self.menu])\n",
    "        output = [item['name'] for item in self.menu if item['price'] == lowest_price]\n",
    "        return output[0]\n",
    "        \n",
    "    def drinks_only(self):\n",
    "        output = [item['name'] for item in self.menu if item['type'] == 'drink']\n",
    "        return output\n",
    "    \n",
    "    def food_only(self):\n",
    "        output = [item['name'] for item in self.menu if item['type'] == 'food']\n",
    "        return output"
   ]
  },
  {
   "cell_type": "code",
   "execution_count": 25,
   "metadata": {},
   "outputs": [],
   "source": [
    "tcs = Cofeeshop('Tesha\\'s Cofee Shop',Menu,[])"
   ]
  },
  {
   "cell_type": "code",
   "execution_count": 26,
   "metadata": {},
   "outputs": [
    {
     "data": {
      "text/plain": [
       "'This item is currently unavailable!'"
      ]
     },
     "execution_count": 26,
     "metadata": {},
     "output_type": "execute_result"
    }
   ],
   "source": [
    "tcs.add_order(\"hot cocoa\")"
   ]
  },
  {
   "cell_type": "code",
   "execution_count": 27,
   "metadata": {},
   "outputs": [
    {
     "data": {
      "text/plain": [
       "'This item is currently unavailable!'"
      ]
     },
     "execution_count": 27,
     "metadata": {},
     "output_type": "execute_result"
    }
   ],
   "source": [
    "tcs.add_order(\"iced tea\")"
   ]
  },
  {
   "cell_type": "code",
   "execution_count": 28,
   "metadata": {},
   "outputs": [
    {
     "data": {
      "text/plain": [
       "'Order added!'"
      ]
     },
     "execution_count": 28,
     "metadata": {},
     "output_type": "execute_result"
    }
   ],
   "source": [
    "tcs.add_order(\"cinnamon roll\")"
   ]
  },
  {
   "cell_type": "code",
   "execution_count": 29,
   "metadata": {},
   "outputs": [
    {
     "data": {
      "text/plain": [
       "'Order added!'"
      ]
     },
     "execution_count": 29,
     "metadata": {},
     "output_type": "execute_result"
    }
   ],
   "source": [
    "tcs.add_order(\"iced cofee\")"
   ]
  },
  {
   "cell_type": "code",
   "execution_count": 30,
   "metadata": {},
   "outputs": [
    {
     "data": {
      "text/plain": [
       "['cinnamon roll', 'iced cofee']"
      ]
     },
     "execution_count": 30,
     "metadata": {},
     "output_type": "execute_result"
    }
   ],
   "source": [
    "tcs.list_orders()"
   ]
  },
  {
   "cell_type": "code",
   "execution_count": 31,
   "metadata": {},
   "outputs": [
    {
     "data": {
      "text/plain": [
       "130.37"
      ]
     },
     "execution_count": 31,
     "metadata": {},
     "output_type": "execute_result"
    }
   ],
   "source": [
    "tcs.due_amount()"
   ]
  },
  {
   "cell_type": "code",
   "execution_count": 32,
   "metadata": {},
   "outputs": [
    {
     "data": {
      "text/plain": [
       "'The cinnamon roll is ready!'"
      ]
     },
     "execution_count": 32,
     "metadata": {},
     "output_type": "execute_result"
    }
   ],
   "source": [
    "tcs.fulfill_order()"
   ]
  },
  {
   "cell_type": "code",
   "execution_count": 33,
   "metadata": {},
   "outputs": [
    {
     "data": {
      "text/plain": [
       "'The iced cofee is ready!'"
      ]
     },
     "execution_count": 33,
     "metadata": {},
     "output_type": "execute_result"
    }
   ],
   "source": [
    "tcs.fulfill_order()"
   ]
  },
  {
   "cell_type": "code",
   "execution_count": 34,
   "metadata": {},
   "outputs": [
    {
     "data": {
      "text/plain": [
       "'All orders have been fulfilled!'"
      ]
     },
     "execution_count": 34,
     "metadata": {},
     "output_type": "execute_result"
    }
   ],
   "source": [
    "tcs.fulfill_order()"
   ]
  },
  {
   "cell_type": "code",
   "execution_count": 35,
   "metadata": {},
   "outputs": [
    {
     "data": {
      "text/plain": [
       "[]"
      ]
     },
     "execution_count": 35,
     "metadata": {},
     "output_type": "execute_result"
    }
   ],
   "source": [
    "tcs.list_orders()"
   ]
  },
  {
   "cell_type": "code",
   "execution_count": 36,
   "metadata": {},
   "outputs": [
    {
     "data": {
      "text/plain": [
       "0"
      ]
     },
     "execution_count": 36,
     "metadata": {},
     "output_type": "execute_result"
    }
   ],
   "source": [
    "tcs.due_amount()"
   ]
  },
  {
   "cell_type": "code",
   "execution_count": 37,
   "metadata": {},
   "outputs": [
    {
     "data": {
      "text/plain": [
       "'Lemonade'"
      ]
     },
     "execution_count": 37,
     "metadata": {},
     "output_type": "execute_result"
    }
   ],
   "source": [
    "tcs.cheapest_item()"
   ]
  },
  {
   "cell_type": "code",
   "execution_count": 38,
   "metadata": {},
   "outputs": [
    {
     "data": {
      "text/plain": [
       "['Tuna Sandwich',\n",
       " 'Ham Cheese Sandwich',\n",
       " 'Bacon And Egg',\n",
       " 'Chicken Biryani',\n",
       " 'Veg Burger',\n",
       " 'Cinnamon Roll']"
      ]
     },
     "execution_count": 38,
     "metadata": {},
     "output_type": "execute_result"
    }
   ],
   "source": [
    "tcs.food_only()"
   ]
  },
  {
   "cell_type": "code",
   "execution_count": 39,
   "metadata": {},
   "outputs": [
    {
     "data": {
      "text/plain": [
       "['Orange Juice',\n",
       " 'Lemonade',\n",
       " 'Cranberry Juice',\n",
       " 'Pineapple Juice',\n",
       " 'Lemon Iced Tea',\n",
       " 'Vanilla Chai Latte',\n",
       " 'Hot Choclate',\n",
       " 'Iced Cofee']"
      ]
     },
     "execution_count": 39,
     "metadata": {},
     "output_type": "execute_result"
    }
   ],
   "source": [
    "tcs.drinks_only()"
   ]
  },
  {
   "cell_type": "markdown",
   "metadata": {},
   "source": [
    "#### 4. In this challenge, write a funcion loneliest_number to find the last Lonely number inside a sequence. A number is Lonely if the distance from its closest Prime sets a new record of the sequence.\n",
    "\n",
    "Sequence = from 0 to 3\n",
    "#Any number lower than 3 doesn&#39;t have a Prime preceeding it...\n",
    "#...so that you&#39;ll consider only its next closest Prime.\n",
    "\n",
    "0 has distance 2 from its closest Prime (2)\n",
    "#It&#39;s a new record! 0 It&#39;s the first lonely number of the sequence\n",
    "\n",
    "1 has distance 1 from its closest Prime (2)\n",
    "\n",
    "2 has distance 1 from 3\n",
    "\n",
    "3 has distance 1 from 2\n",
    "#The sequence 0 to 3 has only one Lonely number: 0\n",
    "\n",
    "Sequence = Numbers from 5 to 10\n",
    "\n",
    "5 has distance 2 from its closest Prime (3 or 7)\n",
    "#It&#39;s a new record! 5 It&#39;s the first lonely number of the sequence\n",
    "\n",
    "6 has distance 1 from 5 or 7\n",
    "\n",
    "7 has distance 2 from 5\n",
    "\n",
    "8 has distance 1 from 7\n",
    "\n",
    "9 has distance 2 from 7 or 11\n",
    "\n",
    "10 has distance 1 from 11\n",
    "#The sequence 5 to 10 has only one Lonely number: 5\n",
    "\n",
    "Sequence = Numbers from 19 to 24\n",
    "\n",
    "19 has distance 2 from its closest Prime (17)\n",
    "#It&#39;s a new record! 19 It&#39;s the first lonely number of the sequence\n",
    "\n",
    "20 has distance 1 from 19\n",
    "\n",
    "21 has distance 2 from 5\n",
    "\n",
    "22 has distance 1 from 23\n",
    "\n",
    "23 has distance 4 from 17 or 29\n",
    "#It&#39;s a new record! 23 is the second lonely number of the sequence\n",
    "\n",
    "24 has distance 1 from 23\n",
    "#The sequence 19 to 24 has two Lonely numbers: 19 and 23\n",
    "\n",
    "#### The function loneliest_number must accept two integers lo and hi being the inclusive bounds of the sequence to analyze, and returns a dictionay (dict) object with the following keys and values:\n",
    "\n",
    "    - number: is the last Lonely number found in the given sequence;\n",
    "\n",
    "    - distance: is the distance of the number from its closest Prime;\n",
    "\n",
    "    - closest: is the Prime closest to number (if two Primes are equally distant from number, return the higher Prime).\n",
    "\n",
    "Examples\n",
    "\n",
    "loneliest_number(0, 22) ➞ {\n",
    "number: 0, distance: 2, closest: 2\n",
    "}\n",
    "\n",
    "loneliest_number(8, 123) ➞ {\n",
    "number: 53, distance: 6, closest: 59\n",
    "}\n",
    "\n",
    "loneliest_number(938, 1190) ➞ {\n",
    "number: 1140, distance: 11, closest: 1151\n",
    "}\n",
    "\n",
    "loneliest_number(120, 1190) ➞ {\n",
    "number: 211, distance: 12, closest: 223\n",
    "}"
   ]
  },
  {
   "cell_type": "code",
   "execution_count": 40,
   "metadata": {},
   "outputs": [],
   "source": [
    "def loneliest_number(start,end):\n",
    "    \n",
    "    prime_list = []\n",
    "    output = {'number': 0, 'distance': 0, 'closest': 0}\n",
    "    temp = []\n",
    "    if start <=3: \n",
    "        prime_list.extend([2,3])\n",
    "    \n",
    "    for ele in range(start,end+1):\n",
    "        if (ele-1)%6 == 0 or (ele+1)%6 == 0: \n",
    "            prime_list.append(ele)\n",
    "    \n",
    "    for ele in prime_list:\n",
    "        for item in range(2,ele):\n",
    "            if ele%item == 0 :\n",
    "                temp.append(ele)\n",
    "                break    \n",
    "    \n",
    "    prime_list = sorted(set(prime_list)-set(temp))\n",
    "    \n",
    "    if start in [4,5] : print(3) ; prime_list.insert(0,3) \n",
    "    \n",
    "    else:\n",
    "        for ele in range(start-1,0,-1):\n",
    "            if (ele-1)%6 == 0 or (ele+1)%6 == 0:\n",
    "                prime_list.insert(0,ele)\n",
    "                break\n",
    "    \n",
    "    while True:\n",
    "        if (end-1)%6 == 0 or (end+1)%6 == 0:\n",
    "            out_num = None\n",
    "            \n",
    "            for ele in range(2,end):\n",
    "                if end%ele == 0:\n",
    "                    out_num = ele\n",
    "                    break\n",
    "            if out_num == None: prime_list.append(end) ; break\n",
    "            \n",
    "            else: \n",
    "                end +=1\n",
    "        else:\n",
    "            end+=1          \n",
    "    \n",
    "    if 1 in prime_list: \n",
    "        prime_list.remove(1)                 \n",
    "    \n",
    "    for ele in range(start,end):\n",
    "        org_ele = ele\n",
    "        while True:\n",
    "            if ele in prime_list:\n",
    "                n_f_prime = ele if ele != org_ele else prime_list[prime_list.index(ele)+1]\n",
    "                n_b_prime = prime_list[prime_list.index(ele)-1] if prime_list.index(ele) > 0 else 0\n",
    "                closest_distance = min(org_ele-n_b_prime,n_f_prime-org_ele) if n_b_prime !=0 else n_f_prime-org_ele \n",
    "                closest_prime = n_f_prime if n_b_prime == 0 or closest_distance == n_f_prime-org_ele else n_b_prime\n",
    "                \n",
    "                if output['distance'] < closest_distance:\n",
    "                    output = {'number': org_ele, 'distance': closest_distance, 'closest': closest_prime}\n",
    "                break\n",
    "            \n",
    "            else:\n",
    "                ele +=1\n",
    "    return output"
   ]
  },
  {
   "cell_type": "code",
   "execution_count": 41,
   "metadata": {},
   "outputs": [
    {
     "data": {
      "text/plain": [
       "{'number': 0, 'distance': 2, 'closest': 2}"
      ]
     },
     "execution_count": 41,
     "metadata": {},
     "output_type": "execute_result"
    }
   ],
   "source": [
    "loneliest_number(0,22)"
   ]
  },
  {
   "cell_type": "code",
   "execution_count": 42,
   "metadata": {},
   "outputs": [
    {
     "data": {
      "text/plain": [
       "{'number': 120, 'distance': 7, 'closest': 127}"
      ]
     },
     "execution_count": 42,
     "metadata": {},
     "output_type": "execute_result"
    }
   ],
   "source": [
    "loneliest_number(8, 123)"
   ]
  },
  {
   "cell_type": "code",
   "execution_count": 43,
   "metadata": {},
   "outputs": [
    {
     "data": {
      "text/plain": [
       "{'number': 1140, 'distance': 11, 'closest': 1151}"
      ]
     },
     "execution_count": 43,
     "metadata": {},
     "output_type": "execute_result"
    }
   ],
   "source": [
    "loneliest_number(938, 1190) "
   ]
  },
  {
   "cell_type": "code",
   "execution_count": 44,
   "metadata": {},
   "outputs": [
    {
     "data": {
      "text/plain": [
       "{'number': 211, 'distance': 12, 'closest': 223}"
      ]
     },
     "execution_count": 44,
     "metadata": {},
     "output_type": "execute_result"
    }
   ],
   "source": [
    "loneliest_number(120, 1190)"
   ]
  },
  {
   "cell_type": "markdown",
   "metadata": {},
   "source": [
    "#### 5. Implement a class Selfie that can store the current state of the object in the form of binary string. It can take multiple pictures and then recover to a state it was before. During testing an object will be provided with new attributes and their values. It will store its state. Then the values will be changed. Then it will be given new attributes. It will store its state again. It will be repeated few times.\n",
    "\n",
    "#### Later the states of the object will be recovered given an index. The return value should be a new Selfie with the requested historic state and the state history of the new object should be updated with a copy of current object&#39;s state history.\n",
    "\n",
    "#### The object also knows how many states it has stored. If the index is not within the range of stored states, the object stays as is. If the argument is invalid, n &lt; 0 or n &gt;= self.n_states(), the current object (or a copy thereof) should be returned.\n",
    "\n",
    "Examples\n",
    "\n",
    "p = Selfie()\n",
    "\n",
    "p.x = 2\n",
    "\n",
    "p.save_state()\n",
    "\n",
    "p.x = 5\n",
    "\n",
    "p = p.recover_state(0)\n",
    "\n",
    "p.x ➞ 2"
   ]
  },
  {
   "cell_type": "code",
   "execution_count": 45,
   "metadata": {},
   "outputs": [],
   "source": [
    "class Selfie:\n",
    "    \n",
    "    def __init__(self,x=None):\n",
    "        self.x = x\n",
    "        self.archived_states = []\n",
    "    \n",
    "    def save_state(self):\n",
    "        self.archived_states.append(self.x)\n",
    "        self.x = None\n",
    "        return self.archived_states\n",
    "    \n",
    "    def recover_state(self,num):\n",
    "        if num >=0 and num <= len(self.archived_states):\n",
    "            self.x = self.archived_states[num]\n",
    "        return self"
   ]
  },
  {
   "cell_type": "code",
   "execution_count": 46,
   "metadata": {},
   "outputs": [],
   "source": [
    "p = Selfie()\n",
    "p.x = 2"
   ]
  },
  {
   "cell_type": "code",
   "execution_count": 47,
   "metadata": {},
   "outputs": [
    {
     "data": {
      "text/plain": [
       "[2]"
      ]
     },
     "execution_count": 47,
     "metadata": {},
     "output_type": "execute_result"
    }
   ],
   "source": [
    "p.save_state()"
   ]
  },
  {
   "cell_type": "code",
   "execution_count": 48,
   "metadata": {},
   "outputs": [],
   "source": [
    "p.x = 5"
   ]
  },
  {
   "cell_type": "code",
   "execution_count": 49,
   "metadata": {},
   "outputs": [
    {
     "data": {
      "text/plain": [
       "2"
      ]
     },
     "execution_count": 49,
     "metadata": {},
     "output_type": "execute_result"
    }
   ],
   "source": [
    "p = p.recover_state(0)\n",
    "\n",
    "p.x"
   ]
  },
  {
   "cell_type": "code",
   "execution_count": null,
   "metadata": {},
   "outputs": [],
   "source": []
  }
 ],
 "metadata": {
  "kernelspec": {
   "display_name": "Python 3",
   "language": "python",
   "name": "python3"
  },
  "language_info": {
   "codemirror_mode": {
    "name": "ipython",
    "version": 3
   },
   "file_extension": ".py",
   "mimetype": "text/x-python",
   "name": "python",
   "nbconvert_exporter": "python",
   "pygments_lexer": "ipython3",
   "version": "3.8.3"
  }
 },
 "nbformat": 4,
 "nbformat_minor": 4
}

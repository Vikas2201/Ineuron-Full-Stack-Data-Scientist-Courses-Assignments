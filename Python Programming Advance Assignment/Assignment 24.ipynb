{
 "cells": [
  {
   "cell_type": "markdown",
   "metadata": {},
   "source": [
    "#### 1. Implement a class iterator to flatten a nested list of lists of integers. Each list element is either an integer or a list. There can be many levels of nested lists in lists.\n",
    "\n",
    "#### The class initializes with a nested list. It also has two methods:\n",
    "\n",
    "    1. next() returns an integer in the order of appearance.\n",
    "\n",
    "    2. hasNext() returns True / False regarding if all integers have been retrieved or not.\n",
    "\n",
    "#### Write the Class implementation for three required methods.\n",
    "\n",
    "Examples\n",
    "\n",
    "ni, actual = NestedIterator([[1, 1], 2, [1, 1]]), []\n",
    "\n",
    "while ni.hasNext():\n",
    "\n",
    "actual.append(ni.next())\n",
    "actual ➞ [1, 1, 2, 1, 1]\n",
    "\n",
    "ni, actual = NestedIterator([1, [4, [6]]]), []\n",
    "\n",
    "while ni.hasNext():\n",
    "\n",
    "actual.append(ni.next())\n",
    "actual ➞ [1, 4, 6]\n",
    "\n",
    "ni, actual = NestedIterator([[[]], []]), []\n",
    "\n",
    "while ni.hasNext():\n",
    "\n",
    "actual.append(ni.next())\n",
    "\n",
    "actual ➞ []"
   ]
  },
  {
   "cell_type": "code",
   "execution_count": 1,
   "metadata": {},
   "outputs": [],
   "source": [
    "class NestedIterator:\n",
    "    \n",
    "    def __init__(self,List):\n",
    "        self.list = List\n",
    "        self.flatten_list = []\n",
    "        self.test(self.list)\n",
    "    \n",
    "    def test(self,List):\n",
    "        for ele in List:\n",
    "            if isinstance(ele,int):\n",
    "                self.flatten_list.append(ele)\n",
    "            else:\n",
    "                self.test(ele)\n",
    "                \n",
    "    def hasNext(self):\n",
    "        return True if len(self.flatten_list) > 0 else False\n",
    "    \n",
    "    def next(self):\n",
    "        return self.flatten_list.pop(0)"
   ]
  },
  {
   "cell_type": "code",
   "execution_count": 2,
   "metadata": {},
   "outputs": [
    {
     "data": {
      "text/plain": [
       "[1, 1, 2, 1, 1]"
      ]
     },
     "execution_count": 2,
     "metadata": {},
     "output_type": "execute_result"
    }
   ],
   "source": [
    "ni, actual = NestedIterator([[1, 1], 2, [1, 1]]), []\n",
    "while ni.hasNext():\n",
    "    actual.append(ni.next())\n",
    "actual"
   ]
  },
  {
   "cell_type": "code",
   "execution_count": 3,
   "metadata": {},
   "outputs": [
    {
     "data": {
      "text/plain": [
       "[1, 4, 6]"
      ]
     },
     "execution_count": 3,
     "metadata": {},
     "output_type": "execute_result"
    }
   ],
   "source": [
    "ni, actual = NestedIterator([1, [4, [6]]]), []\n",
    "while ni.hasNext():\n",
    "    actual.append(ni.next())\n",
    "actual"
   ]
  },
  {
   "cell_type": "code",
   "execution_count": 4,
   "metadata": {},
   "outputs": [
    {
     "data": {
      "text/plain": [
       "[]"
      ]
     },
     "execution_count": 4,
     "metadata": {},
     "output_type": "execute_result"
    }
   ],
   "source": [
    "ni, actual = NestedIterator([[[]], []]), []\n",
    "while ni.hasNext():\n",
    "    actual.append(ni.next())\n",
    "actual"
   ]
  },
  {
   "cell_type": "markdown",
   "metadata": {},
   "source": [
    "#### 2. Implement the class Shape that receives perimeter and density function into __init__ method. The list of consecutive corners defines shape of a 2- dimensional object. The density function defines the mass distribution inside the shape. To compute mass in a certain point m(x, y) = small_square * density(x, y). The __init__ method calls other internal methods that compute three characteristics of the shape:\n",
    "\n",
    "    - area\n",
    "\n",
    "    - total mass\n",
    "\n",
    "    - center of mass (xc, yc)\n",
    "\n",
    "#### The computational grid has distance between two neighboring points as 2 * delta, the distance between a grid point and the perimeter wall is delta.\n",
    "\n",
    "Examples\n",
    "\n",
    "sh_ex1 = Shape([(1, 1), (3, 1), (3, 2), (1, 2)], lambda x, y: 100 + 100 * x)\n",
    "\n",
    "sh_ex1.area ➞ 2.0\n",
    "\n",
    "sh_ex1.mass ➞ 600.0\n",
    "\n",
    "sh_ex1.mass_center ➞ (2.1, 1.5)\n",
    "\n",
    "#### The example can be verified via analytical integration. Other shapes in Tests are slightly more complicated and require numerical integration as illustrated here:"
   ]
  },
  {
   "cell_type": "code",
   "execution_count": null,
   "metadata": {},
   "outputs": [],
   "source": []
  },
  {
   "cell_type": "markdown",
   "metadata": {},
   "source": [
    "#### 3. Given a 3x3 matrix of a completed tic-tac-toe game, create a function that returns whether the game is a win for &quot;X&quot;, &quot;O&quot;, or a &quot;Draw&quot;, where &quot;X&quot; and &quot;O&quot; represent themselves on the matrix, and &quot;E&quot; represents an empty spot.\n",
    "\n",
    "Examples\n",
    "\n",
    "tic_tac_toe([\n",
    "[&quot;X&quot;, &quot;O&quot;, &quot;X&quot;],\n",
    "[&quot;O&quot;, &quot;X&quot;, &quot;O&quot;],\n",
    "[&quot;O&quot;, &quot;X&quot;, &quot;X&quot;]\n",
    "]) ➞ &quot;X&quot;\n",
    "\n",
    "tic_tac_toe([\n",
    "[&quot;O&quot;, &quot;O&quot;, &quot;O&quot;],\n",
    "[&quot;O&quot;, &quot;X&quot;, &quot;X&quot;],\n",
    "[&quot;E&quot;, &quot;X&quot;, &quot;X&quot;]\n",
    "]) ➞ &quot;O&quot;\n",
    "\n",
    "tic_tac_toe([\n",
    "[&quot;X&quot;, &quot;X&quot;, &quot;O&quot;],\n",
    "[&quot;O&quot;, &quot;O&quot;, &quot;X&quot;],\n",
    "[&quot;X&quot;, &quot;X&quot;, &quot;O&quot;]\n",
    "]) ➞ &quot;Draw&quot;"
   ]
  },
  {
   "cell_type": "code",
   "execution_count": 5,
   "metadata": {},
   "outputs": [],
   "source": [
    "def tic_tac_toe(List):\n",
    "    winner = None  \n",
    "\n",
    "    for ele in List:\n",
    "        if len(list(set(ele))) == 1:\n",
    "            winner = list(set(ele))[0]\n",
    "            break\n",
    "     \n",
    "    if winner == None:\n",
    "        for i in range(len(List)):\n",
    "            temp = []\n",
    "            for j in range(len(List)): \n",
    "                temp.append(List[j][i])\n",
    "            if len(list(set(temp))) == 1: \n",
    "                winner = list(set(temp))[0]\n",
    "    \n",
    "    if winner == None:\n",
    "        temp = []\n",
    "        for ele in [0,1,2]:\n",
    "            temp.append(List[ele][ele])\n",
    "        if len(list(set(temp))) == 1: \n",
    "            winner = list(set(temp))[0]\n",
    "    \n",
    "    if winner == None:\n",
    "        temp = []\n",
    "        for i in [0,1,2]:\n",
    "            for j in [0,1,2]:\n",
    "                if sum([i,j]) == 2: \n",
    "                    temp.append(List[i][j])\n",
    "        if len(list(set(temp))) == 1: \n",
    "            winner = list(set(temp))[0]\n",
    "    \n",
    "    if winner == None: \n",
    "        winner = 'Draw'\n",
    "    \n",
    "    return winner"
   ]
  },
  {
   "cell_type": "code",
   "execution_count": 6,
   "metadata": {},
   "outputs": [
    {
     "data": {
      "text/plain": [
       "'X'"
      ]
     },
     "execution_count": 6,
     "metadata": {},
     "output_type": "execute_result"
    }
   ],
   "source": [
    "tic_tac_toe([[\"X\", \"O\", \"X\"],[\"O\", \"X\", \"O\"],[\"O\", \"X\", \"X\"]])"
   ]
  },
  {
   "cell_type": "code",
   "execution_count": 7,
   "metadata": {},
   "outputs": [
    {
     "data": {
      "text/plain": [
       "'O'"
      ]
     },
     "execution_count": 7,
     "metadata": {},
     "output_type": "execute_result"
    }
   ],
   "source": [
    "tic_tac_toe([[\"O\", \"O\", \"O\"],[\"O\",\"X\", \"X\"],[\"E\", \"X\", \"X\"]])"
   ]
  },
  {
   "cell_type": "code",
   "execution_count": 8,
   "metadata": {},
   "outputs": [
    {
     "data": {
      "text/plain": [
       "'Draw'"
      ]
     },
     "execution_count": 8,
     "metadata": {},
     "output_type": "execute_result"
    }
   ],
   "source": [
    "tic_tac_toe([[\"X\", \"X\", \"O\"],[\"O\", \"O\", \"X\"],[\"X\", \"X\", \"O\"]])"
   ]
  },
  {
   "cell_type": "code",
   "execution_count": 9,
   "metadata": {},
   "outputs": [
    {
     "data": {
      "text/plain": [
       "'X'"
      ]
     },
     "execution_count": 9,
     "metadata": {},
     "output_type": "execute_result"
    }
   ],
   "source": [
    "tic_tac_toe([[\"X\", \"X\", \"O\"],[\"X\", \"O\", \"X\"],[\"X\", \"O\", \"O\"]])"
   ]
  },
  {
   "cell_type": "code",
   "execution_count": 10,
   "metadata": {},
   "outputs": [
    {
     "data": {
      "text/plain": [
       "'X'"
      ]
     },
     "execution_count": 10,
     "metadata": {},
     "output_type": "execute_result"
    }
   ],
   "source": [
    "tic_tac_toe([[\"O\", \"O\", \"X\"],[\"O\", \"X\", \"O\"],[\"X\", \"O\", \"O\"]])"
   ]
  },
  {
   "cell_type": "markdown",
   "metadata": {},
   "source": [
    "#### 4. Your computer might have been infected by a virus! Create a function that finds the viruses in files and removes them from your computer.\n",
    "\n",
    "Examples\n",
    "\n",
    "remove_virus(&quot;PC Files: spotifysetup.exe, virus.exe, dog.jpg&quot;) ➞ &quot;PC Files:\n",
    "spotifysetup.exe, dog.jpg&quot;\n",
    "\n",
    "remove_virus(&quot;PC Files: antivirus.exe, cat.pdf, lethalmalware.exe,\n",
    "dangerousvirus.exe &quot;) ➞ &quot;PC Files: antivirus.exe, cat.pdf&quot;\n",
    "\n",
    "remove_virus(&quot;PC Files: notvirus.exe, funnycat.gif&quot;) ➞ &quot;PC Files:\n",
    "notvirus.exe, funnycat.gif&quot;)"
   ]
  },
  {
   "cell_type": "code",
   "execution_count": 11,
   "metadata": {},
   "outputs": [],
   "source": [
    "import re\n",
    "def remove_virus(String):\n",
    "    List = [x.strip() for x in re.split(\", \",String)]\n",
    "    ans = []\n",
    "    for ele in List:\n",
    "        if ele not in ['virus.exe','dangerousvirus.exe','lethalmalware.exe']:\n",
    "            ans.append(ele)\n",
    "    \n",
    "    return ans"
   ]
  },
  {
   "cell_type": "code",
   "execution_count": 12,
   "metadata": {},
   "outputs": [
    {
     "data": {
      "text/plain": [
       "['PC Files: spotifysetup.exe', 'dog.jpg']"
      ]
     },
     "execution_count": 12,
     "metadata": {},
     "output_type": "execute_result"
    }
   ],
   "source": [
    "remove_virus(\"PC Files: spotifysetup.exe, virus.exe, dog.jpg\")"
   ]
  },
  {
   "cell_type": "code",
   "execution_count": 13,
   "metadata": {},
   "outputs": [
    {
     "data": {
      "text/plain": [
       "['PC Files: antivirus.exe', 'cat.pdf']"
      ]
     },
     "execution_count": 13,
     "metadata": {},
     "output_type": "execute_result"
    }
   ],
   "source": [
    "remove_virus(\"PC Files: antivirus.exe, cat.pdf, lethalmalware.exe, dangerousvirus.exe \")"
   ]
  },
  {
   "cell_type": "code",
   "execution_count": 14,
   "metadata": {},
   "outputs": [
    {
     "data": {
      "text/plain": [
       "['PC Files: notvirus.exe', 'funnycat.gif']"
      ]
     },
     "execution_count": 14,
     "metadata": {},
     "output_type": "execute_result"
    }
   ],
   "source": [
    "remove_virus(\"PC Files: notvirus.exe, funnycat.gif\")"
   ]
  },
  {
   "cell_type": "markdown",
   "metadata": {},
   "source": [
    "#### 5. In a video game, a meteor will fall toward the main character&#39;s home planet. Given the meteor&#39;s trajectory as a string in the form y = mx + b and the character&#39;s position as a tuple of (x, y), return True if the meteor will hit the character and False if it will not.\n",
    "\n",
    "Examples\n",
    "\n",
    "will_hit(&quot;y = 2x - 5&quot;, (0, 0)) ➞ False\n",
    "\n",
    "will_hit(&quot;y = -4x + 6&quot;, (1, 2)) ➞ True\n",
    "\n",
    "will_hit(&quot;y = 2x + 6&quot;, (3, 2)) ➞ False"
   ]
  },
  {
   "cell_type": "code",
   "execution_count": 15,
   "metadata": {},
   "outputs": [],
   "source": [
    "def will_hit(eq,val):\n",
    "    eq_list = eq.split(\" \")\n",
    "    temp_list = []\n",
    "    for ele in eq_list:\n",
    "        if 'x' in ele or 'y'in ele:\n",
    "            if len(ele) == 1:\n",
    "                if 'x' in ele:\n",
    "                    temp_list.append(ele.replace('x',str(val[0]))) \n",
    "                else: \n",
    "                    temp_list.append(ele.replace('y',str(val[1])))\n",
    "            else:\n",
    "                if 'x' in ele:\n",
    "                    temp_list.append(ele.replace('x',f'*{val[0]}')) \n",
    "                else:\n",
    "                    temp_list.append(ele.replace('y',f'*{val[1]}'))\n",
    "        else:\n",
    "            if ele == \"=\":\n",
    "                temp_list.append(\"==\") \n",
    "            else: \n",
    "                temp_list.append(ele)\n",
    "    return eval(\" \".join(temp_list))"
   ]
  },
  {
   "cell_type": "code",
   "execution_count": 16,
   "metadata": {},
   "outputs": [
    {
     "data": {
      "text/plain": [
       "False"
      ]
     },
     "execution_count": 16,
     "metadata": {},
     "output_type": "execute_result"
    }
   ],
   "source": [
    "will_hit(\"y = 2x - 5\", (0, 0))"
   ]
  },
  {
   "cell_type": "code",
   "execution_count": 17,
   "metadata": {},
   "outputs": [
    {
     "data": {
      "text/plain": [
       "True"
      ]
     },
     "execution_count": 17,
     "metadata": {},
     "output_type": "execute_result"
    }
   ],
   "source": [
    "will_hit(\"y = -4x + 6\", (1, 2))"
   ]
  },
  {
   "cell_type": "code",
   "execution_count": 18,
   "metadata": {},
   "outputs": [
    {
     "data": {
      "text/plain": [
       "False"
      ]
     },
     "execution_count": 18,
     "metadata": {},
     "output_type": "execute_result"
    }
   ],
   "source": [
    "will_hit(\"y = 2x + 6\", (3, 2))"
   ]
  },
  {
   "cell_type": "code",
   "execution_count": null,
   "metadata": {},
   "outputs": [],
   "source": []
  }
 ],
 "metadata": {
  "kernelspec": {
   "display_name": "Python 3",
   "language": "python",
   "name": "python3"
  },
  "language_info": {
   "codemirror_mode": {
    "name": "ipython",
    "version": 3
   },
   "file_extension": ".py",
   "mimetype": "text/x-python",
   "name": "python",
   "nbconvert_exporter": "python",
   "pygments_lexer": "ipython3",
   "version": "3.8.3"
  }
 },
 "nbformat": 4,
 "nbformat_minor": 4
}

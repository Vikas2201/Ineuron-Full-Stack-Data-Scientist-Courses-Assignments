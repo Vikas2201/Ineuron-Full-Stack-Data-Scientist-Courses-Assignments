{
 "cells": [
  {
   "cell_type": "markdown",
   "metadata": {},
   "source": [
    "#### 1. Given a list of numbers, create a function that removes 25% from every number in the list except the smallest number, and adds the total amount removed to the smallest number.\n",
    "\n",
    "Examples\n",
    "\n",
    "show_the_love([4, 1, 4]) ➞ [3, 3, 3]\n",
    "\n",
    "show_the_love([16, 10, 8]) ➞ [12, 7.5, 14.5]\n",
    "\n",
    "show_the_love([2, 100]) ➞ [27, 75]"
   ]
  },
  {
   "cell_type": "code",
   "execution_count": 1,
   "metadata": {},
   "outputs": [],
   "source": [
    "def show_the_love(lt):\n",
    "    m = min(lt)\n",
    "    val = 0\n",
    "    for i in range(0,len(lt)):\n",
    "        if lt[i] != m:\n",
    "            rem_val = (0.25*lt[i])\n",
    "            lt[i] = lt[i] - rem_val\n",
    "            val += rem_val\n",
    "        else:\n",
    "            ind = i\n",
    "    lt[ind] = lt[ind] + val\n",
    "    return lt\n",
    "        "
   ]
  },
  {
   "cell_type": "code",
   "execution_count": 2,
   "metadata": {},
   "outputs": [
    {
     "data": {
      "text/plain": [
       "[3.0, 3.0, 3.0]"
      ]
     },
     "execution_count": 2,
     "metadata": {},
     "output_type": "execute_result"
    }
   ],
   "source": [
    "show_the_love([4, 1, 4])"
   ]
  },
  {
   "cell_type": "code",
   "execution_count": 3,
   "metadata": {},
   "outputs": [
    {
     "data": {
      "text/plain": [
       "[12.0, 7.5, 14.5]"
      ]
     },
     "execution_count": 3,
     "metadata": {},
     "output_type": "execute_result"
    }
   ],
   "source": [
    "show_the_love([16, 10, 8])"
   ]
  },
  {
   "cell_type": "code",
   "execution_count": 4,
   "metadata": {},
   "outputs": [
    {
     "data": {
      "text/plain": [
       "[27.0, 75.0]"
      ]
     },
     "execution_count": 4,
     "metadata": {},
     "output_type": "execute_result"
    }
   ],
   "source": [
    "show_the_love([2, 100])"
   ]
  },
  {
   "cell_type": "markdown",
   "metadata": {},
   "source": [
    "#### 2. Create a function that takes in two words as input and returns a list of three elements, in the following order:\n",
    "\n",
    "    1.Shared letters between two words.\n",
    "\n",
    "    2.Letters unique to word 1.\n",
    "\n",
    "    3.Letters unique to word 2.\n",
    "\n",
    "Each element should have unique letters, and have each letter be alphabetically sorted.\n",
    "\n",
    "Examples\n",
    "\n",
    "letters(&quot;sharp&quot;, &quot;soap&quot;) ➞ [&quot;aps&quot;, &quot;hr&quot;, &quot;o&quot;]\n",
    "\n",
    "letters(&quot;board&quot;, &quot;bored&quot;) ➞ [&quot;bdor&quot;, &quot;a&quot;, &quot;e&quot;]\n",
    "\n",
    "letters(&quot;happiness&quot;, &quot;envelope&quot;) ➞ [&quot;enp&quot;, &quot;ahis&quot;, &quot;lov&quot;]\n",
    "\n",
    "letters(&quot;kerfuffle&quot;, &quot;fluffy&quot;) ➞ [&quot;flu&quot;, &quot;ekr&quot;, &quot;y&quot;]\n",
    "#Even with multiple matching letters (e.g. 3 f&#39;s), there should\n",
    "#only exist a single &quot;f&quot; in your first element.\n",
    "\n",
    "letters(&quot;match&quot;, &quot;ham&quot;) ➞ [&quot;ahm&quot;, &quot;ct&quot;, &quot;&quot;]\n",
    "#&quot;ham&quot; does not contain any letters that are not found already\n",
    "#in &quot;match&quot;."
   ]
  },
  {
   "cell_type": "code",
   "execution_count": 5,
   "metadata": {},
   "outputs": [],
   "source": [
    "def letters(l1,l2):\n",
    "    l1 = set(l1)\n",
    "    l2 = set(l2)\n",
    "    l3 = []\n",
    "    c = \"\"\n",
    "    for i in l1:\n",
    "        if i in l2:\n",
    "            c += i\n",
    "    c = ''.join(sorted(c))\n",
    "    a = ''.join(sorted(l1.difference(l2)))\n",
    "    b = ''.join(sorted(l2.difference(l1)))\n",
    "    l3.append(c)\n",
    "    l3.append(a)\n",
    "    l3.append(b)\n",
    "    return(l3)"
   ]
  },
  {
   "cell_type": "code",
   "execution_count": 6,
   "metadata": {},
   "outputs": [
    {
     "data": {
      "text/plain": [
       "['ahm', 'ct', '']"
      ]
     },
     "execution_count": 6,
     "metadata": {},
     "output_type": "execute_result"
    }
   ],
   "source": [
    "letters(\"match\", \"ham\")"
   ]
  },
  {
   "cell_type": "code",
   "execution_count": 7,
   "metadata": {},
   "outputs": [
    {
     "data": {
      "text/plain": [
       "['flu', 'ekr', 'y']"
      ]
     },
     "execution_count": 7,
     "metadata": {},
     "output_type": "execute_result"
    }
   ],
   "source": [
    "letters(\"kerfuffle\", \"fluffy\")"
   ]
  },
  {
   "cell_type": "code",
   "execution_count": 8,
   "metadata": {},
   "outputs": [
    {
     "data": {
      "text/plain": [
       "['aps', 'hr', 'o']"
      ]
     },
     "execution_count": 8,
     "metadata": {},
     "output_type": "execute_result"
    }
   ],
   "source": [
    "letters(\"sharp\", \"soap\")"
   ]
  },
  {
   "cell_type": "markdown",
   "metadata": {},
   "source": [
    "#### 3. Write a function that pairs the first number in an array with the last, the second number with the second to last, etc.\n",
    "\n",
    "Examples\n",
    "\n",
    "pairs([1, 2, 3, 4, 5, 6, 7]) ➞ [[1, 7], [2, 6], [3, 5], [4, 4]]\n",
    "\n",
    "pairs([1, 2, 3, 4, 5, 6]) ➞ [[1, 6], [2, 5], [3, 4]]\n",
    "\n",
    "pairs([5, 9, 8, 1, 2]) ➞ [[5, 2], [9, 1], [8, 8]]\n",
    "\n",
    "pairs([]) ➞ []"
   ]
  },
  {
   "cell_type": "code",
   "execution_count": 9,
   "metadata": {},
   "outputs": [],
   "source": [
    "def pairs(lt):\n",
    "    ans = []\n",
    "    i , j = 0 , len(lt)-1\n",
    "    while(i <= j):\n",
    "        l = []\n",
    "        l.append(lt[i])\n",
    "        l.append(lt[j])\n",
    "        i += 1\n",
    "        j -= 1\n",
    "        ans.append(l)\n",
    "    return ans"
   ]
  },
  {
   "cell_type": "code",
   "execution_count": 10,
   "metadata": {},
   "outputs": [
    {
     "data": {
      "text/plain": [
       "[[1, 7], [2, 6], [3, 5], [4, 4]]"
      ]
     },
     "execution_count": 10,
     "metadata": {},
     "output_type": "execute_result"
    }
   ],
   "source": [
    "pairs([1, 2, 3, 4, 5, 6, 7])"
   ]
  },
  {
   "cell_type": "code",
   "execution_count": 11,
   "metadata": {},
   "outputs": [
    {
     "data": {
      "text/plain": [
       "[[1, 6], [2, 5], [3, 4]]"
      ]
     },
     "execution_count": 11,
     "metadata": {},
     "output_type": "execute_result"
    }
   ],
   "source": [
    "pairs([1, 2, 3, 4, 5, 6])"
   ]
  },
  {
   "cell_type": "code",
   "execution_count": 12,
   "metadata": {},
   "outputs": [
    {
     "data": {
      "text/plain": [
       "[[5, 2], [9, 1], [8, 8]]"
      ]
     },
     "execution_count": 12,
     "metadata": {},
     "output_type": "execute_result"
    }
   ],
   "source": [
    "pairs([5, 9, 8, 1, 2]) "
   ]
  },
  {
   "cell_type": "code",
   "execution_count": 13,
   "metadata": {},
   "outputs": [
    {
     "data": {
      "text/plain": [
       "[]"
      ]
     },
     "execution_count": 13,
     "metadata": {},
     "output_type": "execute_result"
    }
   ],
   "source": [
    "pairs([])"
   ]
  },
  {
   "cell_type": "markdown",
   "metadata": {},
   "source": [
    "#### 4. Write a function that adds two numbers. The catch, however, is that the numbers will be strings.\n",
    "\n",
    "Examples\n",
    "\n",
    "add_str_nums(&quot;4&quot;, &quot;5&quot;) ➞ &quot;9&quot;\n",
    "\n",
    "add_str_nums(&quot;abcdefg&quot;, &quot;3&quot;) ➞ &quot;-1&quot;\n",
    "\n",
    "add_str_nums(&quot;1&quot;, &quot;&quot;) ➞ &quot;1&quot;\n",
    "\n",
    "add_str_nums(&quot;1874682736267235927359283579235789257&quot;,&quot;32652983572985729&quot;) ➞ &quot;1874682736267235927391936562808774986&quot;"
   ]
  },
  {
   "cell_type": "code",
   "execution_count": 14,
   "metadata": {},
   "outputs": [],
   "source": [
    "def add_str_nums(n1,n2):\n",
    "    if not n1:\n",
    "        n1 = \"0\"\n",
    "    if not n2:\n",
    "        n2 = \"0\"\n",
    "    try:  \n",
    "        return str(int(n1)+int(n2))\n",
    "    except:\n",
    "        return \"-1\""
   ]
  },
  {
   "cell_type": "code",
   "execution_count": 15,
   "metadata": {},
   "outputs": [
    {
     "data": {
      "text/plain": [
       "'9'"
      ]
     },
     "execution_count": 15,
     "metadata": {},
     "output_type": "execute_result"
    }
   ],
   "source": [
    "add_str_nums(\"4\", \"5\")"
   ]
  },
  {
   "cell_type": "code",
   "execution_count": 16,
   "metadata": {},
   "outputs": [
    {
     "data": {
      "text/plain": [
       "'-1'"
      ]
     },
     "execution_count": 16,
     "metadata": {},
     "output_type": "execute_result"
    }
   ],
   "source": [
    "add_str_nums(\"abcdefg\", \"3\")"
   ]
  },
  {
   "cell_type": "code",
   "execution_count": 17,
   "metadata": {},
   "outputs": [
    {
     "data": {
      "text/plain": [
       "'1'"
      ]
     },
     "execution_count": 17,
     "metadata": {},
     "output_type": "execute_result"
    }
   ],
   "source": [
    "add_str_nums(\"1\", \"\")"
   ]
  },
  {
   "cell_type": "code",
   "execution_count": 18,
   "metadata": {},
   "outputs": [
    {
     "data": {
      "text/plain": [
       "'1874682736267235927391936562808774986'"
      ]
     },
     "execution_count": 18,
     "metadata": {},
     "output_type": "execute_result"
    }
   ],
   "source": [
    "add_str_nums(\"1874682736267235927359283579235789257\",\"32652983572985729\") "
   ]
  },
  {
   "cell_type": "markdown",
   "metadata": {},
   "source": [
    "#### 5. lPaeesh le pemu mnxit ehess rtnisg! Oh, sorry, that was supposed to say: Please help me unmix these strings! Somehow my strings have all become mixed up; every pair of characters has been swapped. Help me undo this so I can understand my strings again.\n",
    "\n",
    "Examples\n",
    "\n",
    "unmix(&quot;123456&quot;) ➞ &quot;214365&quot;\n",
    "\n",
    "unmix(&quot;hTsii s aimex dpus rtni.g&quot;) ➞ &quot;This is a mixed up string.&quot;\n",
    "\n",
    "unmix(&quot;badce&quot;) ➞ &quot;abcde&quot;"
   ]
  },
  {
   "cell_type": "code",
   "execution_count": 19,
   "metadata": {},
   "outputs": [],
   "source": [
    "def unmix(s):\n",
    "    s = ''.join([s[i:i+2][::-1] for i in range(0,len(s),2)])\n",
    "    return s"
   ]
  },
  {
   "cell_type": "code",
   "execution_count": 20,
   "metadata": {},
   "outputs": [
    {
     "data": {
      "text/plain": [
       "'214365'"
      ]
     },
     "execution_count": 20,
     "metadata": {},
     "output_type": "execute_result"
    }
   ],
   "source": [
    "unmix(\"123456\")"
   ]
  },
  {
   "cell_type": "code",
   "execution_count": 21,
   "metadata": {},
   "outputs": [
    {
     "data": {
      "text/plain": [
       "'This i siaem xpdsur nt.ig'"
      ]
     },
     "execution_count": 21,
     "metadata": {},
     "output_type": "execute_result"
    }
   ],
   "source": [
    "unmix(\"hTsii s aimex dpus rtni.g\")"
   ]
  },
  {
   "cell_type": "code",
   "execution_count": 22,
   "metadata": {},
   "outputs": [
    {
     "data": {
      "text/plain": [
       "'abcde'"
      ]
     },
     "execution_count": 22,
     "metadata": {},
     "output_type": "execute_result"
    }
   ],
   "source": [
    "unmix(\"badce\")"
   ]
  },
  {
   "cell_type": "code",
   "execution_count": null,
   "metadata": {},
   "outputs": [],
   "source": []
  },
  {
   "cell_type": "code",
   "execution_count": null,
   "metadata": {},
   "outputs": [],
   "source": []
  }
 ],
 "metadata": {
  "kernelspec": {
   "display_name": "Python 3",
   "language": "python",
   "name": "python3"
  },
  "language_info": {
   "codemirror_mode": {
    "name": "ipython",
    "version": 3
   },
   "file_extension": ".py",
   "mimetype": "text/x-python",
   "name": "python",
   "nbconvert_exporter": "python",
   "pygments_lexer": "ipython3",
   "version": "3.8.3"
  }
 },
 "nbformat": 4,
 "nbformat_minor": 4
}

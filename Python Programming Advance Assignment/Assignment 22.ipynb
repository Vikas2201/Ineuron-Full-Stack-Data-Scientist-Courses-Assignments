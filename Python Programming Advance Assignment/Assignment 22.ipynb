{
 "cells": [
  {
   "cell_type": "markdown",
   "metadata": {},
   "source": [
    "#### 1. Create a class Smoothie and do the following:\n",
    "\n",
    "####    - Create an instance attribute called ingredients.\n",
    "\n",
    "####    - Create a get_cost method which calculates the total cost of the ingredients used to make the smoothie.\n",
    "\n",
    "####    - Create a get_price method which returns the number from get_cost plus\n",
    "\n",
    "#### the number from get_cost multiplied by 1.5. Round to two decimal places.\n",
    "\n",
    "####    - Create a get_name method which gets the ingredients and puts them in alphabetical order into a nice descriptive sentence. If there are multiple ingredients, add the word &quot;Fusion&quot; to the end but otherwise, add &quot;Smoothie&quot;. Remember to change &quot;-berries&quot; to &quot;-berry&quot;. See the examples below.\n",
    "\n",
    "    Ingredient Price\n",
    "\n",
    "    Strawberries $1.50\n",
    "\n",
    "    Banana $0.50\n",
    "\n",
    "    Mango $2.50\n",
    "\n",
    "    Blueberries $1.00\n",
    "\n",
    "    Raspberries $1.00\n",
    "\n",
    "    Apple $1.75\n",
    "\n",
    "    Pineapple $3.50\n",
    "\n",
    "Examples\n",
    "\n",
    "s1 = Smoothie([&quot;Banana&quot;])\n",
    "\n",
    "s1.ingredients ➞ [&quot;Banana&quot;]\n",
    "\n",
    "s1.get_cost() ➞ &quot;$0.50&quot;\n",
    "\n",
    "s1.get_price() ➞ &quot;$1.25&quot;\n",
    "\n",
    "s1.get_name() ➞ &quot;Banana Smoothie&quot;\n",
    "\n",
    "s2 = Smoothie([&quot;Raspberries&quot;, &quot;Strawberries&quot;, &quot;Blueberries&quot;])\n",
    "\n",
    "s2.ingredients ➞ [&quot;Raspberries&quot;, &quot;Strawberries&quot;, &quot;Blueberries&quot;]\n",
    "\n",
    "s2.get_cost() ➞ &quot;$3.50&quot;\n",
    "\n",
    "s2.get_price() ➞ &quot;$8.75&quot;\n",
    "\n",
    "s2.get_name() ➞ &quot;Blueberry Raspberry Strawberry Fusion&quot;"
   ]
  },
  {
   "cell_type": "code",
   "execution_count": 1,
   "metadata": {},
   "outputs": [],
   "source": [
    "import re\n",
    "class Smoothie:\n",
    "    \n",
    "    ingredients_price = {'Strawberries':1.50, 'Banana':0.50, 'Mango':2.50, 'Blueberries':1.00, 'Raspberries':1.00, 'Apple':1.75, 'Pineapple':3.50 }\n",
    "    \n",
    "    def __init__(self,ingredients):\n",
    "        self.ingredients = ingredients\n",
    "        self.cost = 0\n",
    "    \n",
    "    def get_cost(self):\n",
    "        for ele in self.ingredients:\n",
    "            if ele in Smoothie.ingredients_price:\n",
    "                self.cost += round(Smoothie.ingredients_price.get(ele,0),2)\n",
    "        return '$'+str(self.cost)\n",
    "    \n",
    "    def get_price(self):\n",
    "        self.price = round((self.cost*1.5)+(self.cost),2)\n",
    "        return '$'+str(self.price)\n",
    "    \n",
    "    def get_name(self):\n",
    "        self.name = re.sub('berries','berry',' '.join(sorted(self.ingredients)))\n",
    "        self.name = self.name+' Smoothie' if len(self.ingredients) == 1 else self.name+' Fusion'\n",
    "        return self.name\n",
    "    "
   ]
  },
  {
   "cell_type": "code",
   "execution_count": 2,
   "metadata": {},
   "outputs": [
    {
     "name": "stdout",
     "output_type": "stream",
     "text": [
      "s1.ingredients ➞ ['Banana']\n",
      "s1.get_cost() ➞ \"$0.5\"\n",
      "s1.get_price() ➞ \"$1.25\"\n",
      "s1.get_name() ➞ \"Banana Smoothie\"\n"
     ]
    }
   ],
   "source": [
    "s1 = Smoothie([\"Banana\"])\n",
    "print(f's1.ingredients ➞ {s1.ingredients}')\n",
    "print(f's1.get_cost() ➞ \"{s1.get_cost()}\"')\n",
    "print(f's1.get_price() ➞ \"{s1.get_price()}\"')\n",
    "print(f's1.get_name() ➞ \"{s1.get_name()}\"')"
   ]
  },
  {
   "cell_type": "code",
   "execution_count": 3,
   "metadata": {},
   "outputs": [
    {
     "name": "stdout",
     "output_type": "stream",
     "text": [
      "s2.ingredients ➞ ['Raspberries', 'Strawberries', 'Blueberries']\n",
      "s2.get_cost() ➞ \"$3.5\"\n",
      "s2.get_price() ➞ \"$8.75\"\n",
      "s2.get_name() ➞ \"Blueberry Raspberry Strawberry Fusion\"\n"
     ]
    }
   ],
   "source": [
    "s2 = Smoothie([\"Raspberries\", \"Strawberries\", \"Blueberries\"])\n",
    "print(f's2.ingredients ➞ {s2.ingredients}')\n",
    "print(f's2.get_cost() ➞ \"{s2.get_cost()}\"')\n",
    "print(f's2.get_price() ➞ \"{s2.get_price()}\"')\n",
    "print(f's2.get_name() ➞ \"{s2.get_name()}\"')"
   ]
  },
  {
   "cell_type": "markdown",
   "metadata": {},
   "source": [
    "#### 2. Your task is to write a program which allows teachers to create a multiple choice test in a class called Testpaper and to be also able to assign a minimum pass mark. The testpaper&#39;s subject should also be included. The attributes are in the following order:\n",
    "\n",
    "    1. subject\n",
    "\n",
    "    2. markscheme\n",
    "\n",
    "    3. pass_mark\n",
    "\n",
    "#### As well as that, we need to create student objects to take the test itself!\n",
    "\n",
    "#### Create another class called Student and do the following:\n",
    "    \n",
    "    - Create an attribute called tests_taken and set the default as &#39;No tests taken&#39;.\n",
    "\n",
    "    - Make a method called take_test(), which takes in the testpaper object they are completing and the student&#39;s answers. Compare what they wrote to the mark scheme, and append to the/create a dictionary assigned to tests_taken in the way as shown in the point below.\n",
    "\n",
    "    - Each key in the dictionary should be the testpaper subject and each value should be a string in the format seen in the examples below (whether or not the student has failed, and their percentage in brackets).\n",
    "\n",
    "Examples\n",
    "\n",
    "paper1 = Testpaper(&quot;Maths&quot;, [&quot;1A&quot;, &quot;2C&quot;, &quot;3D&quot;, &quot;4A&quot;, &quot;5A&quot;], &quot;60%&quot;)\n",
    "\n",
    "paper2 = Testpaper(&quot;Chemistry&quot;, [&quot;1C&quot;, &quot;2C&quot;, &quot;3D&quot;, &quot;4A&quot;], &quot;75%&quot;)\n",
    "\n",
    "paper3 = Testpaper(&quot;Computing&quot;, [&quot;1D&quot;, &quot;2C&quot;, &quot;3C&quot;, &quot;4B&quot;, &quot;5D&quot;, &quot;6C&quot;, &quot;7A&quot;],\n",
    "&quot;75%&quot;)\n",
    "\n",
    "student1 = Student()\n",
    "\n",
    "student2 = Student()\n",
    "\n",
    "student1.tests_taken ➞ &quot;No tests taken&quot;\n",
    "\n",
    "student1.take_test(paper1, [&quot;1A&quot;, &quot;2D&quot;, &quot;3D&quot;, &quot;4A&quot;, &quot;5A&quot;])\n",
    "\n",
    "student1.tests_taken ➞ {&quot;Maths&quot; : &quot;Passed! (80%)&quot;}\n",
    "\n",
    "student2.take_test(paper2, [&quot;1C&quot;, &quot;2D&quot;, &quot;3A&quot;, &quot;4C&quot;])\n",
    "\n",
    "student2.take_test(paper3, [&quot;1A&quot;, &quot;2C&quot;, &quot;3A&quot;, &quot;4C&quot;, &quot;5D&quot;, &quot;6C&quot;, &quot;7B&quot;])\n",
    "\n",
    "student2.tests_taken ➞ {&quot;Chemistry&quot; : &quot;Failed! (25%)&quot;, &quot;Computing&quot; : &quot;Failed!\n",
    "(43%)&quot;}"
   ]
  },
  {
   "cell_type": "code",
   "execution_count": 4,
   "metadata": {},
   "outputs": [],
   "source": [
    "class Testpaper:\n",
    "    \n",
    "    def __init__(self,subject,markscheme,pass_mark):\n",
    "        self.subject = subject\n",
    "        self.markscheme = markscheme\n",
    "        self.pass_mark = pass_mark\n",
    "        \n",
    "class Student:\n",
    "    \n",
    "    def __init__(self):\n",
    "        self.tests_taken = \"No tests taken\"\n",
    "    \n",
    "    def take_test(self,paper_name,student_response):\n",
    "        correct_responses = 0\n",
    "        \n",
    "        for i in range(len(paper_name.markscheme)):\n",
    "            if paper_name.markscheme[i] == student_response[i]:\n",
    "                correct_responses +=1\n",
    "                \n",
    "        ach_pass_mark = int(correct_responses/len(paper_name.markscheme)*100)\n",
    "        needed_pass_mark = int(paper_name.pass_mark.split(\"%\")[0])\n",
    "        \n",
    "        if self.tests_taken == 'No tests taken':\n",
    "            self.tests_taken = {}\n",
    "        \n",
    "        if ach_pass_mark >= needed_pass_mark:\n",
    "            self.tests_taken[paper_name.subject] = f\"Passed! ({str(ach_pass_mark)}%)\"\n",
    "        \n",
    "        else:\n",
    "            self.tests_taken[paper_name.subject] = f'Failed! ({str(ach_pass_mark)}%)'\n"
   ]
  },
  {
   "cell_type": "code",
   "execution_count": 5,
   "metadata": {},
   "outputs": [],
   "source": [
    "paper1 = Testpaper(\"Maths\", [\"1A\", \"2C\", \"3D\", \"4A\", \"5A\"], \"60%\")  \n",
    "paper2 = Testpaper(\"Chemistry\", [\"1C\", \"2C\", \"3D\", \"4A\"], \"75%\")  \n",
    "paper3 = Testpaper(\"Computing\", [\"1D\", \"2C\", \"3C\", \"4B\", \"5D\", \"6C\", \"7A\"], \"75%\")"
   ]
  },
  {
   "cell_type": "code",
   "execution_count": 6,
   "metadata": {},
   "outputs": [],
   "source": [
    "student1 = Student()   \n",
    "student2 = Student()"
   ]
  },
  {
   "cell_type": "code",
   "execution_count": 7,
   "metadata": {},
   "outputs": [
    {
     "data": {
      "text/plain": [
       "'No tests taken'"
      ]
     },
     "execution_count": 7,
     "metadata": {},
     "output_type": "execute_result"
    }
   ],
   "source": [
    "student1.tests_taken"
   ]
  },
  {
   "cell_type": "code",
   "execution_count": 8,
   "metadata": {},
   "outputs": [
    {
     "data": {
      "text/plain": [
       "{'Maths': 'Passed! (80%)'}"
      ]
     },
     "execution_count": 8,
     "metadata": {},
     "output_type": "execute_result"
    }
   ],
   "source": [
    "student1.take_test(paper1, [\"1A\", \"2D\", \"3D\", \"4A\", \"5A\"])\n",
    "\n",
    "student1.tests_taken"
   ]
  },
  {
   "cell_type": "code",
   "execution_count": 9,
   "metadata": {},
   "outputs": [
    {
     "data": {
      "text/plain": [
       "{'Chemistry': 'Failed! (25%)', 'Computing': 'Failed! (42%)'}"
      ]
     },
     "execution_count": 9,
     "metadata": {},
     "output_type": "execute_result"
    }
   ],
   "source": [
    "student2.take_test(paper2, [\"1C\", \"2D\", \"3A\", \"4C\"])\n",
    "\n",
    "student2.take_test(paper3, [\"1A\", \"2C\", \"3A\", \"4C\", \"5D\", \"6C\", \"7B\"])\n",
    "\n",
    "student2.tests_taken"
   ]
  },
  {
   "cell_type": "markdown",
   "metadata": {},
   "source": [
    "#### 3. Due to unforseen circumstances in Suburbia, the trains will be delayed by a further 10 minutes.\n",
    "\n",
    "#### Create a function that will help to plan out and manage these delays! Create a function called manage_delays that does the following:\n",
    "\n",
    "####    - Parameters will be the train object, a destination and number of minutes the delay is.\n",
    "\n",
    "####    - Increment to the train object&#39;s expected_time by the delay, if the destination given is in the train object&#39;s destinations.\n",
    "\n",
    "Examples \n",
    "\n",
    "trains = [\n",
    "Train([&quot;Townsville&quot;, &quot;Suburbia&quot;, &quot;Urbantska&quot;], &quot;13:04&quot;),\n",
    "Train([&quot;Farmsdale&quot;, &quot;Suburbia&quot;, &quot;Lakeside Valley&quot;], &quot;13:20&quot;),\n",
    "Train([&quot;Suburbia&quot;, &quot;Townsville&quot;, &quot;Lakeside Valley&quot;], &quot;13:22&quot;)\n",
    "]\n",
    "\n",
    "for t in trains:\n",
    "\n",
    "    manage_delays(t, &quot;Lakeside Valley&quot;, 60)\n",
    "\n",
    "    trains[0].expected_time ➞ &quot;13:04&quot;\n",
    "\n",
    "    trains[1].expected_time ➞ &quot;14:20&quot;\n",
    "\n",
    "    trains[2].expected_time ➞ &quot;14:22&quot;"
   ]
  },
  {
   "cell_type": "code",
   "execution_count": 10,
   "metadata": {},
   "outputs": [],
   "source": [
    "class Train:\n",
    "    \n",
    "    def __init__(self,destination_list,expected_time):\n",
    "        self.destination_list = destination_list\n",
    "        self.expected_time = expected_time\n",
    "\n",
    "def manage_delays(train_obj,destination_point,delay):\n",
    "    if destination_point in train_obj.destination_list:\n",
    "        ex_time = train_obj.expected_time.split(\":\")\n",
    "        new_ex_time = str((int(ex_time[0])*60+int(ex_time[1])+int(delay))//60)+':'+str((int(ex_time[0])*60+int(ex_time[1])+int(delay))%60)\n",
    "        train_obj.expected_time = new_ex_time\n"
   ]
  },
  {
   "cell_type": "code",
   "execution_count": 11,
   "metadata": {},
   "outputs": [],
   "source": [
    "trains = [\n",
    "  Train([\"Townsville\", \"Suburbia\", \"Urbantska\"], \"13:04\"),\n",
    "  Train([\"Farmsdale\", \"Suburbia\", \"Lakeside Valley\"], \"13:20\"),\n",
    "  Train([\"Suburbia\", \"Townsville\", \"Lakeside Valley\"], \"13:22\")\n",
    "]\n",
    " "
   ]
  },
  {
   "cell_type": "code",
   "execution_count": 12,
   "metadata": {},
   "outputs": [
    {
     "name": "stdout",
     "output_type": "stream",
     "text": [
      "trains[0].expected_time ➞ \"13:04\"\n",
      "trains[1].expected_time ➞ \"14:20\"\n",
      "trains[2].expected_time ➞ \"14:22\"\n"
     ]
    }
   ],
   "source": [
    "for t in trains:\n",
    "    manage_delays(t, \"Lakeside Valley\", 60)\n",
    "        \n",
    "print(f'trains[0].expected_time ➞ \"{trains[0].expected_time}\"')    \n",
    "print(f'trains[1].expected_time ➞ \"{trains[1].expected_time}\"')    \n",
    "print(f'trains[2].expected_time ➞ \"{trains[2].expected_time}\"') "
   ]
  },
  {
   "cell_type": "markdown",
   "metadata": {},
   "source": [
    "#### 4. Ted works as a computer programmer at Minecraft Inc. His boss has just given him an important assignment to update the code for the minecart tracks by the end of April. However, he has recently had to self-isolate due to Corvid-19 and has left the code for the tracks BACK AT WORK!! He has the shorthand for the tracks he&#39;s supposed to look at, and where the carts are suppost to end up, but not the actual code.\n",
    "\n",
    "#### He knows that:\n",
    "\n",
    "####    1. &quot;--&gt;&quot; = &quot;Speed-Up Track&quot; ⁠— If a minecart interacts with this track, it&#39;s velocity increases by 2.67 BPS unless it&#39;s at its maximum speed of 8 BPS.\n",
    "\n",
    "####    2. &quot;&lt;--&gt;&quot; = &quot;Powered Track&quot; ⁠— If a minecart interacts with this track, it&#39;s velocity remains the same.\n",
    "\n",
    "####    3. &quot;&lt;--&quot; = &quot;Slow-Down Track&quot; ⁠— If a minecart interacts with this track, it&#39;s velocity decreases by 2.67 BPS unless it&#39;s velocity equals 0, at which point it stops.\n",
    "\n",
    "####    4. &quot;---&quot; = &quot;Unpowered Track&quot; ⁠— If a minecart interacts with this track, it&#39;s velocity decreases by 1 BPS unless it&#39;s velocity equals 0, at which point it stops.\n",
    "\n",
    "#### Help Ted by writing a class for the tracks that interact with the provided Minecart class as shown above. And then write a function that will take a list of the shorthand tracks and:\n",
    "\n",
    "####    - If the Minecart reaches the last peice of Track, return True.\n",
    "\n",
    "####    - Else return the index of the Track where the Minecart stops.\n",
    "\n",
    "Examples\n",
    "\n",
    "mine_run([&quot;--&gt;&quot;, &quot;--&gt;&quot;, &quot;--&gt;&quot;, &quot;&lt;--&quot;, &quot;&lt;--&quot;, &quot;&lt;--&quot;]) ➞ True\n",
    "\n",
    "mine_run([&quot;--&gt;&quot;, &quot;&lt;--&quot;, &quot;--&gt;&quot;, &quot;--&gt;&quot;, &quot;&lt;--&gt;&quot;, &quot;---&quot;]) ➞ 1"
   ]
  },
  {
   "cell_type": "code",
   "execution_count": 13,
   "metadata": {},
   "outputs": [],
   "source": [
    "class minecraft:\n",
    "    def __init__(self,tracks):\n",
    "        self.tracks = tracks\n",
    "        \n",
    "def mine_run(tracks):\n",
    "    mine_val = 0  \n",
    "    ans = 0\n",
    "    for i in range(len(tracks)):\n",
    "        if tracks[i] == '-->':\n",
    "            if mine_val+2.67 >= 8: \n",
    "                mine_val = 8\n",
    "            else: \n",
    "                mine_val +=2.67\n",
    "        elif tracks[i] == '<-->': \n",
    "            continue\n",
    "        elif tracks[i] == '<--':\n",
    "            if mine_val-2.67 <= 0: \n",
    "                ans = True if i == len(tracks)-1 else i; break\n",
    "            else: \n",
    "                mine_val -=2.67\n",
    "        else:\n",
    "            if mine_val-1 <= 0: \n",
    "                ans = True if i == len(tracks)-1 else i; break\n",
    "            else: \n",
    "                mine_val -=1        \n",
    "    return ans"
   ]
  },
  {
   "cell_type": "code",
   "execution_count": 14,
   "metadata": {},
   "outputs": [
    {
     "data": {
      "text/plain": [
       "True"
      ]
     },
     "execution_count": 14,
     "metadata": {},
     "output_type": "execute_result"
    }
   ],
   "source": [
    "mine_track_1 = minecraft([\"-->\", \"-->\", \"-->\", \"<--\", \"<--\", \"<--\"])\n",
    "mine_run(mine_track_1.tracks)"
   ]
  },
  {
   "cell_type": "code",
   "execution_count": 15,
   "metadata": {},
   "outputs": [
    {
     "data": {
      "text/plain": [
       "1"
      ]
     },
     "execution_count": 15,
     "metadata": {},
     "output_type": "execute_result"
    }
   ],
   "source": [
    "mine_track_2 = minecraft([\"-->\", \"<--\", \"-->\", \"-->\", \"<-->\", \"---\"])\n",
    "mine_run(mine_track_2.tracks)"
   ]
  },
  {
   "cell_type": "markdown",
   "metadata": {},
   "source": [
    "#### 5. Make a Rectangle class with four parameters, an x, a y (representing the top-left corner of the rectangle), a width and a height exclusively in that order. Lastly, make a function intersecting that takes two Rectangle objects and returns True if those objects are intersecting (colliding), else return False.\n",
    "\n",
    "Examples\n",
    "\n",
    "a = Rectangle(10, 20, 100, 20)\n",
    "\n",
    "b = Rectangle(10, 40, 15, 20)\n",
    "\n",
    "c = Rectangle(50, 50, 20, 30)\n",
    "\n",
    "intersecting(a, b) ➞ True\n",
    "\n",
    "intersecting(a, c) ➞ False\n",
    "\n",
    "intersecting(b, c) ➞ True"
   ]
  },
  {
   "cell_type": "code",
   "execution_count": 16,
   "metadata": {},
   "outputs": [],
   "source": [
    "def intersecting(rectangle1, rectangle2):\n",
    "    ans = False\n",
    "    if (rectangle2.y - rectangle1.y == rectangle1.height) or (rectangle2.y - rectangle1.y + rectangle1.height == rectangle2.height):\n",
    "        ans = True\n",
    "    return ans\n",
    "\n",
    "class Rectangle:\n",
    "    def __init__(self, x, y, width, height):\n",
    "        self.x = x\n",
    "        self.y = y\n",
    "        self.width = width\n",
    "        self.height = height"
   ]
  },
  {
   "cell_type": "code",
   "execution_count": 17,
   "metadata": {},
   "outputs": [],
   "source": [
    "a = Rectangle(10, 20, 100, 20)\n",
    "b = Rectangle(10, 40, 15, 20)\n",
    "c = Rectangle(50, 50, 20, 30)"
   ]
  },
  {
   "cell_type": "code",
   "execution_count": 18,
   "metadata": {},
   "outputs": [
    {
     "data": {
      "text/plain": [
       "True"
      ]
     },
     "execution_count": 18,
     "metadata": {},
     "output_type": "execute_result"
    }
   ],
   "source": [
    "intersecting(a, b)"
   ]
  },
  {
   "cell_type": "code",
   "execution_count": 19,
   "metadata": {},
   "outputs": [
    {
     "data": {
      "text/plain": [
       "False"
      ]
     },
     "execution_count": 19,
     "metadata": {},
     "output_type": "execute_result"
    }
   ],
   "source": [
    "intersecting(a, c)"
   ]
  },
  {
   "cell_type": "code",
   "execution_count": 20,
   "metadata": {},
   "outputs": [
    {
     "data": {
      "text/plain": [
       "True"
      ]
     },
     "execution_count": 20,
     "metadata": {},
     "output_type": "execute_result"
    }
   ],
   "source": [
    "intersecting(b, c)"
   ]
  },
  {
   "cell_type": "code",
   "execution_count": null,
   "metadata": {},
   "outputs": [],
   "source": []
  }
 ],
 "metadata": {
  "kernelspec": {
   "display_name": "Python 3",
   "language": "python",
   "name": "python3"
  },
  "language_info": {
   "codemirror_mode": {
    "name": "ipython",
    "version": 3
   },
   "file_extension": ".py",
   "mimetype": "text/x-python",
   "name": "python",
   "nbconvert_exporter": "python",
   "pygments_lexer": "ipython3",
   "version": "3.8.3"
  }
 },
 "nbformat": 4,
 "nbformat_minor": 4
}

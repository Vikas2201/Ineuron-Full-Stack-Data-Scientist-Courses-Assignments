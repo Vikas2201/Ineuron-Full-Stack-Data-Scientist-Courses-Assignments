{
 "cells": [
  {
   "cell_type": "markdown",
   "metadata": {},
   "source": [
    "#### 1. Given a sentence, return the number of words which have the same first and last letter.\n",
    "\n",
    "Examples\n",
    "\n",
    "count_same_ends(&quot;Pop! goes the balloon&quot;) ➞ 1\n",
    "\n",
    "count_same_ends(&quot;And the crowd goes wild!&quot;) ➞ 0\n",
    "\n",
    "count_same_ends(&quot;No I am not in a gang.&quot;) ➞ 1"
   ]
  },
  {
   "cell_type": "code",
   "execution_count": 1,
   "metadata": {},
   "outputs": [],
   "source": [
    "def alpha(s):\n",
    "    ans = \"\"\n",
    "    for i in s:\n",
    "        if i.isalpha():\n",
    "            ans += i\n",
    "    return ans\n",
    "\n",
    "def count_same_ends(s):\n",
    "    s = s.lower()\n",
    "    s = s.split(\" \")\n",
    "    s = [alpha(i) for i in s]\n",
    "    count = 0\n",
    "    for i in s:\n",
    "        if i[0] == i[-1] and len(i) > 1:\n",
    "            count += 1\n",
    "    return count"
   ]
  },
  {
   "cell_type": "code",
   "execution_count": 2,
   "metadata": {},
   "outputs": [
    {
     "data": {
      "text/plain": [
       "1"
      ]
     },
     "execution_count": 2,
     "metadata": {},
     "output_type": "execute_result"
    }
   ],
   "source": [
    "count_same_ends(\"Pop! goes the balloon\")"
   ]
  },
  {
   "cell_type": "code",
   "execution_count": 3,
   "metadata": {},
   "outputs": [
    {
     "data": {
      "text/plain": [
       "0"
      ]
     },
     "execution_count": 3,
     "metadata": {},
     "output_type": "execute_result"
    }
   ],
   "source": [
    "count_same_ends(\"And the crowd goes wild!\")"
   ]
  },
  {
   "cell_type": "code",
   "execution_count": 4,
   "metadata": {},
   "outputs": [
    {
     "data": {
      "text/plain": [
       "1"
      ]
     },
     "execution_count": 4,
     "metadata": {},
     "output_type": "execute_result"
    }
   ],
   "source": [
    "count_same_ends(\"No I am not in a gang.\") "
   ]
  },
  {
   "cell_type": "markdown",
   "metadata": {},
   "source": [
    "#### 2. The Atbash cipher is an encryption method in which each letter of a word is replaced with its &quot;mirror&quot; letter in the alphabet: A &lt;=&gt; Z; B &lt;=&gt; Y; C &lt;=&gt; X; etc. Create a function that takes a string and applies the Atbash cipher to it.\n",
    "\n",
    "Examples\n",
    "\n",
    "atbash(&quot;apple&quot;) ➞ &quot;zkkov&quot;\n",
    "\n",
    "atbash(&quot;Hello world!&quot;) ➞ &quot;Svool dliow!&quot;\n",
    "\n",
    "atbash(&quot;Christmas is the 25th of December&quot;) ➞ &quot;Xsirhgnzh rh gsv 25gs lu Wvxvnyvi&quot;"
   ]
  },
  {
   "cell_type": "code",
   "execution_count": 5,
   "metadata": {},
   "outputs": [],
   "source": [
    "def atbash(s):\n",
    "    n = ord('a') + ord('z')\n",
    "    N = ord('A') + ord('Z')\n",
    "    ans = \"\"\n",
    "    for i in s:\n",
    "        if i.isalpha():\n",
    "            if i.isupper():\n",
    "                ans += (chr(N-ord(i)))\n",
    "            else:\n",
    "                ans += (chr(n-ord(i)))\n",
    "        else:\n",
    "            ans += i\n",
    "    return ans\n",
    "            "
   ]
  },
  {
   "cell_type": "code",
   "execution_count": 6,
   "metadata": {},
   "outputs": [
    {
     "data": {
      "text/plain": [
       "'zkkov'"
      ]
     },
     "execution_count": 6,
     "metadata": {},
     "output_type": "execute_result"
    }
   ],
   "source": [
    "atbash(\"apple\") "
   ]
  },
  {
   "cell_type": "code",
   "execution_count": 7,
   "metadata": {},
   "outputs": [
    {
     "data": {
      "text/plain": [
       "'Svool dliow!'"
      ]
     },
     "execution_count": 7,
     "metadata": {},
     "output_type": "execute_result"
    }
   ],
   "source": [
    "atbash(\"Hello world!\")"
   ]
  },
  {
   "cell_type": "code",
   "execution_count": 8,
   "metadata": {},
   "outputs": [
    {
     "data": {
      "text/plain": [
       "'Xsirhgnzh rh gsv 25gs lu Wvxvnyvi'"
      ]
     },
     "execution_count": 8,
     "metadata": {},
     "output_type": "execute_result"
    }
   ],
   "source": [
    "atbash(\"Christmas is the 25th of December\") "
   ]
  },
  {
   "cell_type": "markdown",
   "metadata": {},
   "source": [
    "#### 3. Create a class Employee that will take a full name as argument, as well as a set of none, one or more keywords. Each instance should have a name and a lastname attributes plus one more attribute for each of the keywords, if any.\n",
    "\n",
    "Examples\n",
    "\n",
    "john = Employee(&quot;John Doe&quot;)\n",
    "\n",
    "mary = Employee(&quot;Mary Major&quot;, salary=120000)\n",
    "\n",
    "richard = Employee(&quot;Richard Roe&quot;, salary=110000, height=178)\n",
    "\n",
    "giancarlo = Employee(&quot;Giancarlo Rossi&quot;, salary=115000, height=182,\n",
    "\n",
    "nationality=&quot;Italian&quot;)\n",
    "\n",
    "john.name ➞ &quot;John&quot;\n",
    "\n",
    "mary.lastname ➞ &quot;Major&quot;\n",
    "\n",
    "richard.height ➞ 178\n",
    "\n",
    "giancarlo.nationality ➞ &quot;Italian&quot;"
   ]
  },
  {
   "cell_type": "code",
   "execution_count": 9,
   "metadata": {},
   "outputs": [],
   "source": [
    "class Employee:\n",
    "    def __init__(self, name , **kwargs):\n",
    "        self.name = name.split(' ')[0]\n",
    "        self.lastname = name.split(' ')[-1] \n",
    "        for value in kwargs:\n",
    "            if isinstance(kwargs[value], str):\n",
    "                exec(\"self.{0} = '{1}'\".format(value,kwargs[value]))\n",
    "            else:\n",
    "                exec(\"self.{0} = {1}\".format(value,kwargs[value]))"
   ]
  },
  {
   "cell_type": "code",
   "execution_count": 10,
   "metadata": {},
   "outputs": [],
   "source": [
    "john = Employee(\"John Doe\")"
   ]
  },
  {
   "cell_type": "code",
   "execution_count": 11,
   "metadata": {},
   "outputs": [
    {
     "data": {
      "text/plain": [
       "'John'"
      ]
     },
     "execution_count": 11,
     "metadata": {},
     "output_type": "execute_result"
    }
   ],
   "source": [
    "john.name"
   ]
  },
  {
   "cell_type": "code",
   "execution_count": 12,
   "metadata": {},
   "outputs": [],
   "source": [
    "mary = Employee(\"Mary Major\", salary=120000)\n",
    "\n",
    "richard = Employee(\"Richard Roe\", salary=110000, height=178)\n",
    "\n",
    "giancarlo = Employee(\"Giancarlo Rossi\", salary=115000, height=182, nationality=\"Italian\")"
   ]
  },
  {
   "cell_type": "code",
   "execution_count": 13,
   "metadata": {},
   "outputs": [
    {
     "data": {
      "text/plain": [
       "'Major'"
      ]
     },
     "execution_count": 13,
     "metadata": {},
     "output_type": "execute_result"
    }
   ],
   "source": [
    "mary.lastname "
   ]
  },
  {
   "cell_type": "code",
   "execution_count": 14,
   "metadata": {},
   "outputs": [
    {
     "data": {
      "text/plain": [
       "178"
      ]
     },
     "execution_count": 14,
     "metadata": {},
     "output_type": "execute_result"
    }
   ],
   "source": [
    "richard.height"
   ]
  },
  {
   "cell_type": "code",
   "execution_count": 15,
   "metadata": {},
   "outputs": [
    {
     "data": {
      "text/plain": [
       "'Italian'"
      ]
     },
     "execution_count": 15,
     "metadata": {},
     "output_type": "execute_result"
    }
   ],
   "source": [
    "giancarlo.nationality "
   ]
  },
  {
   "cell_type": "markdown",
   "metadata": {},
   "source": [
    "#### 4. Create a function that determines whether each seat can &quot;see&quot; the front- stage. A number can &quot;see&quot; the front-stage if it is strictly greater than the number before it. Everyone can see the front-stage in the example below:\n",
    "\n",
    "#FRONT STAGE\n",
    "[[1, 2, 3, 2, 1, 1],\n",
    "[2, 4, 4, 3, 2, 2],\n",
    "[5, 5, 5, 5, 4, 4],\n",
    "[6, 6, 7, 6, 5, 5]]\n",
    "#Starting from the left, the 6 &gt; 5 &gt; 2 &gt; 1, so all numbers can see.\n",
    "#6 &gt; 5 &gt; 4 &gt; 2 - so all numbers can see, etc.\n",
    "\n",
    "#### Not everyone can see the front-stage in the example below:\n",
    "#FRONT STAGE\n",
    "[[1, 2, 3, 2, 1, 1],\n",
    "[2, 4, 4, 3, 2, 2],\n",
    "[5, 5, 5, 10, 4, 4],\n",
    "[6, 6, 7, 6, 5, 5]]\n",
    "#The 10 is directly in front of the 6 and blocking its view.\n",
    "\n",
    "#### The function should return True if every number can see the front-stage, and False if even a single number cannot.\n",
    "\n",
    "#### Examples\n",
    "\n",
    "can_see_stage([\n",
    "[1, 2, 3],\n",
    "[4, 5, 6],\n",
    "[7, 8, 9]\n",
    "]) ➞ True\n",
    "\n",
    "can_see_stage([\n",
    "[0, 0, 0],\n",
    "[1, 1, 1],\n",
    "[2, 2, 2]\n",
    "]) ➞ True\n",
    "\n",
    "can_see_stage([\n",
    "[2, 0, 0],\n",
    "[1, 1, 1],\n",
    "[2, 2, 2]\n",
    "]) ➞ False\n",
    "\n",
    "can_see_stage([\n",
    "[1, 0, 0],\n",
    "[1, 1, 1],\n",
    "[2, 2, 2]\n",
    "]) ➞ False\n",
    "#Number must be strictly smaller than\n",
    "#the number directly behind it."
   ]
  },
  {
   "cell_type": "code",
   "execution_count": 16,
   "metadata": {},
   "outputs": [],
   "source": [
    "def can_see_stage(lt):\n",
    "    r = len(lt)\n",
    "    c = len(lt[0])\n",
    "    for i in range(1,c):\n",
    "        for j in range(1,r):\n",
    "            if lt[i-1][j-1] >= lt[i][j]:\n",
    "                return False\n",
    "    return True"
   ]
  },
  {
   "cell_type": "code",
   "execution_count": 17,
   "metadata": {},
   "outputs": [
    {
     "data": {
      "text/plain": [
       "True"
      ]
     },
     "execution_count": 17,
     "metadata": {},
     "output_type": "execute_result"
    }
   ],
   "source": [
    "can_see_stage([ [1, 2, 3], [4, 5, 6], [7, 8, 9] ])"
   ]
  },
  {
   "cell_type": "code",
   "execution_count": 18,
   "metadata": {},
   "outputs": [
    {
     "data": {
      "text/plain": [
       "True"
      ]
     },
     "execution_count": 18,
     "metadata": {},
     "output_type": "execute_result"
    }
   ],
   "source": [
    "can_see_stage([ [0, 0, 0], [1, 1, 1], [2, 2, 2] ])"
   ]
  },
  {
   "cell_type": "code",
   "execution_count": 19,
   "metadata": {},
   "outputs": [
    {
     "data": {
      "text/plain": [
       "False"
      ]
     },
     "execution_count": 19,
     "metadata": {},
     "output_type": "execute_result"
    }
   ],
   "source": [
    "can_see_stage([ [2, 0, 0], [1, 1, 1], [2, 2, 2] ])"
   ]
  },
  {
   "cell_type": "code",
   "execution_count": 20,
   "metadata": {},
   "outputs": [
    {
     "data": {
      "text/plain": [
       "False"
      ]
     },
     "execution_count": 20,
     "metadata": {},
     "output_type": "execute_result"
    }
   ],
   "source": [
    "can_see_stage([ [1, 0, 0], [1, 1, 1], [2, 2, 2] ])"
   ]
  },
  {
   "cell_type": "markdown",
   "metadata": {},
   "source": [
    "#### 5. Create a Pizza class with the attributes order_number and ingredients (which is given as a list). Only the ingredients will be given as input. You should also make it so that its possible to choose a ready made pizza flavour rather than typing out the ingredients manually! As well as creating this Pizza class, hard-code the following pizza flavours.\n",
    "\n",
    "#### Name Ingredients\n",
    "\n",
    "#### hawaiian ham, pineapple\n",
    "\n",
    "#### meat_festival beef, meatball, bacon\n",
    "\n",
    "#### garden_feast spinach, olives, mushroom\n",
    "\n",
    "Examples\n",
    "\n",
    "p1 = Pizza([&quot;bacon&quot;, &quot;parmesan&quot;, &quot;ham&quot;]) # order 1\n",
    "\n",
    "p2 = Pizza.garden_feast() # order 2\n",
    "\n",
    "p1.ingredients ➞ [&quot;bacon&quot;, &quot;parmesan&quot;, &quot;ham&quot;]\n",
    "\n",
    "p2.ingredients ➞ [&quot;spinach&quot;, &quot;olives&quot;, &quot;mushroom&quot;]\n",
    "\n",
    "p1.order_number ➞ 1\n",
    "\n",
    "p2.order_number ➞ 2"
   ]
  },
  {
   "cell_type": "code",
   "execution_count": 21,
   "metadata": {},
   "outputs": [],
   "source": [
    "order_number = 0\n",
    "class Pizza:\n",
    "    def __init__(self, *ingrd):\n",
    "        global order_number\n",
    "        order_number += 1\n",
    "        self.order_number = order_number\n",
    "        self.ingredients = ingrd[0]\n",
    "    \n",
    "    @classmethod    \n",
    "    def hawaiian(self):\n",
    "        global order_number\n",
    "        order_number += 1\n",
    "        self.order_number = order_number\n",
    "        self.ingredients = ['ham', 'pineapple']\n",
    "        return self \n",
    "    \n",
    "    @classmethod\n",
    "    def meat_festival(self):\n",
    "        global order_number\n",
    "        order_number += 1\n",
    "        self.order_number = order_number\n",
    "        self.ingredients = ['beef', 'meatball', 'bacon']\n",
    "        return self\n",
    "    \n",
    "    @classmethod\n",
    "    def garden_feast(self):\n",
    "        global order_number\n",
    "        order_number += 1\n",
    "        self.order_number = order_number\n",
    "        self.ingredients = [\"spinach\", \"olives\", \"mushroom\"]\n",
    "        return self"
   ]
  },
  {
   "cell_type": "code",
   "execution_count": 22,
   "metadata": {},
   "outputs": [],
   "source": [
    "p1 = Pizza([\"bacon\", \"parmesan\", \"ham\"]) # order 1\n",
    "\n",
    "p2 = Pizza.garden_feast() "
   ]
  },
  {
   "cell_type": "code",
   "execution_count": 23,
   "metadata": {},
   "outputs": [
    {
     "data": {
      "text/plain": [
       "1"
      ]
     },
     "execution_count": 23,
     "metadata": {},
     "output_type": "execute_result"
    }
   ],
   "source": [
    "p1.order_number"
   ]
  },
  {
   "cell_type": "code",
   "execution_count": 24,
   "metadata": {},
   "outputs": [
    {
     "data": {
      "text/plain": [
       "2"
      ]
     },
     "execution_count": 24,
     "metadata": {},
     "output_type": "execute_result"
    }
   ],
   "source": [
    "p2.order_number"
   ]
  },
  {
   "cell_type": "code",
   "execution_count": 25,
   "metadata": {},
   "outputs": [
    {
     "data": {
      "text/plain": [
       "['bacon', 'parmesan', 'ham']"
      ]
     },
     "execution_count": 25,
     "metadata": {},
     "output_type": "execute_result"
    }
   ],
   "source": [
    "p1.ingredients"
   ]
  },
  {
   "cell_type": "code",
   "execution_count": 26,
   "metadata": {},
   "outputs": [
    {
     "data": {
      "text/plain": [
       "['spinach', 'olives', 'mushroom']"
      ]
     },
     "execution_count": 26,
     "metadata": {},
     "output_type": "execute_result"
    }
   ],
   "source": [
    "p2.ingredients"
   ]
  },
  {
   "cell_type": "code",
   "execution_count": null,
   "metadata": {},
   "outputs": [],
   "source": []
  },
  {
   "cell_type": "code",
   "execution_count": null,
   "metadata": {},
   "outputs": [],
   "source": []
  },
  {
   "cell_type": "code",
   "execution_count": null,
   "metadata": {},
   "outputs": [],
   "source": []
  },
  {
   "cell_type": "code",
   "execution_count": null,
   "metadata": {},
   "outputs": [],
   "source": []
  }
 ],
 "metadata": {
  "kernelspec": {
   "display_name": "Python 3",
   "language": "python",
   "name": "python3"
  },
  "language_info": {
   "codemirror_mode": {
    "name": "ipython",
    "version": 3
   },
   "file_extension": ".py",
   "mimetype": "text/x-python",
   "name": "python",
   "nbconvert_exporter": "python",
   "pygments_lexer": "ipython3",
   "version": "3.8.3"
  }
 },
 "nbformat": 4,
 "nbformat_minor": 4
}

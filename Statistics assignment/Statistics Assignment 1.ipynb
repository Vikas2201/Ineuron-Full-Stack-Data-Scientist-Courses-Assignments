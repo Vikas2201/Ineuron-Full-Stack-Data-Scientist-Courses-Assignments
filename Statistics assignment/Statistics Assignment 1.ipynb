{
 "cells": [
  {
   "cell_type": "markdown",
   "metadata": {},
   "source": [
    "Calculate the mean, median, mode and standard deviation for the problem statements 1& 2."
   ]
  },
  {
   "cell_type": "markdown",
   "metadata": {},
   "source": [
    "## Problem Statement 1:"
   ]
  },
  {
   "cell_type": "markdown",
   "metadata": {},
   "source": [
    "The marks awarded for an assignment set for a Year 8 class of 20 students were as follows:\n",
    "\n",
    "6 7 5 7 7 8 7 6 9 7 4 10 6 8 8 9 5 6 4 8"
   ]
  },
  {
   "cell_type": "code",
   "execution_count": 1,
   "metadata": {},
   "outputs": [],
   "source": [
    "import numpy as np\n",
    "from scipy import stats"
   ]
  },
  {
   "cell_type": "code",
   "execution_count": 2,
   "metadata": {},
   "outputs": [],
   "source": [
    "data = np.array([6,7,5,7,7,8,7,6,9,7,4,10,6,8,8,9,5,6,4,8])"
   ]
  },
  {
   "cell_type": "code",
   "execution_count": 3,
   "metadata": {},
   "outputs": [
    {
     "data": {
      "text/plain": [
       "array([ 6,  7,  5,  7,  7,  8,  7,  6,  9,  7,  4, 10,  6,  8,  8,  9,  5,\n",
       "        6,  4,  8])"
      ]
     },
     "execution_count": 3,
     "metadata": {},
     "output_type": "execute_result"
    }
   ],
   "source": [
    "data"
   ]
  },
  {
   "cell_type": "code",
   "execution_count": 4,
   "metadata": {},
   "outputs": [
    {
     "name": "stdout",
     "output_type": "stream",
     "text": [
      "Mean of marks awarded for an assignment set for a Year 8 class of 20 students :  6.85\n",
      "Median of marks awarded for an assignment set for a Year 8 class of 20 students :  7.0\n",
      "Mode of marks awarded for an assignment set for a Year 8 class of 20 students :  ModeResult(mode=array([7]), count=array([5]))\n",
      "Variance of marks awarded for an assignment set for a Year 8 class of 20 students :  2.5275000000000003\n",
      "Standard Deviation of marks awarded for an assignment set for a Year 8 class of 20 students :  1.5898113095584647\n"
     ]
    }
   ],
   "source": [
    "print(\"Mean of marks awarded for an assignment set for a Year 8 class of 20 students : \",np.mean(data))\n",
    "print(\"Median of marks awarded for an assignment set for a Year 8 class of 20 students : \",np.median(data))\n",
    "print(\"Mode of marks awarded for an assignment set for a Year 8 class of 20 students : \",stats.mode(data))\n",
    "print(\"Variance of marks awarded for an assignment set for a Year 8 class of 20 students : \",np.var(data))\n",
    "print(\"Standard Deviation of marks awarded for an assignment set for a Year 8 class of 20 students : \",np.std(data))"
   ]
  },
  {
   "cell_type": "markdown",
   "metadata": {},
   "source": [
    "## Problem Statement 2:"
   ]
  },
  {
   "cell_type": "markdown",
   "metadata": {},
   "source": [
    "The number of calls from motorists per day for roadside service was recorded for a particular month:\n",
    "    \n",
    "28, 122, 217, 130, 120, 86, 80, 90, 140, 120, 70, 40, 145, 113, 90, 68, 174, 194, 170,100, 75, 104, 97, 75,123, 100, 75, 104, 97, 75, 123, 100, 89, 120, 109"
   ]
  },
  {
   "cell_type": "code",
   "execution_count": 5,
   "metadata": {},
   "outputs": [],
   "source": [
    "import numpy as np\n",
    "from scipy import stats"
   ]
  },
  {
   "cell_type": "code",
   "execution_count": 6,
   "metadata": {},
   "outputs": [],
   "source": [
    "records = np.array([28, 122, 217, 130, 120, 86, 80, 90, 140, 120, 70, 40, 145, 113, 90, 68, 174, 194, 170,100, 75, 104, 97, 75,123, 100, 75, 104, 97, 75, 123, 100, 89, 120, 109])"
   ]
  },
  {
   "cell_type": "code",
   "execution_count": 7,
   "metadata": {},
   "outputs": [
    {
     "data": {
      "text/plain": [
       "array([ 28, 122, 217, 130, 120,  86,  80,  90, 140, 120,  70,  40, 145,\n",
       "       113,  90,  68, 174, 194, 170, 100,  75, 104,  97,  75, 123, 100,\n",
       "        75, 104,  97,  75, 123, 100,  89, 120, 109])"
      ]
     },
     "execution_count": 7,
     "metadata": {},
     "output_type": "execute_result"
    }
   ],
   "source": [
    "records"
   ]
  },
  {
   "cell_type": "code",
   "execution_count": 8,
   "metadata": {},
   "outputs": [
    {
     "name": "stdout",
     "output_type": "stream",
     "text": [
      "Mean of marks awarded for an assignment set for a Year 8 class of 20 students :  107.51428571428572\n",
      "Median of marks awarded for an assignment set for a Year 8 class of 20 students :  100.0\n",
      "Mode of marks awarded for an assignment set for a Year 8 class of 20 students :  ModeResult(mode=array([75]), count=array([4]))\n",
      "Variance of marks awarded for an assignment set for a Year 8 class of 20 students :  1503.3355102040816\n",
      "Standard Deviation of marks awarded for an assignment set for a Year 8 class of 20 students :  38.77287080168403\n"
     ]
    }
   ],
   "source": [
    "print(\"Mean of marks awarded for an assignment set for a Year 8 class of 20 students : \",np.mean(records))\n",
    "print(\"Median of marks awarded for an assignment set for a Year 8 class of 20 students : \",np.median(records))\n",
    "print(\"Mode of marks awarded for an assignment set for a Year 8 class of 20 students : \",stats.mode(records))\n",
    "print(\"Variance of marks awarded for an assignment set for a Year 8 class of 20 students : \",np.var(records))\n",
    "print(\"Standard Deviation of marks awarded for an assignment set for a Year 8 class of 20 students : \",np.std(records))"
   ]
  },
  {
   "cell_type": "markdown",
   "metadata": {},
   "source": [
    "## Problem Statement 3:"
   ]
  },
  {
   "cell_type": "markdown",
   "metadata": {},
   "source": [
    "The number of times I go to the gym in weekdays, are given below along with its associated probability:\n",
    "\n",
    "x = 0, 1, 2, 3, 4, 5\n",
    "\n",
    "f(x) = 0.09, 0.15, 0.40, 0.25, 0.10, 0.01\n",
    "\n",
    "Calculate the mean no. of workouts in a week. Also evaluate the variance involved in\n",
    "it."
   ]
  },
  {
   "cell_type": "code",
   "execution_count": 9,
   "metadata": {},
   "outputs": [],
   "source": [
    "import pandas as pd\n",
    "import numpy as np"
   ]
  },
  {
   "cell_type": "code",
   "execution_count": 10,
   "metadata": {},
   "outputs": [],
   "source": [
    "data = {\"X\" : pd.Series([0, 1, 2, 3, 4, 5]),\n",
    "        \"f(X)\" : pd.Series([0.09, 0.15, 0.40, 0.25, 0.10, 0.01])\n",
    "       }"
   ]
  },
  {
   "cell_type": "code",
   "execution_count": 11,
   "metadata": {},
   "outputs": [],
   "source": [
    "df = pd.DataFrame(data)"
   ]
  },
  {
   "cell_type": "code",
   "execution_count": 12,
   "metadata": {},
   "outputs": [
    {
     "data": {
      "text/html": [
       "<div>\n",
       "<style scoped>\n",
       "    .dataframe tbody tr th:only-of-type {\n",
       "        vertical-align: middle;\n",
       "    }\n",
       "\n",
       "    .dataframe tbody tr th {\n",
       "        vertical-align: top;\n",
       "    }\n",
       "\n",
       "    .dataframe thead th {\n",
       "        text-align: right;\n",
       "    }\n",
       "</style>\n",
       "<table border=\"1\" class=\"dataframe\">\n",
       "  <thead>\n",
       "    <tr style=\"text-align: right;\">\n",
       "      <th></th>\n",
       "      <th>X</th>\n",
       "      <th>f(X)</th>\n",
       "    </tr>\n",
       "  </thead>\n",
       "  <tbody>\n",
       "    <tr>\n",
       "      <th>0</th>\n",
       "      <td>0</td>\n",
       "      <td>0.09</td>\n",
       "    </tr>\n",
       "    <tr>\n",
       "      <th>1</th>\n",
       "      <td>1</td>\n",
       "      <td>0.15</td>\n",
       "    </tr>\n",
       "    <tr>\n",
       "      <th>2</th>\n",
       "      <td>2</td>\n",
       "      <td>0.40</td>\n",
       "    </tr>\n",
       "    <tr>\n",
       "      <th>3</th>\n",
       "      <td>3</td>\n",
       "      <td>0.25</td>\n",
       "    </tr>\n",
       "    <tr>\n",
       "      <th>4</th>\n",
       "      <td>4</td>\n",
       "      <td>0.10</td>\n",
       "    </tr>\n",
       "    <tr>\n",
       "      <th>5</th>\n",
       "      <td>5</td>\n",
       "      <td>0.01</td>\n",
       "    </tr>\n",
       "  </tbody>\n",
       "</table>\n",
       "</div>"
      ],
      "text/plain": [
       "   X  f(X)\n",
       "0  0  0.09\n",
       "1  1  0.15\n",
       "2  2  0.40\n",
       "3  3  0.25\n",
       "4  4  0.10\n",
       "5  5  0.01"
      ]
     },
     "execution_count": 12,
     "metadata": {},
     "output_type": "execute_result"
    }
   ],
   "source": [
    "df"
   ]
  },
  {
   "cell_type": "code",
   "execution_count": 13,
   "metadata": {},
   "outputs": [],
   "source": [
    "df[\"Xf(X)\"] = df[\"X\"] * df[\"f(X)\"]"
   ]
  },
  {
   "cell_type": "code",
   "execution_count": 14,
   "metadata": {},
   "outputs": [
    {
     "data": {
      "text/html": [
       "<div>\n",
       "<style scoped>\n",
       "    .dataframe tbody tr th:only-of-type {\n",
       "        vertical-align: middle;\n",
       "    }\n",
       "\n",
       "    .dataframe tbody tr th {\n",
       "        vertical-align: top;\n",
       "    }\n",
       "\n",
       "    .dataframe thead th {\n",
       "        text-align: right;\n",
       "    }\n",
       "</style>\n",
       "<table border=\"1\" class=\"dataframe\">\n",
       "  <thead>\n",
       "    <tr style=\"text-align: right;\">\n",
       "      <th></th>\n",
       "      <th>X</th>\n",
       "      <th>f(X)</th>\n",
       "      <th>Xf(X)</th>\n",
       "    </tr>\n",
       "  </thead>\n",
       "  <tbody>\n",
       "    <tr>\n",
       "      <th>0</th>\n",
       "      <td>0</td>\n",
       "      <td>0.09</td>\n",
       "      <td>0.00</td>\n",
       "    </tr>\n",
       "    <tr>\n",
       "      <th>1</th>\n",
       "      <td>1</td>\n",
       "      <td>0.15</td>\n",
       "      <td>0.15</td>\n",
       "    </tr>\n",
       "    <tr>\n",
       "      <th>2</th>\n",
       "      <td>2</td>\n",
       "      <td>0.40</td>\n",
       "      <td>0.80</td>\n",
       "    </tr>\n",
       "    <tr>\n",
       "      <th>3</th>\n",
       "      <td>3</td>\n",
       "      <td>0.25</td>\n",
       "      <td>0.75</td>\n",
       "    </tr>\n",
       "    <tr>\n",
       "      <th>4</th>\n",
       "      <td>4</td>\n",
       "      <td>0.10</td>\n",
       "      <td>0.40</td>\n",
       "    </tr>\n",
       "    <tr>\n",
       "      <th>5</th>\n",
       "      <td>5</td>\n",
       "      <td>0.01</td>\n",
       "      <td>0.05</td>\n",
       "    </tr>\n",
       "  </tbody>\n",
       "</table>\n",
       "</div>"
      ],
      "text/plain": [
       "   X  f(X)  Xf(X)\n",
       "0  0  0.09   0.00\n",
       "1  1  0.15   0.15\n",
       "2  2  0.40   0.80\n",
       "3  3  0.25   0.75\n",
       "4  4  0.10   0.40\n",
       "5  5  0.01   0.05"
      ]
     },
     "execution_count": 14,
     "metadata": {},
     "output_type": "execute_result"
    }
   ],
   "source": [
    "df"
   ]
  },
  {
   "cell_type": "code",
   "execution_count": 15,
   "metadata": {},
   "outputs": [
    {
     "data": {
      "text/plain": [
       "2.15"
      ]
     },
     "execution_count": 15,
     "metadata": {},
     "output_type": "execute_result"
    }
   ],
   "source": [
    "mean = sum(df[\"Xf(X)\"])\n",
    "mean"
   ]
  },
  {
   "cell_type": "code",
   "execution_count": 16,
   "metadata": {},
   "outputs": [],
   "source": [
    "df[\"(X-μ)\"] = df[\"X\"] - mean"
   ]
  },
  {
   "cell_type": "code",
   "execution_count": 17,
   "metadata": {},
   "outputs": [],
   "source": [
    "df[\"(X-μ)2f(x)\"] = df[\"(X-μ)\"]**2 * df[\"f(X)\"]"
   ]
  },
  {
   "cell_type": "code",
   "execution_count": 18,
   "metadata": {},
   "outputs": [
    {
     "data": {
      "text/html": [
       "<div>\n",
       "<style scoped>\n",
       "    .dataframe tbody tr th:only-of-type {\n",
       "        vertical-align: middle;\n",
       "    }\n",
       "\n",
       "    .dataframe tbody tr th {\n",
       "        vertical-align: top;\n",
       "    }\n",
       "\n",
       "    .dataframe thead th {\n",
       "        text-align: right;\n",
       "    }\n",
       "</style>\n",
       "<table border=\"1\" class=\"dataframe\">\n",
       "  <thead>\n",
       "    <tr style=\"text-align: right;\">\n",
       "      <th></th>\n",
       "      <th>X</th>\n",
       "      <th>f(X)</th>\n",
       "      <th>Xf(X)</th>\n",
       "      <th>(X-μ)</th>\n",
       "      <th>(X-μ)2f(x)</th>\n",
       "    </tr>\n",
       "  </thead>\n",
       "  <tbody>\n",
       "    <tr>\n",
       "      <th>0</th>\n",
       "      <td>0</td>\n",
       "      <td>0.09</td>\n",
       "      <td>0.00</td>\n",
       "      <td>-2.15</td>\n",
       "      <td>0.416025</td>\n",
       "    </tr>\n",
       "    <tr>\n",
       "      <th>1</th>\n",
       "      <td>1</td>\n",
       "      <td>0.15</td>\n",
       "      <td>0.15</td>\n",
       "      <td>-1.15</td>\n",
       "      <td>0.198375</td>\n",
       "    </tr>\n",
       "    <tr>\n",
       "      <th>2</th>\n",
       "      <td>2</td>\n",
       "      <td>0.40</td>\n",
       "      <td>0.80</td>\n",
       "      <td>-0.15</td>\n",
       "      <td>0.009000</td>\n",
       "    </tr>\n",
       "    <tr>\n",
       "      <th>3</th>\n",
       "      <td>3</td>\n",
       "      <td>0.25</td>\n",
       "      <td>0.75</td>\n",
       "      <td>0.85</td>\n",
       "      <td>0.180625</td>\n",
       "    </tr>\n",
       "    <tr>\n",
       "      <th>4</th>\n",
       "      <td>4</td>\n",
       "      <td>0.10</td>\n",
       "      <td>0.40</td>\n",
       "      <td>1.85</td>\n",
       "      <td>0.342250</td>\n",
       "    </tr>\n",
       "    <tr>\n",
       "      <th>5</th>\n",
       "      <td>5</td>\n",
       "      <td>0.01</td>\n",
       "      <td>0.05</td>\n",
       "      <td>2.85</td>\n",
       "      <td>0.081225</td>\n",
       "    </tr>\n",
       "  </tbody>\n",
       "</table>\n",
       "</div>"
      ],
      "text/plain": [
       "   X  f(X)  Xf(X)  (X-μ)  (X-μ)2f(x)\n",
       "0  0  0.09   0.00  -2.15    0.416025\n",
       "1  1  0.15   0.15  -1.15    0.198375\n",
       "2  2  0.40   0.80  -0.15    0.009000\n",
       "3  3  0.25   0.75   0.85    0.180625\n",
       "4  4  0.10   0.40   1.85    0.342250\n",
       "5  5  0.01   0.05   2.85    0.081225"
      ]
     },
     "execution_count": 18,
     "metadata": {},
     "output_type": "execute_result"
    }
   ],
   "source": [
    "df"
   ]
  },
  {
   "cell_type": "code",
   "execution_count": 19,
   "metadata": {},
   "outputs": [
    {
     "name": "stdout",
     "output_type": "stream",
     "text": [
      "Mean of number of workouts in a week : 2.15\n",
      "Variance of number of workouts in a week : 1.2275\n"
     ]
    }
   ],
   "source": [
    "print(\"Mean of number of workouts in a week :\",sum(df[\"Xf(X)\"]))\n",
    "print(\"Variance of number of workouts in a week :\",sum(df[\"(X-μ)2f(x)\"]))"
   ]
  },
  {
   "cell_type": "markdown",
   "metadata": {},
   "source": [
    "## Problem Statement 4:"
   ]
  },
  {
   "cell_type": "markdown",
   "metadata": {},
   "source": [
    "Let the continuous random variable D denote the diameter of the hole drilled in an aluminum sheet. The target diameter to be achieved is 12.5mm. Random\n",
    "disturbances in the process often result in inaccuracy.Historical data shows that the distribution of D can be modelled by the PDF (𝑑) =\n",
    "\n",
    "20𝑒^(−20(𝑑−12.5)), 𝑑 ≥ 12.5. \n",
    "\n",
    "If a part with diameter > 12.6 mm needs to be scrapped,what is the proportion of those parts? What is the CDF when the diameter is of 11 mm?\n",
    "What is your conclusion regarding the proportion of scraps?"
   ]
  },
  {
   "cell_type": "code",
   "execution_count": 20,
   "metadata": {},
   "outputs": [],
   "source": [
    "import numpy as np\n",
    "from scipy import stats\n",
    "from scipy.integrate import quad"
   ]
  },
  {
   "cell_type": "code",
   "execution_count": 21,
   "metadata": {},
   "outputs": [],
   "source": [
    "def f(d):\n",
    "    return 20*np.exp(- 20 * (𝑑 - 12.5))"
   ]
  },
  {
   "cell_type": "code",
   "execution_count": 22,
   "metadata": {},
   "outputs": [],
   "source": [
    "result, error = quad(f, 12.6, float('inf'))"
   ]
  },
  {
   "cell_type": "code",
   "execution_count": 23,
   "metadata": {},
   "outputs": [
    {
     "name": "stdout",
     "output_type": "stream",
     "text": [
      "probability of the proportion of 12.5 to 12.6 : 0.8646647167633861\n"
     ]
    }
   ],
   "source": [
    "print(\"probability of the proportion of 12.5 to 12.6 :\",(1-result))"
   ]
  },
  {
   "cell_type": "code",
   "execution_count": 24,
   "metadata": {},
   "outputs": [
    {
     "name": "stderr",
     "output_type": "stream",
     "text": [
      "<ipython-input-21-cb81898d61fd>:2: RuntimeWarning: overflow encountered in exp\n",
      "  return 20*np.exp(- 20 * (𝑑 - 12.5))\n",
      "<ipython-input-24-8df29d4c7169>:1: IntegrationWarning: The maximum number of subdivisions (50) has been achieved.\n",
      "  If increasing the limit yields no improvement it is advised to analyze \n",
      "  the integrand in order to determine the difficulties.  If the position of a \n",
      "  local difficulty can be determined (singularity, discontinuity) one will \n",
      "  probably gain from splitting up the interval and calling the integrator \n",
      "  on the subranges.  Perhaps a special-purpose integrator should be used.\n",
      "  cdf , err = quad(f,float(\"-inf\"),11)\n"
     ]
    }
   ],
   "source": [
    "cdf , err = quad(f,float(\"-inf\"),11)"
   ]
  },
  {
   "cell_type": "code",
   "execution_count": 25,
   "metadata": {},
   "outputs": [
    {
     "name": "stdout",
     "output_type": "stream",
     "text": [
      "The CDF when the diameter is of 11 mm : nan\n"
     ]
    }
   ],
   "source": [
    "print(\"The CDF when the diameter is of 11 mm :\",cdf)"
   ]
  },
  {
   "cell_type": "markdown",
   "metadata": {},
   "source": [
    "Conclusion regarding the proportion of scraps : Upto the point 12.5 CDF is Zero ."
   ]
  },
  {
   "cell_type": "markdown",
   "metadata": {},
   "source": [
    "## Problem Statement 5:"
   ]
  },
  {
   "cell_type": "markdown",
   "metadata": {},
   "source": [
    "A company manufactures LED bulbs with a faulty rate of 30%. If I randomly select 6\n",
    "chosen LEDs, what is the probability of having 2 faulty LEDs in my sample?\n",
    "Calculate the average value of this process. Also evaluate the standard deviation\n",
    "associated with it."
   ]
  },
  {
   "cell_type": "code",
   "execution_count": 26,
   "metadata": {},
   "outputs": [],
   "source": [
    "p = 0.3 # probability of fault    \n",
    "q = 1 - p\n",
    "n = 6 #total number of trials\n",
    "k = 2 #number of trail that will be successed"
   ]
  },
  {
   "cell_type": "code",
   "execution_count": 27,
   "metadata": {},
   "outputs": [],
   "source": [
    "import seaborn as sns\n",
    "from scipy import stats"
   ]
  },
  {
   "cell_type": "code",
   "execution_count": 28,
   "metadata": {},
   "outputs": [],
   "source": [
    "prob = stats.binom.pmf(k,n,p)\n",
    "cdf = stats.binom.cdf(k,n,p)\n",
    "mean , var = stats.binom.stats(n,p)\n",
    "std = (var)**0.5"
   ]
  },
  {
   "cell_type": "code",
   "execution_count": 29,
   "metadata": {},
   "outputs": [
    {
     "name": "stdout",
     "output_type": "stream",
     "text": [
      "The probability of having 2 faulty LEDs in my sample : 0.32413499999999995\n",
      "CDF of this process : 0.74431\n",
      "Average value of this process : 1.7999999999999998\n",
      "Variance value of this process : 1.2599999999999998\n",
      "Standard Deviation value of this process : 1.1224972160321822\n"
     ]
    }
   ],
   "source": [
    "print(\"The probability of having 2 faulty LEDs in my sample :\",prob)\n",
    "print(\"CDF of this process :\",cdf)\n",
    "print(\"Average value of this process :\",mean)\n",
    "print(\"Variance value of this process :\",var)\n",
    "print(\"Standard Deviation value of this process :\",std)"
   ]
  },
  {
   "cell_type": "markdown",
   "metadata": {},
   "source": [
    "## Problem Statement 6:"
   ]
  },
  {
   "cell_type": "markdown",
   "metadata": {},
   "source": [
    "Gaurav and Barakha are both preparing for entrance exams. Gaurav attempts to\n",
    "solve 8 questions per day with a correction rate of 75%, while Barakha averages\n",
    "around 12 questions per day with a correction rate of 45%. What is the probability\n",
    "that each of them will solve 5 questions correctly? What happens in cases of 4 and 6\n",
    "correct solutions? What do you infer from it? What are the two main governing\n",
    "factors affecting their ability to solve questions correctly? Give a pictorial\n",
    "representation of the same to validate your answer."
   ]
  },
  {
   "cell_type": "code",
   "execution_count": 30,
   "metadata": {},
   "outputs": [],
   "source": [
    "#for Gaurav\n",
    "p = 0.75 #probability of Gaurav correct answer    \n",
    "n = 8 #total number of Gaurav attempts in a day\n",
    "k = 5 #number of correctly attempts for Gaurav"
   ]
  },
  {
   "cell_type": "code",
   "execution_count": 31,
   "metadata": {},
   "outputs": [],
   "source": [
    "#For  Barakha\n",
    "P = 0.45 # probability of correct answer    \n",
    "N = 12 #total number of attempts in a day\n",
    "K = 5 #number of correctly attempts"
   ]
  },
  {
   "cell_type": "code",
   "execution_count": 32,
   "metadata": {},
   "outputs": [],
   "source": [
    "import seaborn as sns\n",
    "from scipy import stats"
   ]
  },
  {
   "cell_type": "code",
   "execution_count": 33,
   "metadata": {},
   "outputs": [],
   "source": [
    "prob1 = stats.binom.pmf(k,n,p)\n",
    "prob2 = stats.binom.pmf(K,N,P)"
   ]
  },
  {
   "cell_type": "code",
   "execution_count": 34,
   "metadata": {},
   "outputs": [
    {
     "name": "stdout",
     "output_type": "stream",
     "text": [
      "The probability of Gaurav having 5 correct answer out of 8 question : 0.20764160156250022\n",
      "The probability of Barakha having 5 correct answer out of 12 question : 0.22249823843265792\n"
     ]
    }
   ],
   "source": [
    "print(\"The probability of Gaurav having 5 correct answer out of 8 question :\",prob1)\n",
    "print(\"The probability of Barakha having 5 correct answer out of 12 question :\",prob2)"
   ]
  },
  {
   "cell_type": "code",
   "execution_count": 35,
   "metadata": {},
   "outputs": [
    {
     "name": "stdout",
     "output_type": "stream",
     "text": [
      "The probability of Gaurav having 4 correct answer out of 8 question : 0.08651733398437506\n",
      "The probability of Barakha having 4 correct answer out of 12 question : 0.16996393213605795\n"
     ]
    }
   ],
   "source": [
    "print(\"The probability of Gaurav having 4 correct answer out of 8 question :\",stats.binom.pmf(4,n,p))\n",
    "print(\"The probability of Barakha having 4 correct answer out of 12 question :\",stats.binom.pmf(4,N,P))"
   ]
  },
  {
   "cell_type": "code",
   "execution_count": 36,
   "metadata": {},
   "outputs": [
    {
     "name": "stdout",
     "output_type": "stream",
     "text": [
      "The probability of Gaurav having 6 correct answer out of 8 question : 0.31146240234375017\n",
      "The probability of Barakha having 6 correct answer out of 12 question : 0.21238468214026424\n"
     ]
    }
   ],
   "source": [
    "print(\"The probability of Gaurav having 6 correct answer out of 8 question :\",stats.binom.pmf(6,n,p))\n",
    "print(\"The probability of Barakha having 6 correct answer out of 12 question :\",stats.binom.pmf(6,N,P))"
   ]
  },
  {
   "cell_type": "code",
   "execution_count": 37,
   "metadata": {},
   "outputs": [
    {
     "data": {
      "text/plain": [
       "<matplotlib.axes._subplots.AxesSubplot at 0x235bb51dcd0>"
      ]
     },
     "execution_count": 37,
     "metadata": {},
     "output_type": "execute_result"
    },
    {
     "data": {
      "image/png": "[encoded data removed]",
      "text/plain": [
       "<Figure size 432x288 with 1 Axes>"
      ]
     },
     "metadata": {
      "needs_background": "light"
     },
     "output_type": "display_data"
    }
   ],
   "source": [
    "#for Gaurav\n",
    "binomial_data = stats.binom.rvs(n = 8,p = 0.75, size = 1000)\n",
    "sns.distplot(binomial_data)"
   ]
  },
  {
   "cell_type": "code",
   "execution_count": 38,
   "metadata": {},
   "outputs": [
    {
     "data": {
      "text/plain": [
       "<matplotlib.axes._subplots.AxesSubplot at 0x235bb5c7700>"
      ]
     },
     "execution_count": 38,
     "metadata": {},
     "output_type": "execute_result"
    },
    {
     "data": {
      "image/png": "[encoded data removed]",
      "text/plain": [
       "<Figure size 432x288 with 1 Axes>"
      ]
     },
     "metadata": {
      "needs_background": "light"
     },
     "output_type": "display_data"
    }
   ],
   "source": [
    "#for Barakha\n",
    "binomial_data = stats.binom.rvs(n = 12,p = 0.45, size = 1000)\n",
    "sns.distplot(binomial_data,color = \"red\")"
   ]
  },
  {
   "cell_type": "markdown",
   "metadata": {},
   "source": [
    "## Problem Statement 7:"
   ]
  },
  {
   "cell_type": "markdown",
   "metadata": {},
   "source": [
    "Customers arrive at a rate of 72 per hour to my shop. What is the probability of 𝑘\n",
    "customers arriving in 4 minutes? a) 5 customers, b) not more than 3 customers, c)\n",
    "more than 3 customers. Give a pictorial representation of the same to validate your\n",
    "answer."
   ]
  },
  {
   "cell_type": "code",
   "execution_count": 39,
   "metadata": {},
   "outputs": [],
   "source": [
    "#Customers arrive at a rate per hour \n",
    "h = 72\n",
    "#Customers arrive at a rate per minute\n",
    "m = h/60\n",
    "#total number of customer will arrive\n",
    "mu = m * 4"
   ]
  },
  {
   "cell_type": "code",
   "execution_count": 40,
   "metadata": {},
   "outputs": [
    {
     "name": "stdout",
     "output_type": "stream",
     "text": [
      "Mean number of occurances in the interval. : 4.8\n"
     ]
    }
   ],
   "source": [
    "print(\"Mean number of occurances in the interval. :\",mu)"
   ]
  },
  {
   "cell_type": "code",
   "execution_count": 41,
   "metadata": {},
   "outputs": [],
   "source": [
    "import seaborn as sns\n",
    "from scipy import stats"
   ]
  },
  {
   "cell_type": "code",
   "execution_count": 42,
   "metadata": {},
   "outputs": [],
   "source": [
    "prob1 = stats.poisson.pmf(k=5,mu=4.8)\n",
    "prob2 = sum(stats.poisson.pmf(k=[0,1,2],mu=4.8))\n",
    "prob3 = 1 - prob2"
   ]
  },
  {
   "cell_type": "code",
   "execution_count": 43,
   "metadata": {},
   "outputs": [
    {
     "name": "stdout",
     "output_type": "stream",
     "text": [
      "The probability of 5 customers arriving in 4 minutes : 0.17474768364388296\n",
      "The probability of not more than 3 customers arriving in 4 minutes : 0.14253921888902693\n",
      "The probability of more than 3 customers arriving in 4 minutes : 0.8574607811109731\n"
     ]
    }
   ],
   "source": [
    "print(\"The probability of 5 customers arriving in 4 minutes :\",prob1)\n",
    "print(\"The probability of not more than 3 customers arriving in 4 minutes :\",prob2)\n",
    "print(\"The probability of more than 3 customers arriving in 4 minutes :\",prob3)"
   ]
  },
  {
   "cell_type": "markdown",
   "metadata": {},
   "source": [
    "## Problem Statement 8:"
   ]
  },
  {
   "cell_type": "markdown",
   "metadata": {},
   "source": [
    "I work as a data analyst in Aeon Learning Pvt. Ltd. After analyzing data, I make\n",
    "reports, where I have the efficiency of entering 77 words per minute with 6 errors per\n",
    "hour. What is the probability that I will commit 2 errors in a 455-word financial report?\n",
    "What happens when the no. of words increases/decreases (in case of 1000 words,\n",
    "255 words)?\n",
    "How is the 𝜆 affected?\n",
    "How does it influence the PMF?\n",
    "Give a pictorial representation of the same to validate your answer."
   ]
  },
  {
   "cell_type": "code",
   "execution_count": 44,
   "metadata": {},
   "outputs": [],
   "source": [
    "#Error rate per hour in 77 words per minute\n",
    "err = 0.0012987013\n",
    "#Error rate per hour in 455 words per Hour\n",
    "mu = err * 455"
   ]
  },
  {
   "cell_type": "code",
   "execution_count": 45,
   "metadata": {},
   "outputs": [
    {
     "name": "stdout",
     "output_type": "stream",
     "text": [
      "Mean(𝜆) :  0.5909090915\n"
     ]
    }
   ],
   "source": [
    "print(\"Mean(𝜆) : \",mu)"
   ]
  },
  {
   "cell_type": "code",
   "execution_count": 46,
   "metadata": {},
   "outputs": [],
   "source": [
    "import seaborn as sns\n",
    "from scipy import stats"
   ]
  },
  {
   "cell_type": "code",
   "execution_count": 47,
   "metadata": {},
   "outputs": [
    {
     "name": "stdout",
     "output_type": "stream",
     "text": [
      "The probability commit 2 errors in a 455 words : 0.09669027388768985\n"
     ]
    },
    {
     "data": {
      "text/plain": [
       "<matplotlib.axes._subplots.AxesSubplot at 0x235bb6a61f0>"
      ]
     },
     "execution_count": 47,
     "metadata": {},
     "output_type": "execute_result"
    },
    {
     "data": {
      "image/png": "[encoded data removed]",
      "text/plain": [
       "<Figure size 432x288 with 1 Axes>"
      ]
     },
     "metadata": {
      "needs_background": "light"
     },
     "output_type": "display_data"
    }
   ],
   "source": [
    "prob1 = stats.poisson.pmf(2,mu)\n",
    "print(\"The probability commit 2 errors in a 455 words :\",prob1)\n",
    "poisson_data = stats.poisson.rvs(mu,size=1000)\n",
    "sns.distplot(poisson_data,color = \"red\")"
   ]
  },
  {
   "cell_type": "code",
   "execution_count": 48,
   "metadata": {},
   "outputs": [
    {
     "name": "stdout",
     "output_type": "stream",
     "text": [
      "Mean(𝜆) :  1.2987013\n",
      "The probability commit 2 errors in a 1000 words : 0.23012815023439012\n"
     ]
    },
    {
     "data": {
      "text/plain": [
       "<matplotlib.axes._subplots.AxesSubplot at 0x235bb73e4f0>"
      ]
     },
     "execution_count": 48,
     "metadata": {},
     "output_type": "execute_result"
    },
    {
     "data": {
      "image/png": "[encoded data removed]",
      "text/plain": [
       "<Figure size 432x288 with 1 Axes>"
      ]
     },
     "metadata": {
      "needs_background": "light"
     },
     "output_type": "display_data"
    }
   ],
   "source": [
    "#when the no. of words increases to 1000\n",
    "mu = err * 1000\n",
    "print(\"Mean(𝜆) : \",mu)\n",
    "prob1 = stats.poisson.pmf(2,mu)\n",
    "print(\"The probability commit 2 errors in a 1000 words :\",prob1)\n",
    "poisson_data = stats.poisson.rvs(mu,size=1000)\n",
    "sns.distplot(poisson_data,color = \"blue\")"
   ]
  },
  {
   "cell_type": "code",
   "execution_count": 49,
   "metadata": {},
   "outputs": [
    {
     "name": "stdout",
     "output_type": "stream",
     "text": [
      "Mean(𝜆) :  0.33116883150000004\n",
      "The probability commit 2 errors in a 1000 words : 0.0393771354585679\n"
     ]
    },
    {
     "data": {
      "text/plain": [
       "<matplotlib.axes._subplots.AxesSubplot at 0x235bb7ba550>"
      ]
     },
     "execution_count": 49,
     "metadata": {},
     "output_type": "execute_result"
    },
    {
     "data": {
      "image/png": "[encoded data removed]",
      "text/plain": [
       "<Figure size 432x288 with 1 Axes>"
      ]
     },
     "metadata": {
      "needs_background": "light"
     },
     "output_type": "display_data"
    }
   ],
   "source": [
    "#when the no. of words decreases to 255\n",
    "mu = err * 255\n",
    "print(\"Mean(𝜆) : \",mu)\n",
    "prob1 = stats.poisson.pmf(2,mu)\n",
    "print(\"The probability commit 2 errors in a 1000 words :\",prob1)\n",
    "poisson_data = stats.poisson.rvs(mu,size=1000)\n",
    "sns.distplot(poisson_data,color = \"green\")"
   ]
  },
  {
   "cell_type": "markdown",
   "metadata": {},
   "source": [
    "Value of lambda(𝜆) increase  when we increase number of words and vica versa."
   ]
  },
  {
   "cell_type": "markdown",
   "metadata": {},
   "source": [
    "## Problem Statement 9:"
   ]
  },
  {
   "cell_type": "markdown",
   "metadata": {},
   "source": [
    "Let the continuous random variable D denote the diameter of the hole drilled in an\n",
    "aluminum sheet. The target diameter to be achieved is 12.5mm. Random\n",
    "disturbances in the process often result in inaccuracy.\n",
    "Historical data shows that the distribution of D can be modelled by the PDF, f(d) =\n",
    "20e−20(d−12.5), d ≥ 12.5. If a part with diameter > 12.6 mm needs to be scrapped,\n",
    "what is the proportion of those parts? What is the CDF when the diameter is of 11\n",
    "mm?\n",
    "What is the conclusion of this experiment?"
   ]
  },
  {
   "cell_type": "code",
   "execution_count": 50,
   "metadata": {},
   "outputs": [],
   "source": [
    "import numpy as np\n",
    "from scipy import stats\n",
    "from scipy.integrate import quad"
   ]
  },
  {
   "cell_type": "code",
   "execution_count": 51,
   "metadata": {},
   "outputs": [],
   "source": [
    "def f(d):\n",
    "    return 20*np.exp(- 20 * (𝑑 - 12.5))"
   ]
  },
  {
   "cell_type": "code",
   "execution_count": 52,
   "metadata": {},
   "outputs": [],
   "source": [
    "result, error = quad(f, 12.6, float('inf'))"
   ]
  },
  {
   "cell_type": "code",
   "execution_count": 53,
   "metadata": {},
   "outputs": [
    {
     "name": "stdout",
     "output_type": "stream",
     "text": [
      "probability of the proportion of 12.5 to 12.6 : 0.8646647167633861\n"
     ]
    }
   ],
   "source": [
    "print(\"probability of the proportion of 12.5 to 12.6 :\",(1-result))"
   ]
  },
  {
   "cell_type": "code",
   "execution_count": 54,
   "metadata": {},
   "outputs": [
    {
     "name": "stderr",
     "output_type": "stream",
     "text": [
      "<ipython-input-51-cb81898d61fd>:2: RuntimeWarning: overflow encountered in exp\n",
      "  return 20*np.exp(- 20 * (𝑑 - 12.5))\n",
      "<ipython-input-54-8df29d4c7169>:1: IntegrationWarning: The maximum number of subdivisions (50) has been achieved.\n",
      "  If increasing the limit yields no improvement it is advised to analyze \n",
      "  the integrand in order to determine the difficulties.  If the position of a \n",
      "  local difficulty can be determined (singularity, discontinuity) one will \n",
      "  probably gain from splitting up the interval and calling the integrator \n",
      "  on the subranges.  Perhaps a special-purpose integrator should be used.\n",
      "  cdf , err = quad(f,float(\"-inf\"),11)\n"
     ]
    }
   ],
   "source": [
    "cdf , err = quad(f,float(\"-inf\"),11)"
   ]
  },
  {
   "cell_type": "code",
   "execution_count": 55,
   "metadata": {},
   "outputs": [
    {
     "name": "stdout",
     "output_type": "stream",
     "text": [
      "The CDF when the diameter is of 11 mm : nan\n"
     ]
    }
   ],
   "source": [
    "print(\"The CDF when the diameter is of 11 mm :\",cdf)"
   ]
  },
  {
   "cell_type": "markdown",
   "metadata": {},
   "source": [
    "Conclusion regarding the proportion of scraps : Upto the point 12.5 CDF is Zero ."
   ]
  },
  {
   "cell_type": "markdown",
   "metadata": {},
   "source": [
    "## Problem Statement 10:"
   ]
  },
  {
   "cell_type": "markdown",
   "metadata": {},
   "source": [
    "Please compute the following:\n",
    "    \n",
    "a) P(Z > 1.26), . P(Z < −0.86), P(Z > −1.37), P(−1.25 < Z < 0.37), . P(Z ≤ −4.6)"
   ]
  },
  {
   "cell_type": "code",
   "execution_count": 56,
   "metadata": {},
   "outputs": [],
   "source": [
    "import numpy as np\n",
    "from scipy import stats\n",
    "from scipy.integrate import quad"
   ]
  },
  {
   "cell_type": "code",
   "execution_count": 57,
   "metadata": {},
   "outputs": [],
   "source": [
    "def normal(x):\n",
    "    return (np.exp(-x**2 / 2)/np.sqrt(2*np.pi))"
   ]
  },
  {
   "cell_type": "code",
   "execution_count": 58,
   "metadata": {},
   "outputs": [
    {
     "name": "stdout",
     "output_type": "stream",
     "text": [
      "probability of P(Z > 1.26) :  0.10383468112129923\n"
     ]
    }
   ],
   "source": [
    "result, error = quad(normal,np.NINF,1.26)\n",
    "print(\"probability of P(Z > 1.26) : \",1-result)"
   ]
  },
  {
   "cell_type": "code",
   "execution_count": 59,
   "metadata": {},
   "outputs": [
    {
     "name": "stdout",
     "output_type": "stream",
     "text": [
      "probability of P(Z < -0.86) :  0.19489452125180842\n"
     ]
    }
   ],
   "source": [
    "result, error = quad(normal,np.NINF,-0.86)\n",
    "print(\"probability of P(Z < -0.86) : \",result)"
   ]
  },
  {
   "cell_type": "code",
   "execution_count": 60,
   "metadata": {},
   "outputs": [
    {
     "name": "stdout",
     "output_type": "stream",
     "text": [
      "probability of P(Z > -1.37) :  0.914656549178033\n"
     ]
    }
   ],
   "source": [
    "result, error = quad(normal,np.NINF,-1.37)\n",
    "print(\"probability of P(Z > -1.37) : \",1-result)"
   ]
  },
  {
   "cell_type": "code",
   "execution_count": 61,
   "metadata": {},
   "outputs": [
    {
     "name": "stdout",
     "output_type": "stream",
     "text": [
      "probability of P(−1.25 < Z < 0.37) :  0.5386589811336914\n"
     ]
    }
   ],
   "source": [
    "result1, error1 = quad(normal,np.NINF,0.37)\n",
    "result2, error2 = quad(normal,np.NINF,-1.25)\n",
    "print(\"probability of P(−1.25 < Z < 0.37) : \",result1-result2)"
   ]
  },
  {
   "cell_type": "code",
   "execution_count": 62,
   "metadata": {},
   "outputs": [
    {
     "name": "stdout",
     "output_type": "stream",
     "text": [
      "probability of P(Z ≤ −4.6) :  2.1124545922985606e-06\n"
     ]
    }
   ],
   "source": [
    "result, error = quad(normal,np.NINF,-4.6)\n",
    "print(\"probability of P(Z ≤ −4.6) : \",result)"
   ]
  },
  {
   "cell_type": "markdown",
   "metadata": {},
   "source": [
    "___________________________________________________\n",
    "b) Find the value 𝑧 such that 𝑃(𝑍 > 𝑧) = 0.05"
   ]
  },
  {
   "cell_type": "markdown",
   "metadata": {},
   "source": [
    "As P(Z > z) = 0.05 implies that P(Z ≤ z) = 0.95"
   ]
  },
  {
   "cell_type": "code",
   "execution_count": 63,
   "metadata": {},
   "outputs": [
    {
     "name": "stdout",
     "output_type": "stream",
     "text": [
      "The value 𝑧 such that 𝑃(𝑍 > 𝑧) = 0.05 :  1.6448536269514722\n"
     ]
    }
   ],
   "source": [
    "from scipy.stats import norm\n",
    "print(\"The value 𝑧 such that 𝑃(𝑍 > 𝑧) = 0.05 : \",norm.ppf(0.95))"
   ]
  },
  {
   "cell_type": "markdown",
   "metadata": {},
   "source": [
    "_____________________________________________________________\n",
    "c) Find the value of 𝑧 such that 𝑃(−𝑧 < 𝑍 < 𝑧) = 0.99"
   ]
  },
  {
   "cell_type": "markdown",
   "metadata": {},
   "source": [
    "As total probability is equal to 1.\n",
    "then 1 - 0.99 = 0.01 divide by 2 = 0.505"
   ]
  },
  {
   "cell_type": "code",
   "execution_count": 64,
   "metadata": {},
   "outputs": [
    {
     "name": "stdout",
     "output_type": "stream",
     "text": [
      "The value 𝑧 such that 𝑃(−𝑧 < 𝑍 < 𝑧) = 0.99 :  0.012533469508069276\n"
     ]
    }
   ],
   "source": [
    "from scipy.stats import norm\n",
    "print(\"The value 𝑧 such that 𝑃(−𝑧 < 𝑍 < 𝑧) = 0.99 : \",norm.ppf(0.505))"
   ]
  },
  {
   "cell_type": "markdown",
   "metadata": {},
   "source": [
    "## Problem Statement 11:"
   ]
  },
  {
   "cell_type": "markdown",
   "metadata": {},
   "source": [
    "The current flow in a copper wire follow a normal distribution with a mean of 10 𝑚A\n",
    "and a variance of 4 (𝑚𝐴)2.\n",
    "What is the probability that a current measurement will exceed 13 𝑚𝐴? What is the\n",
    "probability that a current measurement is between 9 and 11mA? Determine the\n",
    "current measurement which has a probability of 0.98."
   ]
  },
  {
   "cell_type": "code",
   "execution_count": 65,
   "metadata": {},
   "outputs": [],
   "source": [
    "from scipy import stats"
   ]
  },
  {
   "cell_type": "code",
   "execution_count": 66,
   "metadata": {},
   "outputs": [],
   "source": [
    "mean = 10\n",
    "var = 4\n",
    "std = 2 "
   ]
  },
  {
   "cell_type": "code",
   "execution_count": 67,
   "metadata": {},
   "outputs": [],
   "source": [
    "def f(x) :\n",
    "    return stats.norm.pdf(x,mean,std)"
   ]
  },
  {
   "cell_type": "code",
   "execution_count": 68,
   "metadata": {},
   "outputs": [],
   "source": [
    "result, error = quad(f, 13, float('inf'))"
   ]
  },
  {
   "cell_type": "code",
   "execution_count": 69,
   "metadata": {},
   "outputs": [
    {
     "name": "stdout",
     "output_type": "stream",
     "text": [
      "probability that a current measurement will exceed 13 𝑚𝐴 : 0.06680720126885485\n"
     ]
    }
   ],
   "source": [
    "print(\"probability that a current measurement will exceed 13 𝑚𝐴 :\",result)"
   ]
  },
  {
   "cell_type": "code",
   "execution_count": 70,
   "metadata": {},
   "outputs": [
    {
     "name": "stdout",
     "output_type": "stream",
     "text": [
      "probability that a current measurement is between 9 and 11mA : 0.3829249225480263\n"
     ]
    }
   ],
   "source": [
    "print(\"probability that a current measurement is between 9 and 11mA :\",quad(f, 9, 11)[0])"
   ]
  },
  {
   "cell_type": "markdown",
   "metadata": {},
   "source": [
    "## Problem Statement 12:"
   ]
  },
  {
   "cell_type": "markdown",
   "metadata": {},
   "source": [
    "The shaft in a piston has its diameter normally distributed with a mean of 0.2508 inch\n",
    "and a standard deviation of 0.0005 inch. The specifications of the shaft are 0.2500 ∓\n",
    "0.0015 inch. What proportion of shafts are in sync with the specifications? If the\n",
    "process is centered so that the mean is equal to the target value of 0.2500, what\n",
    "proportion of shafts conform to the new specifications? What is your conclusion from\n",
    "this experiment?"
   ]
  },
  {
   "cell_type": "code",
   "execution_count": 71,
   "metadata": {},
   "outputs": [],
   "source": [
    "mean = 0.2508\n",
    "std = 0.0005\n",
    "lower_point = 0.2500 - 0.0015\n",
    "upper_point = 0.2500 + 0.0015"
   ]
  },
  {
   "cell_type": "code",
   "execution_count": 72,
   "metadata": {},
   "outputs": [],
   "source": [
    "def f(x) :\n",
    "    return stats.norm.pdf(x,mean,std)"
   ]
  },
  {
   "cell_type": "code",
   "execution_count": 73,
   "metadata": {},
   "outputs": [],
   "source": [
    "result, error = quad(f,lower_point,upper_point)"
   ]
  },
  {
   "cell_type": "code",
   "execution_count": 74,
   "metadata": {},
   "outputs": [
    {
     "name": "stdout",
     "output_type": "stream",
     "text": [
      "proportion of shafts are in sync with the specifications : 0.9192412283115245\n"
     ]
    }
   ],
   "source": [
    "print(\"proportion of shafts are in sync with the specifications :\",result)"
   ]
  },
  {
   "cell_type": "code",
   "execution_count": 75,
   "metadata": {},
   "outputs": [],
   "source": [
    "new_mean = 0.2500"
   ]
  },
  {
   "cell_type": "code",
   "execution_count": 76,
   "metadata": {},
   "outputs": [],
   "source": [
    "def f(x) :\n",
    "    return stats.norm.pdf(x,new_mean,std)\n",
    "\n",
    "result, error = quad(f,lower_point,upper_point)"
   ]
  },
  {
   "cell_type": "code",
   "execution_count": 77,
   "metadata": {},
   "outputs": [
    {
     "name": "stdout",
     "output_type": "stream",
     "text": [
      "proportion of shafts are in sync with the specifications : 0.9973002039367174\n"
     ]
    }
   ],
   "source": [
    "print(\"proportion of shafts are in sync with the specifications :\",result)"
   ]
  },
  {
   "cell_type": "code",
   "execution_count": null,
   "metadata": {},
   "outputs": [],
   "source": []
  },
  {
   "cell_type": "code",
   "execution_count": null,
   "metadata": {},
   "outputs": [],
   "source": []
  },
  {
   "cell_type": "code",
   "execution_count": null,
   "metadata": {},
   "outputs": [],
   "source": []
  }
 ],
 "metadata": {
  "kernelspec": {
   "display_name": "Python 3",
   "language": "python",
   "name": "python3"
  },
  "language_info": {
   "codemirror_mode": {
    "name": "ipython",
    "version": 3
   },
   "file_extension": ".py",
   "mimetype": "text/x-python",
   "name": "python",
   "nbconvert_exporter": "python",
   "pygments_lexer": "ipython3",
   "version": "3.8.3"
  }
 },
 "nbformat": 4,
 "nbformat_minor": 4
}

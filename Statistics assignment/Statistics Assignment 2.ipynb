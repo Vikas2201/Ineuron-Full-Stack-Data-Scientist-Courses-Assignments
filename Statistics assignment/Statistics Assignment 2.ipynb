{
 "cells": [
  {
   "cell_type": "markdown",
   "metadata": {},
   "source": [
    "# Problem Statement 1:"
   ]
  },
  {
   "cell_type": "markdown",
   "metadata": {},
   "source": [
    "In each of the following situations, state whether it is a correctly stated hypothesis testing problem and why?\n",
    "\n",
    "1. 𝐻0: 𝜇 = 25, 𝐻1: 𝜇 ≠ 25\n",
    "        \n",
    "2. 𝐻0: 𝜎 > 10, 𝐻1: 𝜎 = 10\n",
    "        \n",
    "3. 𝐻0: 𝑥 = 50, 𝐻1: 𝑥 ≠ 50\n",
    "        \n",
    "4. 𝐻0: 𝑝 = 0.1, 𝐻1: 𝑝 = 0.5\n",
    "        \n",
    "5. 𝐻0: 𝑠 = 30, 𝐻1: 𝑠 > 30"
   ]
  },
  {
   "cell_type": "markdown",
   "metadata": {},
   "source": [
    "##### Answer :\n",
    "(1) , (3) , (5)  is a correctly stated hypothesis testing problem because null hypothesis states that there is no difference between a hypothesized\n",
    "population mean and a sample mean."
   ]
  },
  {
   "cell_type": "markdown",
   "metadata": {},
   "source": [
    "# Problem Statement 2:"
   ]
  },
  {
   "cell_type": "markdown",
   "metadata": {},
   "source": [
    "The college bookstore tells prospective students that the average cost of its\n",
    "textbooks is Rs. 52 with a standard deviation of Rs. 4.50. A group of smart statistics\n",
    "students thinks that the average cost is higher. To test the bookstore’s claim against\n",
    "their alternative, the students will select a random sample of size 100. Assume that\n",
    "the mean from their random sample is Rs. 52.80. Perform a hypothesis test at the\n",
    "5% level of significance and state your decision."
   ]
  },
  {
   "cell_type": "markdown",
   "metadata": {},
   "source": [
    "##### Answer :\n",
    "Average cost of its textbooks(𝜇) = Rs. 52 \n",
    "\n",
    "Standard deviation (𝜎) =  Rs. 4.50\n",
    "\n",
    "Random sample of size(n) = 100\n",
    "\n",
    "Mean of random sample (x¯) = Rs. 52.80\n",
    "\n",
    "level of significance (alpha) = 0.05"
   ]
  },
  {
   "cell_type": "markdown",
   "metadata": {},
   "source": [
    "Null Hypothesis (𝐻0) : 𝜇 = 52 \n",
    "\n",
    "Alternate Hypothesis (𝐻1) : 𝜇 != 52"
   ]
  },
  {
   "cell_type": "code",
   "execution_count": 1,
   "metadata": {},
   "outputs": [],
   "source": [
    "import numpy as np"
   ]
  },
  {
   "cell_type": "code",
   "execution_count": 2,
   "metadata": {},
   "outputs": [],
   "source": [
    "def Ztest(s_mean , p_mean , n , std):\n",
    "    return (s_mean - p_mean)/(std / np.sqrt(n))"
   ]
  },
  {
   "cell_type": "code",
   "execution_count": 3,
   "metadata": {},
   "outputs": [
    {
     "name": "stdout",
     "output_type": "stream",
     "text": [
      "1.7777777777777715\n"
     ]
    }
   ],
   "source": [
    "s_mean = 52.80\n",
    "p_mean = 52\n",
    "n = 100\n",
    "std = 4.50\n",
    "z_value = Ztest(s_mean , p_mean , n , std)\n",
    "print(z_value)"
   ]
  },
  {
   "cell_type": "markdown",
   "metadata": {},
   "source": [
    "We use significance level α = 0.05, but because of a two-sided test we have two rejection regions. They are z < −1.96 or z > 1.96.."
   ]
  },
  {
   "cell_type": "code",
   "execution_count": 4,
   "metadata": {},
   "outputs": [
    {
     "name": "stdout",
     "output_type": "stream",
     "text": [
      "We Do Not Reject The Null Hypothesis(HO)\n"
     ]
    }
   ],
   "source": [
    "if z_value > 1.96 or z_value < -1.96  :\n",
    "    print(\"We Reject the Null Hypothesis(HO)\")\n",
    "else :\n",
    "    print(\"We Do Not Reject The Null Hypothesis(HO)\")"
   ]
  },
  {
   "cell_type": "markdown",
   "metadata": {},
   "source": [
    "We accept the Null Hypothesis , Hence the mean average cost of textbook is Rs. 52"
   ]
  },
  {
   "cell_type": "markdown",
   "metadata": {},
   "source": [
    "# Problem Statement 3:"
   ]
  },
  {
   "cell_type": "markdown",
   "metadata": {},
   "source": [
    "A certain chemical pollutant in the Genesee River has been constant for several\n",
    "years with mean μ = 34 ppm (parts per million) and standard deviation σ = 8 ppm. A\n",
    "group of factory representatives whose companies discharge liquids into the river is\n",
    "now claiming that they have lowered the average with improved filtration devices. A\n",
    "group of environmentalists will test to see if this is true at the 1% level of\n",
    "significance. Assume \\ that their sample of size 50 gives a mean of 32.5 ppm.\n",
    "Perform a hypothesis test at the 1% level of significance and state your decision."
   ]
  },
  {
   "cell_type": "markdown",
   "metadata": {},
   "source": [
    "###### Answer :\n",
    "\n",
    "mean (𝜇) = 34 ppm\n",
    "\n",
    "Standard deviation (𝜎) = 8 ppm\n",
    "\n",
    "Random sample of size(n) = 50\n",
    "\n",
    "Mean of random sample (x¯) = 32.5 ppm\n",
    "\n",
    "level of significance (alpha) = 0.01\n",
    "\n",
    "Null Hypothesis (𝐻0) : 𝜇 = 34 ppm\n",
    "\n",
    "Alternate Hypothesis (𝐻1) : 𝜇 < 34 ppm"
   ]
  },
  {
   "cell_type": "code",
   "execution_count": 5,
   "metadata": {},
   "outputs": [],
   "source": [
    "import numpy as np"
   ]
  },
  {
   "cell_type": "code",
   "execution_count": 6,
   "metadata": {},
   "outputs": [],
   "source": [
    "def Ztest(s_mean , p_mean , n , std):\n",
    "    return (s_mean - p_mean)/(std / np.sqrt(n))"
   ]
  },
  {
   "cell_type": "code",
   "execution_count": 7,
   "metadata": {},
   "outputs": [
    {
     "name": "stdout",
     "output_type": "stream",
     "text": [
      "-1.3258252147247767\n"
     ]
    }
   ],
   "source": [
    "s_mean = 32.5\n",
    "p_mean = 34\n",
    "n = 50\n",
    "std = 8\n",
    "z_value = Ztest(s_mean , p_mean , n , std)\n",
    "print(z_value)"
   ]
  },
  {
   "cell_type": "markdown",
   "metadata": {},
   "source": [
    "we use level of significance (alpha) = 0.01, therefore the rejection region is when z_value < -2.326."
   ]
  },
  {
   "cell_type": "code",
   "execution_count": 8,
   "metadata": {},
   "outputs": [
    {
     "name": "stdout",
     "output_type": "stream",
     "text": [
      "We Do Not Reject The Null Hypothesis(HO)\n"
     ]
    }
   ],
   "source": [
    "if z_value < -2.326 :\n",
    "    print(\"We Reject the Null Hypothesis(HO)\")\n",
    "else :\n",
    "    print(\"We Do Not Reject The Null Hypothesis(HO)\")"
   ]
  },
  {
   "cell_type": "markdown",
   "metadata": {},
   "source": [
    "We accept the Null Hypothesis, Hence we claim that they have lowered the average with improved filtration devices"
   ]
  },
  {
   "cell_type": "markdown",
   "metadata": {},
   "source": [
    "# Problem Statement 4:"
   ]
  },
  {
   "cell_type": "markdown",
   "metadata": {},
   "source": [
    "Based on population figures and other general information on the U.S. population,\n",
    "suppose it has been estimated that, on average, a family of four in the U.S. spends\n",
    "about $1135 annually on dental expenditures. Suppose further that a regional dental\n",
    "association wants to test to determine if this figure is accurate for their area of\n",
    "country. To test this, 22 families of 4 are randomly selected from the population in\n",
    "that area of the country and a log is kept of the family’s dental expenditure for one\n",
    "year. The resulting data are given below. Assuming, that dental expenditure is\n",
    "normally distributed in the population, use the data and an alpha of 0.5 to test the\n",
    "dental association’s hypothesis.\n",
    "1008, 812, 1117, 1323, 1308, 1415, 831, 1021, 1287, 851, 930, 730, 699,\n",
    "872, 913, 944, 954, 987, 1695, 995, 1003, 994"
   ]
  },
  {
   "cell_type": "markdown",
   "metadata": {},
   "source": [
    "##### Answer :\n",
    "\n",
    "population mean (𝜇) = $1135\n",
    "\n",
    "Random sample of size(n) = 22\n",
    "\n",
    "level of significance (alpha) = 0.5\n",
    "\n",
    "Null Hypothesis (𝐻0) : 𝜇 = $1135\n",
    "\n",
    "Alternate Hypothesis (𝐻1) : 𝜇 != $1135"
   ]
  },
  {
   "cell_type": "code",
   "execution_count": 9,
   "metadata": {},
   "outputs": [],
   "source": [
    "import numpy as np\n",
    "from scipy.stats import ttest_1samp"
   ]
  },
  {
   "cell_type": "code",
   "execution_count": 10,
   "metadata": {},
   "outputs": [],
   "source": [
    "sample_data = [1008, 812, 1117, 1323, 1308, 1415, 831, 1021, 1287, 851, 930, 730, 699, 872, 913, 944, 954, 987, 1695, 995, 1003, 994]"
   ]
  },
  {
   "cell_type": "code",
   "execution_count": 11,
   "metadata": {},
   "outputs": [],
   "source": [
    "p_mean = 1135\n",
    "ttest_value , p_value = ttest_1samp(sample_data , p_mean)"
   ]
  },
  {
   "cell_type": "code",
   "execution_count": 12,
   "metadata": {},
   "outputs": [
    {
     "name": "stdout",
     "output_type": "stream",
     "text": [
      "T value : -2.023137479931484\n",
      "p value : 0.0559738319464585\n"
     ]
    }
   ],
   "source": [
    "print(\"T value :\",ttest_value)\n",
    "print(\"p value :\",p_value)"
   ]
  },
  {
   "cell_type": "code",
   "execution_count": 13,
   "metadata": {},
   "outputs": [
    {
     "name": "stdout",
     "output_type": "stream",
     "text": [
      "Reject Null Hypothesis\n"
     ]
    }
   ],
   "source": [
    "if p_value < 0.5 :\n",
    "    print(\"Reject Null Hypothesis\")\n",
    "else :\n",
    "    print(\"Accept Null Hypothesis\")"
   ]
  },
  {
   "cell_type": "markdown",
   "metadata": {},
   "source": [
    "# Problem Statement 5:"
   ]
  },
  {
   "cell_type": "markdown",
   "metadata": {},
   "source": [
    "In a report prepared by the Economic Research Department of a major bank the\n",
    "Department manager maintains that the average annual family income on Metropolis\n",
    "is $48,432. What  do you conclude about the validity of the report if a random sample\n",
    "of 400 families shows and average income of $48,574  with a standard deviation of\n",
    "2000?"
   ]
  },
  {
   "cell_type": "markdown",
   "metadata": {},
   "source": [
    "##### Answer :\n",
    "\n",
    "population mean (𝜇) = 48432 \n",
    "\n",
    "Standard deviation (𝜎) = 2000\n",
    "\n",
    "Random sample of size(n) = 400\n",
    "\n",
    "Mean of random sample (x¯) = 48574 \n",
    "\n",
    "level of significance (alpha) = 0.05\n",
    "\n",
    "Null Hypothesis (𝐻0) : 𝜇 = 48432\n",
    "\n",
    "Alternate Hypothesis (𝐻1) : 𝜇 != 48432"
   ]
  },
  {
   "cell_type": "code",
   "execution_count": 14,
   "metadata": {},
   "outputs": [],
   "source": [
    "import numpy as np"
   ]
  },
  {
   "cell_type": "code",
   "execution_count": 15,
   "metadata": {},
   "outputs": [],
   "source": [
    "def Ztest(s_mean , p_mean , n , std):\n",
    "    return (s_mean - p_mean)/(std / np.sqrt(n))"
   ]
  },
  {
   "cell_type": "code",
   "execution_count": 16,
   "metadata": {},
   "outputs": [
    {
     "name": "stdout",
     "output_type": "stream",
     "text": [
      "Z value :  1.42\n"
     ]
    }
   ],
   "source": [
    "s_mean = 48574\n",
    "p_mean = 48432\n",
    "n = 400\n",
    "std = 2000\n",
    "z_value = Ztest(s_mean , p_mean , n , std)\n",
    "print(\"Z value : \",z_value)"
   ]
  },
  {
   "cell_type": "markdown",
   "metadata": {},
   "source": [
    "We use significance level α = 0.05, but because of a two-sided test we have two rejection regions. They are z < −1.96 or z > 1.96.."
   ]
  },
  {
   "cell_type": "code",
   "execution_count": 17,
   "metadata": {},
   "outputs": [
    {
     "name": "stdout",
     "output_type": "stream",
     "text": [
      "We Do Not Reject The Null Hypothesis(HO)\n"
     ]
    }
   ],
   "source": [
    "if z_value > 1.96 or z_value < -1.96  :\n",
    "    print(\"We Reject the Null Hypothesis(HO)\")\n",
    "else :\n",
    "    print(\"We Do Not Reject The Null Hypothesis(HO)\")"
   ]
  },
  {
   "cell_type": "markdown",
   "metadata": {},
   "source": [
    "# Problem Statement 6:"
   ]
  },
  {
   "cell_type": "raw",
   "metadata": {},
   "source": [
    "Suppose that in past years the average price per square foot for warehouses in the United States has been $32.28. A national real estate investor wants to determine whether that figure has changed now. The investor hires a researcher who randomly\n",
    "samples 19 warehouses that are for sale across the United States and finds that the mean price per square foot is $31.67, with a standard deviation of $1.29. assume that the prices of warehouse footage are normally distributed in population. If the\n",
    "researcher uses a 5% level of significance, what statistical conclusion can be reached? What are the hypotheses?"
   ]
  },
  {
   "cell_type": "markdown",
   "metadata": {},
   "source": [
    "##### Answer :\n",
    "\n",
    "population mean (𝜇) = 32.28\n",
    "\n",
    "Standard deviation (𝜎) = 1.29\n",
    "\n",
    "Random sample of size(n) = 19\n",
    "\n",
    "Mean of random sample (x¯) = 31.67\n",
    "\n",
    "level of significance (alpha) = 0.05\n",
    "\n",
    "Null Hypothesis (𝐻0) : 𝜇 = 32.28\n",
    "\n",
    "Alternate Hypothesis (𝐻1) : 𝜇 != 32.28"
   ]
  },
  {
   "cell_type": "code",
   "execution_count": 18,
   "metadata": {},
   "outputs": [],
   "source": [
    "import numpy as np"
   ]
  },
  {
   "cell_type": "code",
   "execution_count": 19,
   "metadata": {},
   "outputs": [],
   "source": [
    "def Ztest(s_mean , p_mean , n , std):\n",
    "    return (s_mean - p_mean)/(std / np.sqrt(n))"
   ]
  },
  {
   "cell_type": "code",
   "execution_count": 20,
   "metadata": {},
   "outputs": [
    {
     "name": "stdout",
     "output_type": "stream",
     "text": [
      "Z value :  -2.06118477175179\n"
     ]
    }
   ],
   "source": [
    "s_mean = 31.67\n",
    "p_mean = 32.28\n",
    "n = 19\n",
    "std = 1.29\n",
    "z_value = Ztest(s_mean , p_mean , n , std)\n",
    "print(\"Z value : \",z_value)"
   ]
  },
  {
   "cell_type": "markdown",
   "metadata": {},
   "source": [
    "We use significance level α = 0.05, but because of a two-sided test we have two rejection regions. They are z < −1.96 or z > 1.96.."
   ]
  },
  {
   "cell_type": "code",
   "execution_count": 21,
   "metadata": {},
   "outputs": [
    {
     "name": "stdout",
     "output_type": "stream",
     "text": [
      "We Reject the Null Hypothesis(HO)\n"
     ]
    }
   ],
   "source": [
    "if z_value > 1.96 or z_value < -1.96  :\n",
    "    print(\"We Reject the Null Hypothesis(HO)\")\n",
    "else :\n",
    "    print(\"We Do Not Reject The Null Hypothesis(HO)\")"
   ]
  },
  {
   "cell_type": "markdown",
   "metadata": {},
   "source": [
    "We Reject the Null Hypothesis, Hence the average price per square foot for warehouse has changed now."
   ]
  },
  {
   "cell_type": "markdown",
   "metadata": {},
   "source": [
    "# Problem Statement 7:"
   ]
  },
  {
   "cell_type": "markdown",
   "metadata": {},
   "source": [
    "Fill in the blank spaces in the table and draw your conclusions from it."
   ]
  },
  {
   "cell_type": "code",
   "execution_count": null,
   "metadata": {},
   "outputs": [],
   "source": []
  },
  {
   "cell_type": "markdown",
   "metadata": {},
   "source": [
    "# Problem Statement 8:"
   ]
  },
  {
   "cell_type": "markdown",
   "metadata": {},
   "source": [
    "Find the t-score for a sample size of 16 taken from a population with mean 10 when\n",
    "the sample mean is 12 and the sample standard deviation is 1.5."
   ]
  },
  {
   "cell_type": "markdown",
   "metadata": {},
   "source": [
    "##### Answer :\n",
    "\n",
    "population mean (𝜇) = 10\n",
    "\n",
    "Sample standard deviation (s) = 1.5\n",
    "\n",
    "Random sample of size(n) = 16\n",
    "\n",
    "Mean of random sample (x¯) = 12"
   ]
  },
  {
   "cell_type": "code",
   "execution_count": 22,
   "metadata": {},
   "outputs": [],
   "source": [
    "import numpy as np"
   ]
  },
  {
   "cell_type": "code",
   "execution_count": 23,
   "metadata": {},
   "outputs": [],
   "source": [
    "def Ttest(s_mean , p_mean , n , s_std):\n",
    "    return (s_mean - p_mean)/(s_std / np.sqrt(n))"
   ]
  },
  {
   "cell_type": "code",
   "execution_count": 24,
   "metadata": {},
   "outputs": [
    {
     "name": "stdout",
     "output_type": "stream",
     "text": [
      "T_Score value :  6.201550387596899\n"
     ]
    }
   ],
   "source": [
    "s_mean = 12\n",
    "p_mean = 10\n",
    "n = 16\n",
    "s_std = 1.5\n",
    "T_Score = Ttest(s_mean , p_mean , n , std)\n",
    "print(\"T_Score value : \",T_Score)"
   ]
  },
  {
   "cell_type": "markdown",
   "metadata": {},
   "source": [
    "# Problem Statement 9:"
   ]
  },
  {
   "cell_type": "markdown",
   "metadata": {},
   "source": [
    "Find the t-score below which we can expect 99% of sample means will fall if samples\n",
    "of size 16 are taken from a normally distributed population."
   ]
  },
  {
   "cell_type": "markdown",
   "metadata": {},
   "source": [
    "##### Answer :\n",
    "\n",
    "Sample size (n) =  16\n",
    "\n",
    "confident Interval = 99%"
   ]
  },
  {
   "cell_type": "markdown",
   "metadata": {},
   "source": [
    "degree of freedom (dof) = n -1\n",
    "                        = 16 - 1 = 15"
   ]
  },
  {
   "cell_type": "markdown",
   "metadata": {},
   "source": [
    "t-score at 99% = -(t-score at 1%)\n",
    "\n",
    "As t-score at 1% = 2.602\n",
    "\n",
    "Therefore, t-score at 99% = -2.602"
   ]
  },
  {
   "cell_type": "markdown",
   "metadata": {},
   "source": [
    "# Problem Statement 10:"
   ]
  },
  {
   "cell_type": "markdown",
   "metadata": {},
   "source": [
    "If a random sample of size 25 drawn from a normal population gives a mean of 60\n",
    "and a standard deviation of 4, find the range of t-scores where we can expect to find\n",
    "the middle 95% of all sample means. Compute the probability that (−𝑡0.05 <𝑡<𝑡0.10)."
   ]
  },
  {
   "cell_type": "markdown",
   "metadata": {},
   "source": [
    "##### Answer :\n",
    "\n",
    "Sample size (n) = 25\n",
    "\n",
    "mean (x) = 60\n",
    "\n",
    "Standard Deviation = 4\n",
    "\n",
    "confidence interval = 95%\n",
    "=> alpha = 0.05\n",
    "\n",
    "therefore z value at alpha/2 = 1.96"
   ]
  },
  {
   "cell_type": "code",
   "execution_count": 25,
   "metadata": {},
   "outputs": [],
   "source": [
    "import numpy as np\n",
    "\n",
    "def limit(mean,std,n):\n",
    "    lower_limit = mean - 1.96 * (std / np.sqrt(n))\n",
    "    upper_limit = mean + 1.96 * (std / np.sqrt(n))\n",
    "    return lower_limit , upper_limit"
   ]
  },
  {
   "cell_type": "code",
   "execution_count": 26,
   "metadata": {},
   "outputs": [
    {
     "name": "stdout",
     "output_type": "stream",
     "text": [
      "The range of t-scores where we can expect to find the middle 95% of all sample means :  (58.432, 61.568)\n"
     ]
    }
   ],
   "source": [
    "Range = limit(mean = 60 , std = 4 , n = 25)\n",
    "print(\"The range of t-scores where we can expect to find the middle 95% of all sample means : \",Range)"
   ]
  },
  {
   "cell_type": "markdown",
   "metadata": {},
   "source": [
    "# Problem Statement 11:"
   ]
  },
  {
   "cell_type": "markdown",
   "metadata": {},
   "source": [
    "Two-tailed test for difference between two population means\n",
    "Is there evidence to conclude that the number of people travelling from Bangalore to\n",
    "Chennai is different from the number of people travelling from Bangalore to Hosur in\n",
    "a week, given the following:\n",
    "    \n",
    "Population 1: Bangalore to Chennai \n",
    "n1 = 1200\n",
    "x1 = 452\n",
    "s1 = 212\n",
    "\n",
    "Population 2: Bangalore to Hosur \n",
    "n2 = 800\n",
    "x2 = 523\n",
    "s2 = 185"
   ]
  },
  {
   "cell_type": "markdown",
   "metadata": {},
   "source": [
    "Null Hypothesis : 𝜇1 = 𝜇2\n",
    "    \n",
    "Alternate Hypothesis : 𝜇1 != 𝜇2"
   ]
  },
  {
   "cell_type": "code",
   "execution_count": 27,
   "metadata": {},
   "outputs": [],
   "source": [
    "import numpy as np"
   ]
  },
  {
   "cell_type": "code",
   "execution_count": 28,
   "metadata": {},
   "outputs": [],
   "source": [
    "def two_sample_test(x1,x2,SE):\n",
    "    return (x1-x2)/SE"
   ]
  },
  {
   "cell_type": "code",
   "execution_count": 29,
   "metadata": {},
   "outputs": [
    {
     "name": "stdout",
     "output_type": "stream",
     "text": [
      "Z Value :  -7.926428526759299\n"
     ]
    }
   ],
   "source": [
    "x1 = 452\n",
    "s1 = 212\n",
    "n1 = 1200\n",
    "x2 = 523\n",
    "s2 = 185\n",
    "n2 = 800\n",
    "SE = np.sqrt((s1**2 / n1) + (s2**2 / n2))\n",
    "z_value = two_sample_test(x1,x2,SE)\n",
    "print(\"Z Value : \",z_value)"
   ]
  },
  {
   "cell_type": "markdown",
   "metadata": {},
   "source": [
    "We use significance level α = 0.05, but because of a two-sided test we have two rejection regions. They are z < −1.96 or z > 1.96.."
   ]
  },
  {
   "cell_type": "code",
   "execution_count": 30,
   "metadata": {},
   "outputs": [
    {
     "name": "stdout",
     "output_type": "stream",
     "text": [
      "We Reject the Null Hypothesis(HO)\n"
     ]
    }
   ],
   "source": [
    "if z_value > 1.96 or z_value < -1.96  :\n",
    "    print(\"We Reject the Null Hypothesis(HO)\")\n",
    "else :\n",
    "    print(\"We Do Not Reject The Null Hypothesis(HO)\")"
   ]
  },
  {
   "cell_type": "markdown",
   "metadata": {},
   "source": [
    "Hence the number of people travelling from Bangalore to Chennai is different from the number of people travelling from Bangalore to Hosur in a week"
   ]
  },
  {
   "cell_type": "markdown",
   "metadata": {},
   "source": [
    "# Problem Statement 12:"
   ]
  },
  {
   "cell_type": "markdown",
   "metadata": {},
   "source": [
    "Is there evidence to conclude that the number of people preferring Duracell battery is\n",
    "different from the number of people preferring Energizer battery, given the following:\n",
    "    \n",
    "Population 1: Duracell\n",
    "n1 = 100\n",
    "x1 = 308\n",
    "s1 = 84\n",
    "\n",
    "Population 2: Energizer\n",
    "n2 = 100\n",
    "x2 = 254\n",
    "s2 = 67"
   ]
  },
  {
   "cell_type": "markdown",
   "metadata": {},
   "source": [
    "Null Hypothesis : 𝜇1 = 𝜇2\n",
    "\n",
    "Alternate Hypothesis : 𝜇1 != 𝜇2"
   ]
  },
  {
   "cell_type": "code",
   "execution_count": 31,
   "metadata": {},
   "outputs": [],
   "source": [
    "import numpy as np"
   ]
  },
  {
   "cell_type": "code",
   "execution_count": 32,
   "metadata": {},
   "outputs": [],
   "source": [
    "def two_sample_test(x1,x2,SE):\n",
    "    return (x1-x2)/SE"
   ]
  },
  {
   "cell_type": "code",
   "execution_count": 33,
   "metadata": {},
   "outputs": [
    {
     "name": "stdout",
     "output_type": "stream",
     "text": [
      "Z Value :  5.025702668336442\n"
     ]
    }
   ],
   "source": [
    "x1 = 308\n",
    "s1 = 84\n",
    "n1 = 100\n",
    "x2 = 254\n",
    "s2 = 67\n",
    "n2 = 100\n",
    "SE = np.sqrt((s1**2 / n1) + (s2**2 / n2))\n",
    "z_value = two_sample_test(x1,x2,SE)\n",
    "print(\"Z Value : \",z_value)"
   ]
  },
  {
   "cell_type": "markdown",
   "metadata": {},
   "source": [
    "We use significance level α = 0.05, but because of a two-sided test we have two rejection regions. They are z < −1.96 or z > 1.96.."
   ]
  },
  {
   "cell_type": "code",
   "execution_count": 34,
   "metadata": {},
   "outputs": [
    {
     "name": "stdout",
     "output_type": "stream",
     "text": [
      "We Reject the Null Hypothesis(HO)\n"
     ]
    }
   ],
   "source": [
    "if z_value > 1.96 or z_value < -1.96  :\n",
    "    print(\"We Reject the Null Hypothesis(HO)\")\n",
    "else :\n",
    "    print(\"We Do Not Reject The Null Hypothesis(HO)\")"
   ]
  },
  {
   "cell_type": "markdown",
   "metadata": {},
   "source": [
    "Hence the number of people preferring Duracell battery is different from the number of people preferring Energizer battery"
   ]
  },
  {
   "cell_type": "markdown",
   "metadata": {},
   "source": [
    "# Problem Statement 13:"
   ]
  },
  {
   "cell_type": "markdown",
   "metadata": {},
   "source": [
    "Pooled estimate of the population variance\n",
    "Does the data provide sufficient evidence to conclude that average percentage\n",
    "increase in the price of sugar differs when it is sold at two different prices?\n",
    "\n",
    "Population 1: Price of sugar = Rs. 27.50\n",
    "    \n",
    "n1 = 14\n",
    "x1 = 0.317%\n",
    "s1 = 0.12%\n",
    "\n",
    "Population 2: Price of sugar = Rs. 20.00 \n",
    "\n",
    "n2 = 9\n",
    "x2 = 0.21%\n",
    "s2 = 0.11%"
   ]
  },
  {
   "cell_type": "markdown",
   "metadata": {},
   "source": [
    "Null Hypothesis : 𝜇1 = 𝜇2\n",
    "\n",
    "Alternate Hypothesis : 𝜇1 != 𝜇2"
   ]
  },
  {
   "cell_type": "code",
   "execution_count": 35,
   "metadata": {},
   "outputs": [],
   "source": [
    "import numpy as np"
   ]
  },
  {
   "cell_type": "code",
   "execution_count": 36,
   "metadata": {},
   "outputs": [],
   "source": [
    "def two_sample_test(x1,x2,SE): # for T-test\n",
    "    return abs((x1-x2))/SE"
   ]
  },
  {
   "cell_type": "code",
   "execution_count": 37,
   "metadata": {},
   "outputs": [
    {
     "name": "stdout",
     "output_type": "stream",
     "text": [
      "T Value :  2.15355322387416\n"
     ]
    }
   ],
   "source": [
    "x1 = 0.317\n",
    "s1 = 0.12\n",
    "n1 = 14\n",
    "x2 = 0.21\n",
    "s2 = 0.11\n",
    "n2 = 9\n",
    "s12 = np.sqrt(((((n1-1)*(s1**2)) + ((n2-1)*(s2**2))))/(n1+n2-2))\n",
    "SE = s12 * np.sqrt((1 / n1) + (1 / n2))\n",
    "t_value = two_sample_test(x1,x2,SE)\n",
    "print(\"T Value : \",t_value)"
   ]
  },
  {
   "cell_type": "code",
   "execution_count": 38,
   "metadata": {},
   "outputs": [
    {
     "name": "stdout",
     "output_type": "stream",
     "text": [
      "degree of freedom :  21\n"
     ]
    }
   ],
   "source": [
    "dof = n1+n2-2 # degree of freedom\n",
    "print(\"degree of freedom : \",dof)"
   ]
  },
  {
   "cell_type": "markdown",
   "metadata": {},
   "source": [
    "We use significance level α = 0.05, but because of a two-sided test we have two rejection regions. They are t < −2.080 or t > 2.080 at degree of freedom = 21."
   ]
  },
  {
   "cell_type": "code",
   "execution_count": 39,
   "metadata": {},
   "outputs": [
    {
     "name": "stdout",
     "output_type": "stream",
     "text": [
      "We Reject the Null Hypothesis(HO)\n"
     ]
    }
   ],
   "source": [
    "if t_value > 2.080 or t_value < -2.080  :\n",
    "    print(\"We Reject the Null Hypothesis(HO)\")\n",
    "else :\n",
    "    print(\"We Do Not Reject The Null Hypothesis(HO)\")"
   ]
  },
  {
   "cell_type": "markdown",
   "metadata": {},
   "source": [
    "Hence average percentage increase in the price of sugar differs when it is sold at two different prices."
   ]
  },
  {
   "cell_type": "markdown",
   "metadata": {},
   "source": [
    "# Problem Statement 14:"
   ]
  },
  {
   "cell_type": "markdown",
   "metadata": {},
   "source": [
    "The manufacturers of compact disk players want to test whether a small price\n",
    "reduction is enough to increase sales of their product. Is there evidence that the\n",
    "small price reduction is enough to increase sales of compact disk players?\n",
    "\n",
    "Population 1: Before reduction\n",
    "\n",
    "n1 = 15\n",
    "x1 = Rs. 6598 \n",
    "s1 = Rs. 844\n",
    "\n",
    "Population 2: After reduction \n",
    "\n",
    "n2 = 12\n",
    "x2 = RS. 6870\n",
    "s2 = Rs. 669"
   ]
  },
  {
   "cell_type": "markdown",
   "metadata": {},
   "source": [
    "Null Hypothesis : 𝜇1 = 𝜇2\n",
    "\n",
    "Alternate Hypothesis : 𝜇1 != 𝜇2"
   ]
  },
  {
   "cell_type": "code",
   "execution_count": 40,
   "metadata": {},
   "outputs": [],
   "source": [
    "import numpy as np"
   ]
  },
  {
   "cell_type": "code",
   "execution_count": 41,
   "metadata": {},
   "outputs": [],
   "source": [
    "def two_sample_test(x1,x2,SE): # for T-test\n",
    "    return abs((x1-x2))/SE"
   ]
  },
  {
   "cell_type": "code",
   "execution_count": 42,
   "metadata": {},
   "outputs": [
    {
     "name": "stdout",
     "output_type": "stream",
     "text": [
      "T Value :  0.9098300343990459\n"
     ]
    }
   ],
   "source": [
    "x1 = 6598\n",
    "s1 = 844\n",
    "n1 = 15\n",
    "x2 = 6870\n",
    "s2 = 669\n",
    "n2 = 12\n",
    "s12 = np.sqrt(((((n1-1)*(s1**2)) + ((n2-1)*(s2**2))))/(n1+n2-2))\n",
    "SE = s12 * np.sqrt((1 / n1) + (1 / n2))\n",
    "t_value = two_sample_test(x1,x2,SE)\n",
    "print(\"T Value : \",t_value)"
   ]
  },
  {
   "cell_type": "code",
   "execution_count": 43,
   "metadata": {},
   "outputs": [
    {
     "name": "stdout",
     "output_type": "stream",
     "text": [
      "degree of freedom :  25\n"
     ]
    }
   ],
   "source": [
    "dof = n1+n2-2 # degree of freedom\n",
    "print(\"degree of freedom : \",dof)"
   ]
  },
  {
   "cell_type": "markdown",
   "metadata": {},
   "source": [
    "We use significance level α = 0.05, but because of a two-sided test we have two rejection regions. They are t < −2.060 or t > 2.060 at degree of freedom = 25."
   ]
  },
  {
   "cell_type": "code",
   "execution_count": 44,
   "metadata": {},
   "outputs": [
    {
     "name": "stdout",
     "output_type": "stream",
     "text": [
      "We Do Not Reject The Null Hypothesis(HO)\n"
     ]
    }
   ],
   "source": [
    "if t_value > 2.060 or t_value < -2.060  :\n",
    "    print(\"We Reject the Null Hypothesis(HO)\")\n",
    "else :\n",
    "    print(\"We Do Not Reject The Null Hypothesis(HO)\")"
   ]
  },
  {
   "cell_type": "markdown",
   "metadata": {},
   "source": [
    "Hence he small price reduction is not enough to increase sales of compact disk players"
   ]
  },
  {
   "cell_type": "markdown",
   "metadata": {},
   "source": [
    "# Problem Statement 15:"
   ]
  },
  {
   "cell_type": "markdown",
   "metadata": {},
   "source": [
    "Comparisons of two population proportions when the hypothesized difference is zero\n",
    "Carry out a two-tailed test of the equality of banks’ share of the car loan market in\n",
    "1980 and 1995.\n",
    "\n",
    "Population 1: 1980\n",
    "\n",
    "n1 = 1000\n",
    "x1 = 53\n",
    "𝑝1 = 0.53\n",
    "\n",
    "Population 2: 1985\n",
    "\n",
    "n2 = 100\n",
    "x2 = 43\n",
    "𝑝2= 0.53"
   ]
  },
  {
   "cell_type": "markdown",
   "metadata": {},
   "source": [
    "Null hypothesis : P1 - P2 = 0\n",
    "    \n",
    "Alternate Hypothesis P1 - P2 != 0"
   ]
  },
  {
   "cell_type": "code",
   "execution_count": 45,
   "metadata": {},
   "outputs": [],
   "source": [
    "import numpy as np"
   ]
  },
  {
   "cell_type": "code",
   "execution_count": 46,
   "metadata": {},
   "outputs": [],
   "source": [
    "def two_sample_proportion_test(p1,p2,SE):\n",
    "    return (p1-p2)/SE"
   ]
  },
  {
   "cell_type": "code",
   "execution_count": 47,
   "metadata": {},
   "outputs": [
    {
     "name": "stdout",
     "output_type": "stream",
     "text": [
      "Z Value :  1.4153462926807452\n"
     ]
    }
   ],
   "source": [
    "x1 = 53\n",
    "n1 = 100\n",
    "x2 = 43\n",
    "n2 = 100\n",
    "p = (x1+x2)/(n1+n2)\n",
    "SE = np.sqrt((p * (1-p))*((1/n1) + (1/n2)))\n",
    "p1 = x1/ n1\n",
    "p2 = x2 / n2\n",
    "z_value = two_sample_proportion_test(p1,p2,SE)\n",
    "print(\"Z Value : \",z_value)"
   ]
  },
  {
   "cell_type": "markdown",
   "metadata": {},
   "source": [
    "We use significance level α = 0.05, but because of a two-sided test we have two rejection regions. They are z < −1.96 or z > 1.96.."
   ]
  },
  {
   "cell_type": "code",
   "execution_count": 48,
   "metadata": {},
   "outputs": [
    {
     "name": "stdout",
     "output_type": "stream",
     "text": [
      "We Do Not Reject The Null Hypothesis(HO)\n"
     ]
    }
   ],
   "source": [
    "if z_value > 1.96 or z_value < -1.96  :\n",
    "    print(\"We Reject the Null Hypothesis(HO)\")\n",
    "else :\n",
    "    print(\"We Do Not Reject The Null Hypothesis(HO)\")"
   ]
  },
  {
   "cell_type": "markdown",
   "metadata": {},
   "source": [
    "# Problem Statement 16:"
   ]
  },
  {
   "cell_type": "markdown",
   "metadata": {},
   "source": [
    "Carry out a one-tailed test to determine whether the population proportion of\n",
    "traveler’s check buyers who buy at least $2500 in checks when sweepstakes prizes\n",
    "are offered as at least 10% higher than the proportion of such buyers when no\n",
    "sweepstakes are on.\n",
    "\n",
    "Population 1: With sweepstakes\n",
    "\n",
    "n1 = 300\n",
    "x1 = 120\n",
    "𝑝1 = 0.40\n",
    "\n",
    "Population 2: No sweepstakes \n",
    "    \n",
    "n2 = 700\n",
    "x2 = 140\n",
    "𝑝2= 0.20"
   ]
  },
  {
   "cell_type": "markdown",
   "metadata": {},
   "source": [
    "Null hypothesis : P1 - P2 <= 0.10\n",
    "\n",
    "Alternate Hypothesis P1 - P2 > 0.10"
   ]
  },
  {
   "cell_type": "code",
   "execution_count": 49,
   "metadata": {},
   "outputs": [],
   "source": [
    "import numpy as np"
   ]
  },
  {
   "cell_type": "code",
   "execution_count": 50,
   "metadata": {},
   "outputs": [],
   "source": [
    "def two_sample_proportion_test(p1,p2,SE,D):\n",
    "    return ((p1-p2)-D)/SE"
   ]
  },
  {
   "cell_type": "code",
   "execution_count": 51,
   "metadata": {},
   "outputs": [
    {
     "name": "stdout",
     "output_type": "stream",
     "text": [
      "Z Value :  3.1180478223116177\n"
     ]
    }
   ],
   "source": [
    "x1 = 120\n",
    "n1 = 300\n",
    "x2 = 140\n",
    "n2 = 700\n",
    "p1 = x1/ n1\n",
    "p2 = x2 / n2\n",
    "SE = np.sqrt(((p1 * (1-p1))/n1)+((p2 * (1-p2))/n2))\n",
    "z_value = two_sample_proportion_test(p1,p2,SE,0.10)\n",
    "print(\"Z Value : \",z_value)"
   ]
  },
  {
   "cell_type": "markdown",
   "metadata": {},
   "source": [
    "We use significance level α = 0.001,but because of a one-sided test we have one rejection regions that is z > 3.09."
   ]
  },
  {
   "cell_type": "code",
   "execution_count": 52,
   "metadata": {},
   "outputs": [
    {
     "name": "stdout",
     "output_type": "stream",
     "text": [
      "We Reject the Null Hypothesis(HO)\n"
     ]
    }
   ],
   "source": [
    "if z_value > 3.09 :\n",
    "    print(\"We Reject the Null Hypothesis(HO)\")\n",
    "else :\n",
    "    print(\"We Do Not Reject The Null Hypothesis(HO)\")"
   ]
  },
  {
   "cell_type": "markdown",
   "metadata": {},
   "source": [
    "# Problem Statement 17:"
   ]
  },
  {
   "cell_type": "markdown",
   "metadata": {},
   "source": [
    "A die is thrown 132 times with the following results: Number turned up: 1, 2, 3, 4, 5, 6\n",
    "Frequency: 16, 20, 25, 14, 29, 28\n",
    "Is the die unbiased? Consider the degrees of freedom as 𝑝 −  ."
   ]
  },
  {
   "cell_type": "code",
   "execution_count": 53,
   "metadata": {},
   "outputs": [],
   "source": [
    "import pandas as pd\n",
    "import numpy as np"
   ]
  },
  {
   "cell_type": "markdown",
   "metadata": {},
   "source": [
    "Expected Frequency = 132 / 6 = 22\n",
    "\n",
    "degree of freedom = n - 1 = 6 - 1 = 5"
   ]
  },
  {
   "cell_type": "markdown",
   "metadata": {},
   "source": [
    "Null Hypothesis (HO) : The die is unbiased \n",
    "    \n",
    "Alternative Hypothesis (HA): The die is not unbiased."
   ]
  },
  {
   "cell_type": "code",
   "execution_count": 54,
   "metadata": {},
   "outputs": [
    {
     "data": {
      "text/html": [
       "<div>\n",
       "<style scoped>\n",
       "    .dataframe tbody tr th:only-of-type {\n",
       "        vertical-align: middle;\n",
       "    }\n",
       "\n",
       "    .dataframe tbody tr th {\n",
       "        vertical-align: top;\n",
       "    }\n",
       "\n",
       "    .dataframe thead th {\n",
       "        text-align: right;\n",
       "    }\n",
       "</style>\n",
       "<table border=\"1\" class=\"dataframe\">\n",
       "  <thead>\n",
       "    <tr style=\"text-align: right;\">\n",
       "      <th></th>\n",
       "      <th>Ob_frq</th>\n",
       "      <th>Ex_frq</th>\n",
       "    </tr>\n",
       "  </thead>\n",
       "  <tbody>\n",
       "    <tr>\n",
       "      <th>0</th>\n",
       "      <td>16</td>\n",
       "      <td>22</td>\n",
       "    </tr>\n",
       "    <tr>\n",
       "      <th>1</th>\n",
       "      <td>20</td>\n",
       "      <td>22</td>\n",
       "    </tr>\n",
       "    <tr>\n",
       "      <th>2</th>\n",
       "      <td>25</td>\n",
       "      <td>22</td>\n",
       "    </tr>\n",
       "    <tr>\n",
       "      <th>3</th>\n",
       "      <td>14</td>\n",
       "      <td>22</td>\n",
       "    </tr>\n",
       "    <tr>\n",
       "      <th>4</th>\n",
       "      <td>29</td>\n",
       "      <td>22</td>\n",
       "    </tr>\n",
       "    <tr>\n",
       "      <th>5</th>\n",
       "      <td>28</td>\n",
       "      <td>22</td>\n",
       "    </tr>\n",
       "  </tbody>\n",
       "</table>\n",
       "</div>"
      ],
      "text/plain": [
       "   Ob_frq  Ex_frq\n",
       "0      16      22\n",
       "1      20      22\n",
       "2      25      22\n",
       "3      14      22\n",
       "4      29      22\n",
       "5      28      22"
      ]
     },
     "execution_count": 54,
     "metadata": {},
     "output_type": "execute_result"
    }
   ],
   "source": [
    "d = {\n",
    "    \"Ob_frq\" : pd.Series([16, 20, 25, 14, 29, 28]),\n",
    "    \"Ex_frq\" : pd.Series([22,22,22,22,22,22])\n",
    "    }\n",
    "data = pd.DataFrame(d)\n",
    "data"
   ]
  },
  {
   "cell_type": "code",
   "execution_count": 55,
   "metadata": {},
   "outputs": [
    {
     "data": {
      "text/html": [
       "<div>\n",
       "<style scoped>\n",
       "    .dataframe tbody tr th:only-of-type {\n",
       "        vertical-align: middle;\n",
       "    }\n",
       "\n",
       "    .dataframe tbody tr th {\n",
       "        vertical-align: top;\n",
       "    }\n",
       "\n",
       "    .dataframe thead th {\n",
       "        text-align: right;\n",
       "    }\n",
       "</style>\n",
       "<table border=\"1\" class=\"dataframe\">\n",
       "  <thead>\n",
       "    <tr style=\"text-align: right;\">\n",
       "      <th></th>\n",
       "      <th>Ob_frq</th>\n",
       "      <th>Ex_frq</th>\n",
       "      <th>(Ob_frq - Ex_frq)^2</th>\n",
       "    </tr>\n",
       "  </thead>\n",
       "  <tbody>\n",
       "    <tr>\n",
       "      <th>0</th>\n",
       "      <td>16</td>\n",
       "      <td>22</td>\n",
       "      <td>36</td>\n",
       "    </tr>\n",
       "    <tr>\n",
       "      <th>1</th>\n",
       "      <td>20</td>\n",
       "      <td>22</td>\n",
       "      <td>4</td>\n",
       "    </tr>\n",
       "    <tr>\n",
       "      <th>2</th>\n",
       "      <td>25</td>\n",
       "      <td>22</td>\n",
       "      <td>9</td>\n",
       "    </tr>\n",
       "    <tr>\n",
       "      <th>3</th>\n",
       "      <td>14</td>\n",
       "      <td>22</td>\n",
       "      <td>64</td>\n",
       "    </tr>\n",
       "    <tr>\n",
       "      <th>4</th>\n",
       "      <td>29</td>\n",
       "      <td>22</td>\n",
       "      <td>49</td>\n",
       "    </tr>\n",
       "    <tr>\n",
       "      <th>5</th>\n",
       "      <td>28</td>\n",
       "      <td>22</td>\n",
       "      <td>36</td>\n",
       "    </tr>\n",
       "  </tbody>\n",
       "</table>\n",
       "</div>"
      ],
      "text/plain": [
       "   Ob_frq  Ex_frq  (Ob_frq - Ex_frq)^2\n",
       "0      16      22                   36\n",
       "1      20      22                    4\n",
       "2      25      22                    9\n",
       "3      14      22                   64\n",
       "4      29      22                   49\n",
       "5      28      22                   36"
      ]
     },
     "execution_count": 55,
     "metadata": {},
     "output_type": "execute_result"
    }
   ],
   "source": [
    "data[\"(Ob_frq - Ex_frq)^2\"] = (data[\"Ob_frq\"] - data[\"Ex_frq\"])**2\n",
    "data"
   ]
  },
  {
   "cell_type": "markdown",
   "metadata": {},
   "source": [
    "<img src = \"https://sites.google.com/site/skillsa229/_/rsrc/1327153749666/chi-squared/chisqu.gif\">\n"
   ]
  },
  {
   "cell_type": "code",
   "execution_count": 56,
   "metadata": {},
   "outputs": [
    {
     "data": {
      "text/plain": [
       "9.0"
      ]
     },
     "execution_count": 56,
     "metadata": {},
     "output_type": "execute_result"
    }
   ],
   "source": [
    "chi2_value = sum(data[\"(Ob_frq - Ex_frq)^2\"]) / 22\n",
    "chi2_value"
   ]
  },
  {
   "cell_type": "markdown",
   "metadata": {},
   "source": [
    "Critical value of Chi2 at level of  significance (alpha) = 0.05 and degree of freedom (dof) = 5 is 11.0705"
   ]
  },
  {
   "cell_type": "code",
   "execution_count": 57,
   "metadata": {},
   "outputs": [
    {
     "name": "stdout",
     "output_type": "stream",
     "text": [
      "We Do Not Reject The Null Hypothesis(HO)\n"
     ]
    }
   ],
   "source": [
    "if chi2_value > 11.0705 :\n",
    "    print(\"We Reject the Null Hypothesis(HO)\")\n",
    "else :\n",
    "    print(\"We Do Not Reject The Null Hypothesis(HO)\")"
   ]
  },
  {
   "cell_type": "markdown",
   "metadata": {},
   "source": [
    "# Problem Statement 18:"
   ]
  },
  {
   "cell_type": "markdown",
   "metadata": {},
   "source": [
    "In a certain town, there are about one million eligible voters. A simple random\n",
    "sample of 10,000 eligible voters was chosen to study the relationship between\n",
    "gender and participation in the last election. The results are summarized in the\n",
    "following 2X2 (read two by two) contingency table:\n",
    "    \n",
    "We would want to check whether being a man or a woman (columns) is independent of\n",
    "having voted in the last election (rows). In other words, is “gender and voting independent”?"
   ]
  },
  {
   "cell_type": "code",
   "execution_count": 58,
   "metadata": {},
   "outputs": [],
   "source": [
    "import pandas as pd\n",
    "import numpy as np\n",
    "from scipy import stats"
   ]
  },
  {
   "cell_type": "code",
   "execution_count": 59,
   "metadata": {},
   "outputs": [
    {
     "data": {
      "text/plain": [
       "[2792, 1489, 3591, 2131]"
      ]
     },
     "execution_count": 59,
     "metadata": {},
     "output_type": "execute_result"
    }
   ],
   "source": [
    "male = [2792,1489]\n",
    "female = [3591,2131]\n",
    "votes = male + female\n",
    "votes"
   ]
  },
  {
   "cell_type": "code",
   "execution_count": 60,
   "metadata": {},
   "outputs": [
    {
     "data": {
      "text/html": [
       "<div>\n",
       "<style scoped>\n",
       "    .dataframe tbody tr th:only-of-type {\n",
       "        vertical-align: middle;\n",
       "    }\n",
       "\n",
       "    .dataframe tbody tr th {\n",
       "        vertical-align: top;\n",
       "    }\n",
       "\n",
       "    .dataframe thead th {\n",
       "        text-align: right;\n",
       "    }\n",
       "</style>\n",
       "<table border=\"1\" class=\"dataframe\">\n",
       "  <thead>\n",
       "    <tr style=\"text-align: right;\">\n",
       "      <th></th>\n",
       "      <th>sex</th>\n",
       "      <th>status</th>\n",
       "      <th>No_of_votes</th>\n",
       "    </tr>\n",
       "  </thead>\n",
       "  <tbody>\n",
       "    <tr>\n",
       "      <th>0</th>\n",
       "      <td>male</td>\n",
       "      <td>voted</td>\n",
       "      <td>2792</td>\n",
       "    </tr>\n",
       "    <tr>\n",
       "      <th>1</th>\n",
       "      <td>male</td>\n",
       "      <td>not voted</td>\n",
       "      <td>1489</td>\n",
       "    </tr>\n",
       "    <tr>\n",
       "      <th>2</th>\n",
       "      <td>female</td>\n",
       "      <td>voted</td>\n",
       "      <td>3591</td>\n",
       "    </tr>\n",
       "    <tr>\n",
       "      <th>3</th>\n",
       "      <td>female</td>\n",
       "      <td>not voted</td>\n",
       "      <td>2131</td>\n",
       "    </tr>\n",
       "  </tbody>\n",
       "</table>\n",
       "</div>"
      ],
      "text/plain": [
       "      sex     status  No_of_votes\n",
       "0    male      voted         2792\n",
       "1    male  not voted         1489\n",
       "2  female      voted         3591\n",
       "3  female  not voted         2131"
      ]
     },
     "execution_count": 60,
     "metadata": {},
     "output_type": "execute_result"
    }
   ],
   "source": [
    "sex = [\"male\",\"male\",\"female\",\"female\"]\n",
    "status = [\"voted\",\"not voted\",\"voted\",\"not voted\"]\n",
    "df = pd.DataFrame({\"sex\" : sex , \"status\" : status , \"No_of_votes\" : votes})\n",
    "df"
   ]
  },
  {
   "cell_type": "code",
   "execution_count": 61,
   "metadata": {},
   "outputs": [
    {
     "data": {
      "text/html": [
       "<div>\n",
       "<style scoped>\n",
       "    .dataframe tbody tr th:only-of-type {\n",
       "        vertical-align: middle;\n",
       "    }\n",
       "\n",
       "    .dataframe tbody tr th {\n",
       "        vertical-align: top;\n",
       "    }\n",
       "\n",
       "    .dataframe thead th {\n",
       "        text-align: right;\n",
       "    }\n",
       "</style>\n",
       "<table border=\"1\" class=\"dataframe\">\n",
       "  <thead>\n",
       "    <tr style=\"text-align: right;\">\n",
       "      <th>sex</th>\n",
       "      <th>female</th>\n",
       "      <th>male</th>\n",
       "    </tr>\n",
       "    <tr>\n",
       "      <th>status</th>\n",
       "      <th></th>\n",
       "      <th></th>\n",
       "    </tr>\n",
       "  </thead>\n",
       "  <tbody>\n",
       "    <tr>\n",
       "      <th>not voted</th>\n",
       "      <td>2131</td>\n",
       "      <td>1489</td>\n",
       "    </tr>\n",
       "    <tr>\n",
       "      <th>voted</th>\n",
       "      <td>3591</td>\n",
       "      <td>2792</td>\n",
       "    </tr>\n",
       "  </tbody>\n",
       "</table>\n",
       "</div>"
      ],
      "text/plain": [
       "sex        female  male\n",
       "status                 \n",
       "not voted    2131  1489\n",
       "voted        3591  2792"
      ]
     },
     "execution_count": 61,
     "metadata": {},
     "output_type": "execute_result"
    }
   ],
   "source": [
    "dataset_table = pd.crosstab(df[\"status\"],df[\"sex\"],df[\"No_of_votes\"],aggfunc = \"sum\")\n",
    "dataset_table"
   ]
  },
  {
   "cell_type": "code",
   "execution_count": 62,
   "metadata": {},
   "outputs": [
    {
     "name": "stdout",
     "output_type": "stream",
     "text": [
      "[[2131 1489]\n",
      " [3591 2792]]\n"
     ]
    }
   ],
   "source": [
    "contigency_table = dataset_table.values\n",
    "print(contigency_table)"
   ]
  },
  {
   "cell_type": "markdown",
   "metadata": {},
   "source": [
    "Null Hypothesis : Gender and voting are independent to each other.\n",
    "\n",
    "Alternate Hypothesis : Gender and voting are dependent to each other."
   ]
  },
  {
   "cell_type": "code",
   "execution_count": 63,
   "metadata": {},
   "outputs": [],
   "source": [
    "#observed frequencies\n",
    "observed_value = contigency_table"
   ]
  },
  {
   "cell_type": "code",
   "execution_count": 64,
   "metadata": {},
   "outputs": [
    {
     "data": {
      "text/plain": [
       "(6.314589480291856,\n",
       " 0.011974846738200842,\n",
       " 1,\n",
       " array([[2070.74277717, 1549.25722283],\n",
       "        [3651.25722283, 2731.74277717]]))"
      ]
     },
     "execution_count": 64,
     "metadata": {},
     "output_type": "execute_result"
    }
   ],
   "source": [
    "#Expected Frequencies\n",
    "val = stats.chi2_contingency(dataset_table)\n",
    "val"
   ]
  },
  {
   "cell_type": "code",
   "execution_count": 65,
   "metadata": {},
   "outputs": [],
   "source": [
    "expected_value = val[3]\n",
    "dof = val[2] #degree of freedom"
   ]
  },
  {
   "cell_type": "code",
   "execution_count": 66,
   "metadata": {},
   "outputs": [
    {
     "name": "stdout",
     "output_type": "stream",
     "text": [
      "Chi2 value : 6.420702295825501\n"
     ]
    }
   ],
   "source": [
    "#perform chi2 test\n",
    "chi2 = sum(sum([((O - E)**2)/E for O,E in zip(observed_value,expected_value)]))\n",
    "print(\"Chi2 value :\",chi2)"
   ]
  },
  {
   "cell_type": "code",
   "execution_count": 67,
   "metadata": {},
   "outputs": [
    {
     "name": "stdout",
     "output_type": "stream",
     "text": [
      "Critical Value :  3.841458820694124\n"
     ]
    }
   ],
   "source": [
    "#Critical Value\n",
    "alpha = 0.05\n",
    "critical_value = stats.chi2.ppf(1-alpha,dof)\n",
    "print(\"Critical Value : \",critical_value)"
   ]
  },
  {
   "cell_type": "code",
   "execution_count": 68,
   "metadata": {},
   "outputs": [
    {
     "name": "stdout",
     "output_type": "stream",
     "text": [
      "P Value : 0.011279754528095265\n"
     ]
    }
   ],
   "source": [
    "#P Value\n",
    "p_value = 1 - stats.chi2.cdf(chi2,dof)\n",
    "print(\"P Value :\",p_value)"
   ]
  },
  {
   "cell_type": "code",
   "execution_count": 69,
   "metadata": {},
   "outputs": [
    {
     "name": "stdout",
     "output_type": "stream",
     "text": [
      "Gender and voting are dependent to each other.\n",
      "Gender and voting are dependent to each other.\n"
     ]
    }
   ],
   "source": [
    "#Compairing \n",
    "if chi2 >= critical_value :\n",
    "    print(\"Gender and voting are dependent to each other.\")\n",
    "else :\n",
    "    print(\"Gender and voting are independent to each other.\")\n",
    "#compairing p value\n",
    "if p_value <= alpha :\n",
    "    print(\"Gender and voting are dependent to each other.\")\n",
    "else :\n",
    "    print(\"Gender and voting are independent to each other.\")"
   ]
  },
  {
   "cell_type": "markdown",
   "metadata": {},
   "source": [
    "# Problem Statement 19:"
   ]
  },
  {
   "cell_type": "markdown",
   "metadata": {},
   "source": [
    "A sample of 100 voters are asked which of four candidates they would vote for in an\n",
    "election. The number supporting each candidate is given below:\n",
    "    \n",
    "Do the data suggest that all candidates are equally popular? [Chi-Square = 14.96,\n",
    "with 3 df, 𝑝    0.05 "
   ]
  },
  {
   "cell_type": "code",
   "execution_count": 70,
   "metadata": {},
   "outputs": [],
   "source": [
    "import pandas as pd\n",
    "import numpy as np"
   ]
  },
  {
   "cell_type": "markdown",
   "metadata": {},
   "source": [
    "Expected Frequency = 100 / 5 = 25\n",
    "\n",
    "degree of freedom = n - 1 = 4 - 1 = 3\n",
    "\n",
    "Null Hypothesis (HO) : All candidates are equally popular.\n",
    "\n",
    "Alternative Hypothesis (HA): All candidates are unequally popular"
   ]
  },
  {
   "cell_type": "code",
   "execution_count": 71,
   "metadata": {},
   "outputs": [
    {
     "data": {
      "text/html": [
       "<div>\n",
       "<style scoped>\n",
       "    .dataframe tbody tr th:only-of-type {\n",
       "        vertical-align: middle;\n",
       "    }\n",
       "\n",
       "    .dataframe tbody tr th {\n",
       "        vertical-align: top;\n",
       "    }\n",
       "\n",
       "    .dataframe thead th {\n",
       "        text-align: right;\n",
       "    }\n",
       "</style>\n",
       "<table border=\"1\" class=\"dataframe\">\n",
       "  <thead>\n",
       "    <tr style=\"text-align: right;\">\n",
       "      <th></th>\n",
       "      <th>Ob_frq</th>\n",
       "      <th>Ex_frq</th>\n",
       "    </tr>\n",
       "  </thead>\n",
       "  <tbody>\n",
       "    <tr>\n",
       "      <th>0</th>\n",
       "      <td>41</td>\n",
       "      <td>25</td>\n",
       "    </tr>\n",
       "    <tr>\n",
       "      <th>1</th>\n",
       "      <td>19</td>\n",
       "      <td>25</td>\n",
       "    </tr>\n",
       "    <tr>\n",
       "      <th>2</th>\n",
       "      <td>24</td>\n",
       "      <td>25</td>\n",
       "    </tr>\n",
       "    <tr>\n",
       "      <th>3</th>\n",
       "      <td>16</td>\n",
       "      <td>25</td>\n",
       "    </tr>\n",
       "  </tbody>\n",
       "</table>\n",
       "</div>"
      ],
      "text/plain": [
       "   Ob_frq  Ex_frq\n",
       "0      41      25\n",
       "1      19      25\n",
       "2      24      25\n",
       "3      16      25"
      ]
     },
     "execution_count": 71,
     "metadata": {},
     "output_type": "execute_result"
    }
   ],
   "source": [
    "d = {\n",
    "    \"Ob_frq\" : pd.Series([41,19,24,16]),\n",
    "    \"Ex_frq\" : pd.Series([25,25,25,25])\n",
    "    }\n",
    "data = pd.DataFrame(d)\n",
    "data"
   ]
  },
  {
   "cell_type": "code",
   "execution_count": 72,
   "metadata": {},
   "outputs": [
    {
     "data": {
      "text/html": [
       "<div>\n",
       "<style scoped>\n",
       "    .dataframe tbody tr th:only-of-type {\n",
       "        vertical-align: middle;\n",
       "    }\n",
       "\n",
       "    .dataframe tbody tr th {\n",
       "        vertical-align: top;\n",
       "    }\n",
       "\n",
       "    .dataframe thead th {\n",
       "        text-align: right;\n",
       "    }\n",
       "</style>\n",
       "<table border=\"1\" class=\"dataframe\">\n",
       "  <thead>\n",
       "    <tr style=\"text-align: right;\">\n",
       "      <th></th>\n",
       "      <th>Ob_frq</th>\n",
       "      <th>Ex_frq</th>\n",
       "      <th>(Ob_frq - Ex_frq)^2</th>\n",
       "    </tr>\n",
       "  </thead>\n",
       "  <tbody>\n",
       "    <tr>\n",
       "      <th>0</th>\n",
       "      <td>41</td>\n",
       "      <td>25</td>\n",
       "      <td>256</td>\n",
       "    </tr>\n",
       "    <tr>\n",
       "      <th>1</th>\n",
       "      <td>19</td>\n",
       "      <td>25</td>\n",
       "      <td>36</td>\n",
       "    </tr>\n",
       "    <tr>\n",
       "      <th>2</th>\n",
       "      <td>24</td>\n",
       "      <td>25</td>\n",
       "      <td>1</td>\n",
       "    </tr>\n",
       "    <tr>\n",
       "      <th>3</th>\n",
       "      <td>16</td>\n",
       "      <td>25</td>\n",
       "      <td>81</td>\n",
       "    </tr>\n",
       "  </tbody>\n",
       "</table>\n",
       "</div>"
      ],
      "text/plain": [
       "   Ob_frq  Ex_frq  (Ob_frq - Ex_frq)^2\n",
       "0      41      25                  256\n",
       "1      19      25                   36\n",
       "2      24      25                    1\n",
       "3      16      25                   81"
      ]
     },
     "execution_count": 72,
     "metadata": {},
     "output_type": "execute_result"
    }
   ],
   "source": [
    "data[\"(Ob_frq - Ex_frq)^2\"] = (data[\"Ob_frq\"] - data[\"Ex_frq\"])**2\n",
    "data"
   ]
  },
  {
   "cell_type": "code",
   "execution_count": 73,
   "metadata": {},
   "outputs": [
    {
     "data": {
      "text/plain": [
       "14.96"
      ]
     },
     "execution_count": 73,
     "metadata": {},
     "output_type": "execute_result"
    }
   ],
   "source": [
    "chi2_value = sum(data[\"(Ob_frq - Ex_frq)^2\"]) / 25\n",
    "chi2_value"
   ]
  },
  {
   "cell_type": "markdown",
   "metadata": {},
   "source": [
    "Critical value of Chi2 at level of significance (alpha) = 0.05 and degree of freedom (dof) = 3 is 7.82"
   ]
  },
  {
   "cell_type": "code",
   "execution_count": 74,
   "metadata": {},
   "outputs": [
    {
     "name": "stdout",
     "output_type": "stream",
     "text": [
      "We Reject the Null Hypothesis(HO)\n"
     ]
    }
   ],
   "source": [
    "if chi2_value > 7.82 :\n",
    "    print(\"We Reject the Null Hypothesis(HO)\")\n",
    "else :\n",
    "    print(\"We Do Not Reject The Null Hypothesis(HO)\")"
   ]
  },
  {
   "cell_type": "markdown",
   "metadata": {},
   "source": [
    "# Problem Statement 20:"
   ]
  },
  {
   "cell_type": "markdown",
   "metadata": {},
   "source": [
    "Children of three ages are asked to indicate their preference for three photographs of\n",
    "adults. Do the data suggest that there is a significant relationship between age and\n",
    "photograph preference? What is wrong with this study? [Chi-Square = 29.6, with 4\n",
    "df: 𝑝 < 0.05].\n",
    "\n",
    "                Age of child:                              Photograph:\n",
    "                                      A                      B                      C\n",
    "\n",
    "                   5-6 years:        18                     22                     20\n",
    "\n",
    "                   7-8 years:         2                    28                     40\n",
    "\n",
    "                   9-10 years:       20                     10                     40"
   ]
  },
  {
   "cell_type": "code",
   "execution_count": 75,
   "metadata": {},
   "outputs": [],
   "source": [
    "import pandas as pd\n",
    "import numpy as np\n",
    "from scipy import stats"
   ]
  },
  {
   "cell_type": "code",
   "execution_count": 76,
   "metadata": {},
   "outputs": [
    {
     "data": {
      "text/plain": [
       "[18, 2, 20, 22, 28, 10, 20, 40, 40]"
      ]
     },
     "execution_count": 76,
     "metadata": {},
     "output_type": "execute_result"
    }
   ],
   "source": [
    "A = [18,2,20]\n",
    "B = [22,28,10]\n",
    "C = [20,40,40]\n",
    "total = A + B + C\n",
    "total"
   ]
  },
  {
   "cell_type": "code",
   "execution_count": 77,
   "metadata": {},
   "outputs": [
    {
     "data": {
      "text/html": [
       "<div>\n",
       "<style scoped>\n",
       "    .dataframe tbody tr th:only-of-type {\n",
       "        vertical-align: middle;\n",
       "    }\n",
       "\n",
       "    .dataframe tbody tr th {\n",
       "        vertical-align: top;\n",
       "    }\n",
       "\n",
       "    .dataframe thead th {\n",
       "        text-align: right;\n",
       "    }\n",
       "</style>\n",
       "<table border=\"1\" class=\"dataframe\">\n",
       "  <thead>\n",
       "    <tr style=\"text-align: right;\">\n",
       "      <th></th>\n",
       "      <th>Age_of_child</th>\n",
       "      <th>Photograph</th>\n",
       "      <th>Total</th>\n",
       "    </tr>\n",
       "  </thead>\n",
       "  <tbody>\n",
       "    <tr>\n",
       "      <th>0</th>\n",
       "      <td>5-6 years</td>\n",
       "      <td>A</td>\n",
       "      <td>18</td>\n",
       "    </tr>\n",
       "    <tr>\n",
       "      <th>1</th>\n",
       "      <td>7-8 years</td>\n",
       "      <td>A</td>\n",
       "      <td>2</td>\n",
       "    </tr>\n",
       "    <tr>\n",
       "      <th>2</th>\n",
       "      <td>9-10 years</td>\n",
       "      <td>A</td>\n",
       "      <td>20</td>\n",
       "    </tr>\n",
       "    <tr>\n",
       "      <th>3</th>\n",
       "      <td>5-6 years</td>\n",
       "      <td>B</td>\n",
       "      <td>22</td>\n",
       "    </tr>\n",
       "    <tr>\n",
       "      <th>4</th>\n",
       "      <td>7-8 years</td>\n",
       "      <td>B</td>\n",
       "      <td>28</td>\n",
       "    </tr>\n",
       "    <tr>\n",
       "      <th>5</th>\n",
       "      <td>9-10 years</td>\n",
       "      <td>B</td>\n",
       "      <td>10</td>\n",
       "    </tr>\n",
       "    <tr>\n",
       "      <th>6</th>\n",
       "      <td>5-6 years</td>\n",
       "      <td>C</td>\n",
       "      <td>20</td>\n",
       "    </tr>\n",
       "    <tr>\n",
       "      <th>7</th>\n",
       "      <td>7-8 years</td>\n",
       "      <td>C</td>\n",
       "      <td>40</td>\n",
       "    </tr>\n",
       "    <tr>\n",
       "      <th>8</th>\n",
       "      <td>9-10 years</td>\n",
       "      <td>C</td>\n",
       "      <td>40</td>\n",
       "    </tr>\n",
       "  </tbody>\n",
       "</table>\n",
       "</div>"
      ],
      "text/plain": [
       "  Age_of_child Photograph  Total\n",
       "0    5-6 years          A     18\n",
       "1    7-8 years          A      2\n",
       "2   9-10 years          A     20\n",
       "3    5-6 years          B     22\n",
       "4    7-8 years          B     28\n",
       "5   9-10 years          B     10\n",
       "6    5-6 years          C     20\n",
       "7    7-8 years          C     40\n",
       "8   9-10 years          C     40"
      ]
     },
     "execution_count": 77,
     "metadata": {},
     "output_type": "execute_result"
    }
   ],
   "source": [
    "Age_of_child = [\"5-6 years\",\"7-8 years\",\"9-10 years\",\"5-6 years\",\"7-8 years\",\"9-10 years\",\"5-6 years\",\"7-8 years\",\"9-10 years\"]\n",
    "photograph = [\"A\",\"A\",\"A\",\"B\",\"B\",\"B\",\"C\",\"C\",\"C\"]\n",
    "df = pd.DataFrame({\"Age_of_child\" : Age_of_child , \"Photograph\" : photograph , \"Total\" : total})\n",
    "df"
   ]
  },
  {
   "cell_type": "code",
   "execution_count": 78,
   "metadata": {},
   "outputs": [
    {
     "data": {
      "text/html": [
       "<div>\n",
       "<style scoped>\n",
       "    .dataframe tbody tr th:only-of-type {\n",
       "        vertical-align: middle;\n",
       "    }\n",
       "\n",
       "    .dataframe tbody tr th {\n",
       "        vertical-align: top;\n",
       "    }\n",
       "\n",
       "    .dataframe thead th {\n",
       "        text-align: right;\n",
       "    }\n",
       "</style>\n",
       "<table border=\"1\" class=\"dataframe\">\n",
       "  <thead>\n",
       "    <tr style=\"text-align: right;\">\n",
       "      <th>Age_of_child</th>\n",
       "      <th>5-6 years</th>\n",
       "      <th>7-8 years</th>\n",
       "      <th>9-10 years</th>\n",
       "    </tr>\n",
       "    <tr>\n",
       "      <th>Photograph</th>\n",
       "      <th></th>\n",
       "      <th></th>\n",
       "      <th></th>\n",
       "    </tr>\n",
       "  </thead>\n",
       "  <tbody>\n",
       "    <tr>\n",
       "      <th>A</th>\n",
       "      <td>18</td>\n",
       "      <td>2</td>\n",
       "      <td>20</td>\n",
       "    </tr>\n",
       "    <tr>\n",
       "      <th>B</th>\n",
       "      <td>22</td>\n",
       "      <td>28</td>\n",
       "      <td>10</td>\n",
       "    </tr>\n",
       "    <tr>\n",
       "      <th>C</th>\n",
       "      <td>20</td>\n",
       "      <td>40</td>\n",
       "      <td>40</td>\n",
       "    </tr>\n",
       "  </tbody>\n",
       "</table>\n",
       "</div>"
      ],
      "text/plain": [
       "Age_of_child  5-6 years  7-8 years  9-10 years\n",
       "Photograph                                    \n",
       "A                    18          2          20\n",
       "B                    22         28          10\n",
       "C                    20         40          40"
      ]
     },
     "execution_count": 78,
     "metadata": {},
     "output_type": "execute_result"
    }
   ],
   "source": [
    "dataset_table = pd.crosstab(df[\"Photograph\"],df[\"Age_of_child\"],df[\"Total\"],aggfunc = \"sum\")\n",
    "dataset_table"
   ]
  },
  {
   "cell_type": "code",
   "execution_count": 79,
   "metadata": {},
   "outputs": [
    {
     "name": "stdout",
     "output_type": "stream",
     "text": [
      "[[18  2 20]\n",
      " [22 28 10]\n",
      " [20 40 40]]\n"
     ]
    }
   ],
   "source": [
    "contigency_table = dataset_table.values\n",
    "print(contigency_table)"
   ]
  },
  {
   "cell_type": "markdown",
   "metadata": {},
   "source": [
    "Null Hypothesis : There is a no significant relationship between age and\n",
    "photograph preference.\n",
    "\n",
    "Alternate Hypothesis : There is a significant relationship between age and\n",
    "photograph preference."
   ]
  },
  {
   "cell_type": "code",
   "execution_count": 80,
   "metadata": {},
   "outputs": [],
   "source": [
    "#observed frequencies\n",
    "observed_value = contigency_table"
   ]
  },
  {
   "cell_type": "code",
   "execution_count": 81,
   "metadata": {},
   "outputs": [
    {
     "data": {
      "text/plain": [
       "(29.603174603174605,\n",
       " 5.894582174262628e-06,\n",
       " 4,\n",
       " array([[12., 14., 14.],\n",
       "        [18., 21., 21.],\n",
       "        [30., 35., 35.]]))"
      ]
     },
     "execution_count": 81,
     "metadata": {},
     "output_type": "execute_result"
    }
   ],
   "source": [
    "#Expected Frequencies\n",
    "val = stats.chi2_contingency(dataset_table)\n",
    "val"
   ]
  },
  {
   "cell_type": "code",
   "execution_count": 82,
   "metadata": {},
   "outputs": [],
   "source": [
    "expected_value = val[3]\n",
    "dof = val[2] #degree of freedom"
   ]
  },
  {
   "cell_type": "code",
   "execution_count": 83,
   "metadata": {},
   "outputs": [
    {
     "name": "stdout",
     "output_type": "stream",
     "text": [
      "Chi2 value : 29.603174603174605\n"
     ]
    }
   ],
   "source": [
    "#perform chi2 test\n",
    "chi2 = sum(sum([((O - E)**2)/E for O,E in zip(observed_value,expected_value)]))\n",
    "print(\"Chi2 value :\",chi2)"
   ]
  },
  {
   "cell_type": "code",
   "execution_count": 84,
   "metadata": {},
   "outputs": [
    {
     "name": "stdout",
     "output_type": "stream",
     "text": [
      "Critical Value :  9.487729036781154\n"
     ]
    }
   ],
   "source": [
    "#Critical Value\n",
    "alpha = 0.05\n",
    "critical_value = stats.chi2.ppf(1-alpha,dof)\n",
    "print(\"Critical Value : \",critical_value)"
   ]
  },
  {
   "cell_type": "code",
   "execution_count": 85,
   "metadata": {},
   "outputs": [
    {
     "name": "stdout",
     "output_type": "stream",
     "text": [
      "P Value : 5.894582174259533e-06\n"
     ]
    }
   ],
   "source": [
    "#P Value\n",
    "p_value = 1 - stats.chi2.cdf(chi2,dof)\n",
    "print(\"P Value :\",p_value)"
   ]
  },
  {
   "cell_type": "code",
   "execution_count": 86,
   "metadata": {},
   "outputs": [
    {
     "name": "stdout",
     "output_type": "stream",
     "text": [
      "There is a significant relationship between age and photograph preference\n",
      "There is a significant relationship between age and photograph preference\n"
     ]
    }
   ],
   "source": [
    "#Compairing \n",
    "if chi2 >= critical_value :\n",
    "    print(\"There is a significant relationship between age and photograph preference\")\n",
    "else :\n",
    "    print(\"There is a no significant relationship between age and photograph preference\")\n",
    "#compairing p value\n",
    "if p_value <= alpha :\n",
    "    print(\"There is a significant relationship between age and photograph preference\")\n",
    "else :\n",
    "    print(\"There is a no significant relationship between age and photograph preference\")"
   ]
  },
  {
   "cell_type": "markdown",
   "metadata": {},
   "source": [
    "# Problem Statement 21:"
   ]
  },
  {
   "cell_type": "markdown",
   "metadata": {},
   "source": [
    "A study of conformity using the Asch paradigm involved two conditions: one where\n",
    "one confederate supported the true judgement and another where no confederate\n",
    "gave the correct response.\n",
    "\n",
    "                            Support:                        No Support:\n",
    "\n",
    "            Conform:           18                                40\n",
    "\n",
    "            Not Conform:       32                                 10\n",
    "                \n",
    "                \n",
    "Is there a significant difference between the \"support\" and \"no support\" conditions in the\n",
    "frequency with which individuals are likely to conform? [Chi-Square = 19.87, with 1 df:\n",
    "𝑝 < 0.05]"
   ]
  },
  {
   "cell_type": "code",
   "execution_count": 87,
   "metadata": {},
   "outputs": [],
   "source": [
    "import pandas as pd\n",
    "import numpy as np\n",
    "from scipy import stats"
   ]
  },
  {
   "cell_type": "code",
   "execution_count": 88,
   "metadata": {},
   "outputs": [
    {
     "data": {
      "text/plain": [
       "[18, 32, 40, 10]"
      ]
     },
     "execution_count": 88,
     "metadata": {},
     "output_type": "execute_result"
    }
   ],
   "source": [
    "support = [18,32]\n",
    "No_support = [40,10]\n",
    "total = support + No_support\n",
    "total"
   ]
  },
  {
   "cell_type": "code",
   "execution_count": 89,
   "metadata": {},
   "outputs": [
    {
     "data": {
      "text/html": [
       "<div>\n",
       "<style scoped>\n",
       "    .dataframe tbody tr th:only-of-type {\n",
       "        vertical-align: middle;\n",
       "    }\n",
       "\n",
       "    .dataframe tbody tr th {\n",
       "        vertical-align: top;\n",
       "    }\n",
       "\n",
       "    .dataframe thead th {\n",
       "        text-align: right;\n",
       "    }\n",
       "</style>\n",
       "<table border=\"1\" class=\"dataframe\">\n",
       "  <thead>\n",
       "    <tr style=\"text-align: right;\">\n",
       "      <th></th>\n",
       "      <th>Row</th>\n",
       "      <th>Column</th>\n",
       "      <th>Total</th>\n",
       "    </tr>\n",
       "  </thead>\n",
       "  <tbody>\n",
       "    <tr>\n",
       "      <th>0</th>\n",
       "      <td>support</td>\n",
       "      <td>Conform</td>\n",
       "      <td>18</td>\n",
       "    </tr>\n",
       "    <tr>\n",
       "      <th>1</th>\n",
       "      <td>support</td>\n",
       "      <td>Not Conform</td>\n",
       "      <td>32</td>\n",
       "    </tr>\n",
       "    <tr>\n",
       "      <th>2</th>\n",
       "      <td>No support</td>\n",
       "      <td>Conform</td>\n",
       "      <td>40</td>\n",
       "    </tr>\n",
       "    <tr>\n",
       "      <th>3</th>\n",
       "      <td>No support</td>\n",
       "      <td>Not Conform</td>\n",
       "      <td>10</td>\n",
       "    </tr>\n",
       "  </tbody>\n",
       "</table>\n",
       "</div>"
      ],
      "text/plain": [
       "          Row       Column  Total\n",
       "0     support      Conform     18\n",
       "1     support  Not Conform     32\n",
       "2  No support      Conform     40\n",
       "3  No support  Not Conform     10"
      ]
     },
     "execution_count": 89,
     "metadata": {},
     "output_type": "execute_result"
    }
   ],
   "source": [
    "row = [\"support\",\"support\",\"No support\",\"No support\"]\n",
    "column = [\"Conform\",\"Not Conform\",\"Conform\",\"Not Conform\"]\n",
    "df = pd.DataFrame({\"Row\" : row , \"Column\" : column , \"Total\" : total})\n",
    "df"
   ]
  },
  {
   "cell_type": "code",
   "execution_count": 90,
   "metadata": {},
   "outputs": [
    {
     "data": {
      "text/html": [
       "<div>\n",
       "<style scoped>\n",
       "    .dataframe tbody tr th:only-of-type {\n",
       "        vertical-align: middle;\n",
       "    }\n",
       "\n",
       "    .dataframe tbody tr th {\n",
       "        vertical-align: top;\n",
       "    }\n",
       "\n",
       "    .dataframe thead th {\n",
       "        text-align: right;\n",
       "    }\n",
       "</style>\n",
       "<table border=\"1\" class=\"dataframe\">\n",
       "  <thead>\n",
       "    <tr style=\"text-align: right;\">\n",
       "      <th>Column</th>\n",
       "      <th>Conform</th>\n",
       "      <th>Not Conform</th>\n",
       "    </tr>\n",
       "    <tr>\n",
       "      <th>Row</th>\n",
       "      <th></th>\n",
       "      <th></th>\n",
       "    </tr>\n",
       "  </thead>\n",
       "  <tbody>\n",
       "    <tr>\n",
       "      <th>No support</th>\n",
       "      <td>40</td>\n",
       "      <td>10</td>\n",
       "    </tr>\n",
       "    <tr>\n",
       "      <th>support</th>\n",
       "      <td>18</td>\n",
       "      <td>32</td>\n",
       "    </tr>\n",
       "  </tbody>\n",
       "</table>\n",
       "</div>"
      ],
      "text/plain": [
       "Column      Conform  Not Conform\n",
       "Row                             \n",
       "No support       40           10\n",
       "support          18           32"
      ]
     },
     "execution_count": 90,
     "metadata": {},
     "output_type": "execute_result"
    }
   ],
   "source": [
    "dataset_table = pd.crosstab(df[\"Row\"],df[\"Column\"],df[\"Total\"],aggfunc = \"sum\")\n",
    "dataset_table"
   ]
  },
  {
   "cell_type": "code",
   "execution_count": 91,
   "metadata": {},
   "outputs": [
    {
     "name": "stdout",
     "output_type": "stream",
     "text": [
      "[[40 10]\n",
      " [18 32]]\n"
     ]
    }
   ],
   "source": [
    "contigency_table = dataset_table.values\n",
    "print(contigency_table)"
   ]
  },
  {
   "cell_type": "markdown",
   "metadata": {},
   "source": [
    "Null Hypothesis : There is no significant difference between the \"support\" and \"no support\" conditions in the\n",
    "frequency with which individuals are likely to conform.\n",
    "\n",
    "Alternate Hypothesis : There is significant difference between the \"support\" and \"no support\" conditions in the\n",
    "frequency with which individuals are likely to conform."
   ]
  },
  {
   "cell_type": "code",
   "execution_count": 92,
   "metadata": {},
   "outputs": [],
   "source": [
    "#observed frequencies\n",
    "observed_value = contigency_table"
   ]
  },
  {
   "cell_type": "code",
   "execution_count": 93,
   "metadata": {},
   "outputs": [
    {
     "data": {
      "text/plain": [
       "(18.10344827586207,\n",
       " 2.092221924065813e-05,\n",
       " 1,\n",
       " array([[29., 21.],\n",
       "        [29., 21.]]))"
      ]
     },
     "execution_count": 93,
     "metadata": {},
     "output_type": "execute_result"
    }
   ],
   "source": [
    "#Expected Frequencies\n",
    "val = stats.chi2_contingency(dataset_table)\n",
    "val"
   ]
  },
  {
   "cell_type": "code",
   "execution_count": 94,
   "metadata": {},
   "outputs": [],
   "source": [
    "expected_value = val[3]\n",
    "dof = val[2] #degree of freedom"
   ]
  },
  {
   "cell_type": "code",
   "execution_count": 95,
   "metadata": {},
   "outputs": [
    {
     "name": "stdout",
     "output_type": "stream",
     "text": [
      "Chi2 value : 19.868637110016422\n"
     ]
    }
   ],
   "source": [
    "#perform chi2 test\n",
    "chi2 = sum(sum([((O - E)**2)/E for O,E in zip(observed_value,expected_value)]))\n",
    "print(\"Chi2 value :\",chi2)"
   ]
  },
  {
   "cell_type": "code",
   "execution_count": 96,
   "metadata": {},
   "outputs": [
    {
     "name": "stdout",
     "output_type": "stream",
     "text": [
      "Critical Value :  3.841458820694124\n"
     ]
    }
   ],
   "source": [
    "#Critical Value\n",
    "alpha = 0.05\n",
    "critical_value = stats.chi2.ppf(1-alpha,dof)\n",
    "print(\"Critical Value : \",critical_value)"
   ]
  },
  {
   "cell_type": "code",
   "execution_count": 97,
   "metadata": {},
   "outputs": [
    {
     "name": "stdout",
     "output_type": "stream",
     "text": [
      "P Value : 8.29500671717387e-06\n"
     ]
    }
   ],
   "source": [
    "#P Value\n",
    "p_value = 1 - stats.chi2.cdf(chi2,dof)\n",
    "print(\"P Value :\",p_value)"
   ]
  },
  {
   "cell_type": "code",
   "execution_count": 98,
   "metadata": {},
   "outputs": [
    {
     "name": "stdout",
     "output_type": "stream",
     "text": [
      "There is significant difference between the support and no support conditions in the frequency with which individuals are likely to conform\n",
      "There is significant difference between the support and no support conditions in the frequency with which individuals are likely to conform\n"
     ]
    }
   ],
   "source": [
    "#Compairing \n",
    "if chi2 >= critical_value :\n",
    "    print(\"There is significant difference between the support and no support conditions in the frequency with which individuals are likely to conform\")\n",
    "else :\n",
    "    print(\"There is no significant difference between the support and no support conditions in the frequency with which individuals are likely to conform\")\n",
    "#compairing p value\n",
    "if p_value <= alpha :\n",
    "    print(\"There is significant difference between the support and no support conditions in the frequency with which individuals are likely to conform\")\n",
    "else :\n",
    "    print(\"There is no significant difference between the support and no support conditions in the frequency with which individuals are likely to conform\")"
   ]
  },
  {
   "cell_type": "markdown",
   "metadata": {},
   "source": [
    "# Problem Statement 22:"
   ]
  },
  {
   "cell_type": "markdown",
   "metadata": {},
   "source": [
    "We want to test whether short people differ with respect to their leadership qualities\n",
    "(Genghis Khan, Adolf Hitler and Napoleon were all stature-deprived, and how many midget\n",
    "MP's are there?) The following table shows the frequencies with which 43 short people and\n",
    "52 tall people were categorized as \"leaders\", \"followers\" or as \"unclassifiable\". Is there a\n",
    "relationship between height and leadership qualities?\n",
    "[Chi-Square = 10.71, with 2 df: 𝑝 < 0.01]."
   ]
  },
  {
   "cell_type": "code",
   "execution_count": 99,
   "metadata": {},
   "outputs": [],
   "source": [
    "import pandas as pd\n",
    "import numpy as np\n",
    "from scipy import stats"
   ]
  },
  {
   "cell_type": "code",
   "execution_count": 100,
   "metadata": {},
   "outputs": [
    {
     "data": {
      "text/plain": [
       "[12, 22, 9, 32, 14, 6]"
      ]
     },
     "execution_count": 100,
     "metadata": {},
     "output_type": "execute_result"
    }
   ],
   "source": [
    "short = [12,22,9]\n",
    "tall = [32,14,6]\n",
    "total = short + tall\n",
    "total"
   ]
  },
  {
   "cell_type": "code",
   "execution_count": 101,
   "metadata": {},
   "outputs": [
    {
     "data": {
      "text/html": [
       "<div>\n",
       "<style scoped>\n",
       "    .dataframe tbody tr th:only-of-type {\n",
       "        vertical-align: middle;\n",
       "    }\n",
       "\n",
       "    .dataframe tbody tr th {\n",
       "        vertical-align: top;\n",
       "    }\n",
       "\n",
       "    .dataframe thead th {\n",
       "        text-align: right;\n",
       "    }\n",
       "</style>\n",
       "<table border=\"1\" class=\"dataframe\">\n",
       "  <thead>\n",
       "    <tr style=\"text-align: right;\">\n",
       "      <th></th>\n",
       "      <th>Height</th>\n",
       "      <th>leadership</th>\n",
       "      <th>Total</th>\n",
       "    </tr>\n",
       "  </thead>\n",
       "  <tbody>\n",
       "    <tr>\n",
       "      <th>0</th>\n",
       "      <td>short</td>\n",
       "      <td>leaders</td>\n",
       "      <td>12</td>\n",
       "    </tr>\n",
       "    <tr>\n",
       "      <th>1</th>\n",
       "      <td>short</td>\n",
       "      <td>followers</td>\n",
       "      <td>22</td>\n",
       "    </tr>\n",
       "    <tr>\n",
       "      <th>2</th>\n",
       "      <td>short</td>\n",
       "      <td>unclassifiable</td>\n",
       "      <td>9</td>\n",
       "    </tr>\n",
       "    <tr>\n",
       "      <th>3</th>\n",
       "      <td>tall</td>\n",
       "      <td>leaders</td>\n",
       "      <td>32</td>\n",
       "    </tr>\n",
       "    <tr>\n",
       "      <th>4</th>\n",
       "      <td>tall</td>\n",
       "      <td>followers</td>\n",
       "      <td>14</td>\n",
       "    </tr>\n",
       "    <tr>\n",
       "      <th>5</th>\n",
       "      <td>tall</td>\n",
       "      <td>unclassifiable</td>\n",
       "      <td>6</td>\n",
       "    </tr>\n",
       "  </tbody>\n",
       "</table>\n",
       "</div>"
      ],
      "text/plain": [
       "  Height      leadership  Total\n",
       "0  short         leaders     12\n",
       "1  short       followers     22\n",
       "2  short  unclassifiable      9\n",
       "3   tall         leaders     32\n",
       "4   tall       followers     14\n",
       "5   tall  unclassifiable      6"
      ]
     },
     "execution_count": 101,
     "metadata": {},
     "output_type": "execute_result"
    }
   ],
   "source": [
    "height = [\"short\",\"short\",\"short\",\"tall\",\"tall\",\"tall\"]\n",
    "category = [\"leaders\",\"followers\",\"unclassifiable\",\"leaders\",\"followers\",\"unclassifiable\"]\n",
    "df = pd.DataFrame({\"Height\" : height , \"leadership\" : category , \"Total\" : total})\n",
    "df"
   ]
  },
  {
   "cell_type": "code",
   "execution_count": 102,
   "metadata": {},
   "outputs": [
    {
     "data": {
      "text/html": [
       "<div>\n",
       "<style scoped>\n",
       "    .dataframe tbody tr th:only-of-type {\n",
       "        vertical-align: middle;\n",
       "    }\n",
       "\n",
       "    .dataframe tbody tr th {\n",
       "        vertical-align: top;\n",
       "    }\n",
       "\n",
       "    .dataframe thead th {\n",
       "        text-align: right;\n",
       "    }\n",
       "</style>\n",
       "<table border=\"1\" class=\"dataframe\">\n",
       "  <thead>\n",
       "    <tr style=\"text-align: right;\">\n",
       "      <th>leadership</th>\n",
       "      <th>followers</th>\n",
       "      <th>leaders</th>\n",
       "      <th>unclassifiable</th>\n",
       "    </tr>\n",
       "    <tr>\n",
       "      <th>Height</th>\n",
       "      <th></th>\n",
       "      <th></th>\n",
       "      <th></th>\n",
       "    </tr>\n",
       "  </thead>\n",
       "  <tbody>\n",
       "    <tr>\n",
       "      <th>short</th>\n",
       "      <td>22</td>\n",
       "      <td>12</td>\n",
       "      <td>9</td>\n",
       "    </tr>\n",
       "    <tr>\n",
       "      <th>tall</th>\n",
       "      <td>14</td>\n",
       "      <td>32</td>\n",
       "      <td>6</td>\n",
       "    </tr>\n",
       "  </tbody>\n",
       "</table>\n",
       "</div>"
      ],
      "text/plain": [
       "leadership  followers  leaders  unclassifiable\n",
       "Height                                        \n",
       "short              22       12               9\n",
       "tall               14       32               6"
      ]
     },
     "execution_count": 102,
     "metadata": {},
     "output_type": "execute_result"
    }
   ],
   "source": [
    "dataset_table = pd.crosstab(df[\"Height\"],df[\"leadership\"],df[\"Total\"],aggfunc = \"sum\")\n",
    "dataset_table"
   ]
  },
  {
   "cell_type": "code",
   "execution_count": 103,
   "metadata": {},
   "outputs": [
    {
     "name": "stdout",
     "output_type": "stream",
     "text": [
      "[[22 12  9]\n",
      " [14 32  6]]\n"
     ]
    }
   ],
   "source": [
    "contigency_table = dataset_table.values\n",
    "print(contigency_table)"
   ]
  },
  {
   "cell_type": "markdown",
   "metadata": {},
   "source": [
    "Null Hypothesis : There is no relationship between height and leadership qualities\n",
    "\n",
    "Alternate Hypothesis : There is relationship between height and leadership qualities"
   ]
  },
  {
   "cell_type": "code",
   "execution_count": 104,
   "metadata": {},
   "outputs": [],
   "source": [
    "#observed frequencies\n",
    "observed_value = contigency_table"
   ]
  },
  {
   "cell_type": "code",
   "execution_count": 105,
   "metadata": {},
   "outputs": [
    {
     "data": {
      "text/plain": [
       "(10.712198008709638,\n",
       " 0.004719280137040844,\n",
       " 2,\n",
       " array([[16.29473684, 19.91578947,  6.78947368],\n",
       "        [19.70526316, 24.08421053,  8.21052632]]))"
      ]
     },
     "execution_count": 105,
     "metadata": {},
     "output_type": "execute_result"
    }
   ],
   "source": [
    "#Expected Frequencies\n",
    "val = stats.chi2_contingency(dataset_table)\n",
    "val"
   ]
  },
  {
   "cell_type": "code",
   "execution_count": 106,
   "metadata": {},
   "outputs": [],
   "source": [
    "expected_value = val[3]\n",
    "dof = val[2] #degree of freedom"
   ]
  },
  {
   "cell_type": "code",
   "execution_count": 107,
   "metadata": {},
   "outputs": [
    {
     "name": "stdout",
     "output_type": "stream",
     "text": [
      "Chi2 value : 10.712198008709638\n"
     ]
    }
   ],
   "source": [
    "#perform chi2 test\n",
    "chi2 = sum(sum([((O - E)**2)/E for O,E in zip(observed_value,expected_value)]))\n",
    "print(\"Chi2 value :\",chi2)"
   ]
  },
  {
   "cell_type": "code",
   "execution_count": 108,
   "metadata": {},
   "outputs": [
    {
     "name": "stdout",
     "output_type": "stream",
     "text": [
      "Critical Value :  5.991464547107979\n"
     ]
    }
   ],
   "source": [
    "#Critical Value\n",
    "alpha = 0.05\n",
    "critical_value = stats.chi2.ppf(1-alpha,dof)\n",
    "print(\"Critical Value : \",critical_value)"
   ]
  },
  {
   "cell_type": "code",
   "execution_count": 109,
   "metadata": {},
   "outputs": [
    {
     "name": "stdout",
     "output_type": "stream",
     "text": [
      "P Value : 0.0047192801370408155\n"
     ]
    }
   ],
   "source": [
    "#P Value\n",
    "p_value = 1 - stats.chi2.cdf(chi2,dof)\n",
    "print(\"P Value :\",p_value)"
   ]
  },
  {
   "cell_type": "code",
   "execution_count": 110,
   "metadata": {},
   "outputs": [
    {
     "name": "stdout",
     "output_type": "stream",
     "text": [
      "There is relationship between height and leadership qualities\n",
      "There is relationship between height and leadership qualities\n"
     ]
    }
   ],
   "source": [
    "#Compairing \n",
    "if chi2 >= critical_value :\n",
    "    print(\"There is relationship between height and leadership qualities\")\n",
    "else:\n",
    "    print(\"There is no relationship between height and leadership qualities\")\n",
    "#compairing p value\n",
    "if p_value <= alpha :\n",
    "     print(\"There is relationship between height and leadership qualities\")\n",
    "else:\n",
    "    print(\"There is no relationship between height and leadership qualities\")"
   ]
  },
  {
   "cell_type": "markdown",
   "metadata": {},
   "source": [
    "# Problem Statement 23:"
   ]
  },
  {
   "cell_type": "markdown",
   "metadata": {},
   "source": [
    "Each respondent in the Current Population Survey of March 1993 was classified as\n",
    "employed, unemployed, or outside the labor force. The results for men in California age 35-\n",
    "44 can be cross-tabulated by marital status, as follows:\n",
    "    \n",
    "Men of different marital status seem to have different distributions of labor force status. Or is\n",
    "this just chance variation? (you may assume the table results from a simple random\n",
    "sample.)"
   ]
  },
  {
   "cell_type": "code",
   "execution_count": 111,
   "metadata": {},
   "outputs": [],
   "source": [
    "import pandas as pd\n",
    "import numpy as np\n",
    "from scipy import stats"
   ]
  },
  {
   "cell_type": "code",
   "execution_count": 112,
   "metadata": {},
   "outputs": [
    {
     "data": {
      "text/plain": [
       "[679, 63, 42, 103, 10, 18, 114, 20, 25]"
      ]
     },
     "execution_count": 112,
     "metadata": {},
     "output_type": "execute_result"
    }
   ],
   "source": [
    "M = [679,63,42]\n",
    "W = [103,10,18]\n",
    "N_M = [114,20,25]\n",
    "total = M + W + N_M\n",
    "total"
   ]
  },
  {
   "cell_type": "code",
   "execution_count": 113,
   "metadata": {},
   "outputs": [
    {
     "data": {
      "text/html": [
       "<div>\n",
       "<style scoped>\n",
       "    .dataframe tbody tr th:only-of-type {\n",
       "        vertical-align: middle;\n",
       "    }\n",
       "\n",
       "    .dataframe tbody tr th {\n",
       "        vertical-align: top;\n",
       "    }\n",
       "\n",
       "    .dataframe thead th {\n",
       "        text-align: right;\n",
       "    }\n",
       "</style>\n",
       "<table border=\"1\" class=\"dataframe\">\n",
       "  <thead>\n",
       "    <tr style=\"text-align: right;\">\n",
       "      <th></th>\n",
       "      <th>Marital Status</th>\n",
       "      <th>labor force status</th>\n",
       "      <th>Total</th>\n",
       "    </tr>\n",
       "  </thead>\n",
       "  <tbody>\n",
       "    <tr>\n",
       "      <th>0</th>\n",
       "      <td>Married</td>\n",
       "      <td>Employed</td>\n",
       "      <td>679</td>\n",
       "    </tr>\n",
       "    <tr>\n",
       "      <th>1</th>\n",
       "      <td>Married</td>\n",
       "      <td>Unemployed</td>\n",
       "      <td>63</td>\n",
       "    </tr>\n",
       "    <tr>\n",
       "      <th>2</th>\n",
       "      <td>Married</td>\n",
       "      <td>Not in labor force</td>\n",
       "      <td>42</td>\n",
       "    </tr>\n",
       "    <tr>\n",
       "      <th>3</th>\n",
       "      <td>Widowed</td>\n",
       "      <td>Employed</td>\n",
       "      <td>103</td>\n",
       "    </tr>\n",
       "    <tr>\n",
       "      <th>4</th>\n",
       "      <td>Widowed</td>\n",
       "      <td>Unemployed</td>\n",
       "      <td>10</td>\n",
       "    </tr>\n",
       "    <tr>\n",
       "      <th>5</th>\n",
       "      <td>Widowed</td>\n",
       "      <td>Not in labor force</td>\n",
       "      <td>18</td>\n",
       "    </tr>\n",
       "    <tr>\n",
       "      <th>6</th>\n",
       "      <td>Never Married</td>\n",
       "      <td>Employed</td>\n",
       "      <td>114</td>\n",
       "    </tr>\n",
       "    <tr>\n",
       "      <th>7</th>\n",
       "      <td>Never Married</td>\n",
       "      <td>Unemployed</td>\n",
       "      <td>20</td>\n",
       "    </tr>\n",
       "    <tr>\n",
       "      <th>8</th>\n",
       "      <td>Never Married</td>\n",
       "      <td>Not in labor force</td>\n",
       "      <td>25</td>\n",
       "    </tr>\n",
       "  </tbody>\n",
       "</table>\n",
       "</div>"
      ],
      "text/plain": [
       "  Marital Status  labor force status  Total\n",
       "0        Married            Employed    679\n",
       "1        Married          Unemployed     63\n",
       "2        Married  Not in labor force     42\n",
       "3        Widowed            Employed    103\n",
       "4        Widowed          Unemployed     10\n",
       "5        Widowed  Not in labor force     18\n",
       "6  Never Married            Employed    114\n",
       "7  Never Married          Unemployed     20\n",
       "8  Never Married  Not in labor force     25"
      ]
     },
     "execution_count": 113,
     "metadata": {},
     "output_type": "execute_result"
    }
   ],
   "source": [
    "marital_status = [\"Married\",\"Married\",\"Married\",\"Widowed\",\"Widowed\",\"Widowed\",\"Never Married\",\"Never Married\",\"Never Married\"]\n",
    "category = [\"Employed\",\"Unemployed\",\"Not in labor force\",\"Employed\",\"Unemployed\",\"Not in labor force\",\"Employed\",\"Unemployed\",\"Not in labor force\"]\n",
    "df = pd.DataFrame({\"Marital Status\" : marital_status , \"labor force status\" : category , \"Total\" : total})\n",
    "df"
   ]
  },
  {
   "cell_type": "code",
   "execution_count": 114,
   "metadata": {},
   "outputs": [
    {
     "data": {
      "text/html": [
       "<div>\n",
       "<style scoped>\n",
       "    .dataframe tbody tr th:only-of-type {\n",
       "        vertical-align: middle;\n",
       "    }\n",
       "\n",
       "    .dataframe tbody tr th {\n",
       "        vertical-align: top;\n",
       "    }\n",
       "\n",
       "    .dataframe thead th {\n",
       "        text-align: right;\n",
       "    }\n",
       "</style>\n",
       "<table border=\"1\" class=\"dataframe\">\n",
       "  <thead>\n",
       "    <tr style=\"text-align: right;\">\n",
       "      <th>labor force status</th>\n",
       "      <th>Employed</th>\n",
       "      <th>Not in labor force</th>\n",
       "      <th>Unemployed</th>\n",
       "    </tr>\n",
       "    <tr>\n",
       "      <th>Marital Status</th>\n",
       "      <th></th>\n",
       "      <th></th>\n",
       "      <th></th>\n",
       "    </tr>\n",
       "  </thead>\n",
       "  <tbody>\n",
       "    <tr>\n",
       "      <th>Married</th>\n",
       "      <td>679</td>\n",
       "      <td>42</td>\n",
       "      <td>63</td>\n",
       "    </tr>\n",
       "    <tr>\n",
       "      <th>Never Married</th>\n",
       "      <td>114</td>\n",
       "      <td>25</td>\n",
       "      <td>20</td>\n",
       "    </tr>\n",
       "    <tr>\n",
       "      <th>Widowed</th>\n",
       "      <td>103</td>\n",
       "      <td>18</td>\n",
       "      <td>10</td>\n",
       "    </tr>\n",
       "  </tbody>\n",
       "</table>\n",
       "</div>"
      ],
      "text/plain": [
       "labor force status  Employed  Not in labor force  Unemployed\n",
       "Marital Status                                              \n",
       "Married                  679                  42          63\n",
       "Never Married            114                  25          20\n",
       "Widowed                  103                  18          10"
      ]
     },
     "execution_count": 114,
     "metadata": {},
     "output_type": "execute_result"
    }
   ],
   "source": [
    "dataset_table = pd.crosstab(df[\"Marital Status\"],df[\"labor force status\"],df[\"Total\"],aggfunc = \"sum\")\n",
    "dataset_table"
   ]
  },
  {
   "cell_type": "code",
   "execution_count": 115,
   "metadata": {},
   "outputs": [
    {
     "name": "stdout",
     "output_type": "stream",
     "text": [
      "[[679  42  63]\n",
      " [114  25  20]\n",
      " [103  18  10]]\n"
     ]
    }
   ],
   "source": [
    "contigency_table = dataset_table.values\n",
    "print(contigency_table)"
   ]
  },
  {
   "cell_type": "markdown",
   "metadata": {},
   "source": [
    "Null Hypothesis : There is no relationship between Marital Status and labor force status\n",
    "\n",
    "Alternate Hypothesis : There is relationship between Marital Status and labor force status"
   ]
  },
  {
   "cell_type": "code",
   "execution_count": 116,
   "metadata": {},
   "outputs": [],
   "source": [
    "#observed frequencies\n",
    "observed_value = contigency_table"
   ]
  },
  {
   "cell_type": "code",
   "execution_count": 117,
   "metadata": {},
   "outputs": [
    {
     "data": {
      "text/plain": [
       "(31.61310319407798,\n",
       " 2.2949883042859918e-06,\n",
       " 4,\n",
       " array([[654.06331471,  62.04841713,  67.88826816],\n",
       "        [132.64804469,  12.58379888,  13.76815642],\n",
       "        [109.2886406 ,  10.36778399,  11.34357542]]))"
      ]
     },
     "execution_count": 117,
     "metadata": {},
     "output_type": "execute_result"
    }
   ],
   "source": [
    "#Expected Frequencies\n",
    "val = stats.chi2_contingency(dataset_table)\n",
    "val"
   ]
  },
  {
   "cell_type": "code",
   "execution_count": 118,
   "metadata": {},
   "outputs": [],
   "source": [
    "expected_value = val[3]\n",
    "dof = val[2] #degree of freedom"
   ]
  },
  {
   "cell_type": "code",
   "execution_count": 119,
   "metadata": {},
   "outputs": [
    {
     "name": "stdout",
     "output_type": "stream",
     "text": [
      "Chi2 value : 31.61310319407798\n"
     ]
    }
   ],
   "source": [
    "#perform chi2 test\n",
    "chi2 = sum(sum([((O - E)**2)/E for O,E in zip(observed_value,expected_value)]))\n",
    "print(\"Chi2 value :\",chi2)"
   ]
  },
  {
   "cell_type": "code",
   "execution_count": 120,
   "metadata": {},
   "outputs": [
    {
     "name": "stdout",
     "output_type": "stream",
     "text": [
      "Critical Value :  9.487729036781154\n"
     ]
    }
   ],
   "source": [
    "#Critical Value\n",
    "alpha = 0.05\n",
    "critical_value = stats.chi2.ppf(1-alpha,dof)\n",
    "print(\"Critical Value : \",critical_value)"
   ]
  },
  {
   "cell_type": "code",
   "execution_count": 121,
   "metadata": {},
   "outputs": [
    {
     "name": "stdout",
     "output_type": "stream",
     "text": [
      "P Value : 2.294988304285539e-06\n"
     ]
    }
   ],
   "source": [
    "#P Value\n",
    "p_value = 1 - stats.chi2.cdf(chi2,dof)\n",
    "print(\"P Value :\",p_value)"
   ]
  },
  {
   "cell_type": "code",
   "execution_count": 122,
   "metadata": {},
   "outputs": [
    {
     "name": "stdout",
     "output_type": "stream",
     "text": [
      "There is relationship between Marital Status and labor force status\n",
      "There is relationship between Marital Status and labor force status\n"
     ]
    }
   ],
   "source": [
    "#Compairing \n",
    "if chi2 >= critical_value :\n",
    "    print(\"There is relationship between Marital Status and labor force status\")\n",
    "else:\n",
    "    print(\"There is no relationship between Marital Status and labor force status\")\n",
    "#compairing p value\n",
    "if p_value <= alpha :\n",
    "     print(\"There is relationship between Marital Status and labor force status\")\n",
    "else:\n",
    "    print(\"There is no relationship between Marital Status and labor force status\")"
   ]
  },
  {
   "cell_type": "code",
   "execution_count": null,
   "metadata": {},
   "outputs": [],
   "source": []
  },
  {
   "cell_type": "code",
   "execution_count": null,
   "metadata": {},
   "outputs": [],
   "source": []
  }
 ],
 "metadata": {
  "kernelspec": {
   "display_name": "Python 3",
   "language": "python",
   "name": "python3"
  },
  "language_info": {
   "codemirror_mode": {
    "name": "ipython",
    "version": 3
   },
   "file_extension": ".py",
   "mimetype": "text/x-python",
   "name": "python",
   "nbconvert_exporter": "python",
   "pygments_lexer": "ipython3",
   "version": "3.8.3"
  }
 },
 "nbformat": 4,
 "nbformat_minor": 4
}

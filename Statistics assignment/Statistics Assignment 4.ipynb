{
 "cells": [
  {
   "cell_type": "markdown",
   "metadata": {},
   "source": [
    "## Problem Statement 1:"
   ]
  },
  {
   "cell_type": "markdown",
   "metadata": {},
   "source": [
    "Is gender independent of education level? A random sample of 395 people were\n",
    "surveyed and each person was asked to report the highest education level they\n",
    "obtained. The data that resulted from the survey is summarized in the following table:\n",
    "\n",
    "       High_School  Bachelors  Masters   Ph.d.  Total\n",
    "\n",
    "Female     60          54         46       41     201\n",
    "\n",
    "Male       40          44         53       57     194\n",
    "\n",
    "Total      100         98         99       98     395\n",
    "\n",
    "Question: Are gender and education level dependent at 5% level of significance? In\n",
    "other words, given the data collected above, is there a relationship between the\n",
    "gender of an individual and the level of education that they have obtained?"
   ]
  },
  {
   "cell_type": "code",
   "execution_count": 1,
   "metadata": {},
   "outputs": [],
   "source": [
    "import pandas as pd\n",
    "import numpy as np\n",
    "from scipy import stats"
   ]
  },
  {
   "cell_type": "code",
   "execution_count": 2,
   "metadata": {},
   "outputs": [
    {
     "name": "stdout",
     "output_type": "stream",
     "text": [
      "[40, 44, 53, 57, 60, 54, 46, 41]\n"
     ]
    }
   ],
   "source": [
    "High_School = [60,40]\n",
    "Bachelors = [54,44]\n",
    "Masters = [46,53]\n",
    "Ph_d = [41,57]\n",
    "Female = [60,54,46,41]\n",
    "Male = [40,44,53,57]\n",
    "marks = Male + Female\n",
    "print(marks)"
   ]
  },
  {
   "cell_type": "code",
   "execution_count": 3,
   "metadata": {},
   "outputs": [
    {
     "data": {
      "text/html": [
       "<div>\n",
       "<style scoped>\n",
       "    .dataframe tbody tr th:only-of-type {\n",
       "        vertical-align: middle;\n",
       "    }\n",
       "\n",
       "    .dataframe tbody tr th {\n",
       "        vertical-align: top;\n",
       "    }\n",
       "\n",
       "    .dataframe thead th {\n",
       "        text-align: right;\n",
       "    }\n",
       "</style>\n",
       "<table border=\"1\" class=\"dataframe\">\n",
       "  <thead>\n",
       "    <tr style=\"text-align: right;\">\n",
       "      <th></th>\n",
       "      <th>Education</th>\n",
       "      <th>Sex</th>\n",
       "      <th>Marks</th>\n",
       "    </tr>\n",
       "  </thead>\n",
       "  <tbody>\n",
       "    <tr>\n",
       "      <th>0</th>\n",
       "      <td>High_School</td>\n",
       "      <td>M</td>\n",
       "      <td>40</td>\n",
       "    </tr>\n",
       "    <tr>\n",
       "      <th>1</th>\n",
       "      <td>Bachelors</td>\n",
       "      <td>M</td>\n",
       "      <td>44</td>\n",
       "    </tr>\n",
       "    <tr>\n",
       "      <th>2</th>\n",
       "      <td>Masters</td>\n",
       "      <td>M</td>\n",
       "      <td>53</td>\n",
       "    </tr>\n",
       "    <tr>\n",
       "      <th>3</th>\n",
       "      <td>Ph.d.</td>\n",
       "      <td>M</td>\n",
       "      <td>57</td>\n",
       "    </tr>\n",
       "    <tr>\n",
       "      <th>4</th>\n",
       "      <td>High_School</td>\n",
       "      <td>F</td>\n",
       "      <td>60</td>\n",
       "    </tr>\n",
       "    <tr>\n",
       "      <th>5</th>\n",
       "      <td>Bachelors</td>\n",
       "      <td>F</td>\n",
       "      <td>54</td>\n",
       "    </tr>\n",
       "    <tr>\n",
       "      <th>6</th>\n",
       "      <td>Masters</td>\n",
       "      <td>F</td>\n",
       "      <td>46</td>\n",
       "    </tr>\n",
       "    <tr>\n",
       "      <th>7</th>\n",
       "      <td>Ph.d.</td>\n",
       "      <td>F</td>\n",
       "      <td>41</td>\n",
       "    </tr>\n",
       "  </tbody>\n",
       "</table>\n",
       "</div>"
      ],
      "text/plain": [
       "     Education Sex  Marks\n",
       "0  High_School   M     40\n",
       "1    Bachelors   M     44\n",
       "2      Masters   M     53\n",
       "3        Ph.d.   M     57\n",
       "4  High_School   F     60\n",
       "5    Bachelors   F     54\n",
       "6      Masters   F     46\n",
       "7        Ph.d.   F     41"
      ]
     },
     "execution_count": 3,
     "metadata": {},
     "output_type": "execute_result"
    }
   ],
   "source": [
    "Sex = [\"M\",\"M\",\"M\",\"M\",\"F\",\"F\",\"F\",\"F\"]\n",
    "Education = [\"High_School\",\"Bachelors\",\"Masters\",\"Ph.d.\",\"High_School\",\"Bachelors\",\"Masters\",\"Ph.d.\"]\n",
    "df = pd.DataFrame({\"Education\" : Education,\"Sex\" : Sex,\"Marks\" : marks})\n",
    "df"
   ]
  },
  {
   "cell_type": "code",
   "execution_count": 4,
   "metadata": {},
   "outputs": [],
   "source": [
    "dataset_table = pd.crosstab(df[\"Sex\"],df[\"Education\"],df[\"Marks\"],aggfunc = \"sum\")"
   ]
  },
  {
   "cell_type": "code",
   "execution_count": 5,
   "metadata": {},
   "outputs": [
    {
     "name": "stdout",
     "output_type": "stream",
     "text": [
      "Education  Bachelors  High_School  Masters  Ph.d.\n",
      "Sex                                              \n",
      "F                 54           60       46     41\n",
      "M                 44           40       53     57\n"
     ]
    }
   ],
   "source": [
    "print(dataset_table)"
   ]
  },
  {
   "cell_type": "code",
   "execution_count": 6,
   "metadata": {},
   "outputs": [
    {
     "name": "stdout",
     "output_type": "stream",
     "text": [
      "[[54 60 46 41]\n",
      " [44 40 53 57]]\n"
     ]
    }
   ],
   "source": [
    "contigency_table = dataset_table.values\n",
    "print(contigency_table)"
   ]
  },
  {
   "cell_type": "markdown",
   "metadata": {},
   "source": [
    "Null Hypothesis : The gender of an individual and the level of education are independent to each other.\n",
    "\n",
    "Alternate Hypothesis : The gender of an individual and the level of education are dependent to each other."
   ]
  },
  {
   "cell_type": "code",
   "execution_count": 7,
   "metadata": {},
   "outputs": [],
   "source": [
    "#observed frequencies\n",
    "observed_value = contigency_table"
   ]
  },
  {
   "cell_type": "code",
   "execution_count": 8,
   "metadata": {},
   "outputs": [
    {
     "data": {
      "text/plain": [
       "(8.006066246262538,\n",
       " 0.045886500891747214,\n",
       " 3,\n",
       " array([[49.86835443, 50.88607595, 50.37721519, 49.86835443],\n",
       "        [48.13164557, 49.11392405, 48.62278481, 48.13164557]]))"
      ]
     },
     "execution_count": 8,
     "metadata": {},
     "output_type": "execute_result"
    }
   ],
   "source": [
    "#Expected Frequencies\n",
    "val = stats.chi2_contingency(dataset_table)\n",
    "val"
   ]
  },
  {
   "cell_type": "code",
   "execution_count": 9,
   "metadata": {},
   "outputs": [],
   "source": [
    "expected_value = val[3]\n",
    "dof = val[2] #degree of freedom"
   ]
  },
  {
   "cell_type": "code",
   "execution_count": 10,
   "metadata": {},
   "outputs": [
    {
     "name": "stdout",
     "output_type": "stream",
     "text": [
      "Chi2 value : 8.006066246262538\n"
     ]
    }
   ],
   "source": [
    "#perform chi2 test\n",
    "chi2 = sum(sum([((O - E)**2)/E for O,E in zip(observed_value,expected_value)]))\n",
    "print(\"Chi2 value :\",chi2)"
   ]
  },
  {
   "cell_type": "code",
   "execution_count": 11,
   "metadata": {},
   "outputs": [
    {
     "name": "stdout",
     "output_type": "stream",
     "text": [
      "Critical Value :  7.814727903251179\n"
     ]
    }
   ],
   "source": [
    "#Critical Value\n",
    "alpha = 0.05\n",
    "critical_value = stats.chi2.ppf(1-alpha,dof)\n",
    "print(\"Critical Value : \",critical_value)"
   ]
  },
  {
   "cell_type": "code",
   "execution_count": 12,
   "metadata": {},
   "outputs": [
    {
     "name": "stdout",
     "output_type": "stream",
     "text": [
      "P Value : 0.04588650089174717\n"
     ]
    }
   ],
   "source": [
    "#P Value\n",
    "p_value = 1 - stats.chi2.cdf(chi2,dof)\n",
    "print(\"P Value :\",p_value)"
   ]
  },
  {
   "cell_type": "code",
   "execution_count": 13,
   "metadata": {},
   "outputs": [
    {
     "name": "stdout",
     "output_type": "stream",
     "text": [
      "The gender of an individual and the level of education are dependent to each other\n",
      "The gender of an individual and the level of education are dependent to each other\n"
     ]
    }
   ],
   "source": [
    "#Compairing \n",
    "if chi2 >= critical_value :\n",
    "    print(\"The gender of an individual and the level of education are dependent to each other\")\n",
    "else :\n",
    "    print(\"The gender of an individual and the level of education are independent to each other\")\n",
    "#compairing p value\n",
    "if p_value <= alpha :\n",
    "    print(\"The gender of an individual and the level of education are dependent to each other\")\n",
    "else :\n",
    "    print(\"The gender of an individual and the level of education are independent to each other\")"
   ]
  },
  {
   "cell_type": "markdown",
   "metadata": {},
   "source": [
    "## Problem Statement 2:"
   ]
  },
  {
   "cell_type": "markdown",
   "metadata": {},
   "source": [
    "Using the following data, perform a oneway analysis of variance using α=.05. Write\n",
    "up the results in APA format.\n",
    "\n",
    "[Group1: 51, 45, 33, 45, 67]\n",
    "\n",
    "[Group2: 23, 43, 23, 43, 45]\n",
    "\n",
    "[Group3: 56, 76, 74, 87, 56]"
   ]
  },
  {
   "cell_type": "code",
   "execution_count": 14,
   "metadata": {},
   "outputs": [],
   "source": [
    "import pandas as pd\n",
    "import numpy as np\n",
    "from scipy import stats "
   ]
  },
  {
   "cell_type": "code",
   "execution_count": 15,
   "metadata": {},
   "outputs": [],
   "source": [
    "d = {\n",
    "    \"Group1\" : pd.Series([51, 45, 33, 45, 67]),\n",
    "    \"Group2\" : pd.Series([23, 43, 23, 43, 45]),\n",
    "    \"Group3\" : pd.Series([56, 76, 74, 87, 56])\n",
    "}\n",
    "df = pd.DataFrame(d)"
   ]
  },
  {
   "cell_type": "code",
   "execution_count": 16,
   "metadata": {},
   "outputs": [
    {
     "data": {
      "text/html": [
       "<div>\n",
       "<style scoped>\n",
       "    .dataframe tbody tr th:only-of-type {\n",
       "        vertical-align: middle;\n",
       "    }\n",
       "\n",
       "    .dataframe tbody tr th {\n",
       "        vertical-align: top;\n",
       "    }\n",
       "\n",
       "    .dataframe thead th {\n",
       "        text-align: right;\n",
       "    }\n",
       "</style>\n",
       "<table border=\"1\" class=\"dataframe\">\n",
       "  <thead>\n",
       "    <tr style=\"text-align: right;\">\n",
       "      <th></th>\n",
       "      <th>Group1</th>\n",
       "      <th>Group2</th>\n",
       "      <th>Group3</th>\n",
       "    </tr>\n",
       "  </thead>\n",
       "  <tbody>\n",
       "    <tr>\n",
       "      <th>0</th>\n",
       "      <td>51</td>\n",
       "      <td>23</td>\n",
       "      <td>56</td>\n",
       "    </tr>\n",
       "    <tr>\n",
       "      <th>1</th>\n",
       "      <td>45</td>\n",
       "      <td>43</td>\n",
       "      <td>76</td>\n",
       "    </tr>\n",
       "    <tr>\n",
       "      <th>2</th>\n",
       "      <td>33</td>\n",
       "      <td>23</td>\n",
       "      <td>74</td>\n",
       "    </tr>\n",
       "    <tr>\n",
       "      <th>3</th>\n",
       "      <td>45</td>\n",
       "      <td>43</td>\n",
       "      <td>87</td>\n",
       "    </tr>\n",
       "    <tr>\n",
       "      <th>4</th>\n",
       "      <td>67</td>\n",
       "      <td>45</td>\n",
       "      <td>56</td>\n",
       "    </tr>\n",
       "  </tbody>\n",
       "</table>\n",
       "</div>"
      ],
      "text/plain": [
       "   Group1  Group2  Group3\n",
       "0      51      23      56\n",
       "1      45      43      76\n",
       "2      33      23      74\n",
       "3      45      43      87\n",
       "4      67      45      56"
      ]
     },
     "execution_count": 16,
     "metadata": {},
     "output_type": "execute_result"
    }
   ],
   "source": [
    "df"
   ]
  },
  {
   "cell_type": "markdown",
   "metadata": {},
   "source": [
    "NULL Hypothesis : means of all groups are equal\n",
    "\n",
    "ALTERNATE Hypothesis : means of all groups are different    "
   ]
  },
  {
   "cell_type": "code",
   "execution_count": 17,
   "metadata": {},
   "outputs": [],
   "source": [
    "anova_value , p_value = stats.f_oneway(df[\"Group1\"] ,df[\"Group2\"] ,df[\"Group3\"])"
   ]
  },
  {
   "cell_type": "code",
   "execution_count": 18,
   "metadata": {},
   "outputs": [
    {
     "name": "stdout",
     "output_type": "stream",
     "text": [
      "P Value : 0.0030597541434430556\n"
     ]
    }
   ],
   "source": [
    "print(\"P Value :\",p_value)"
   ]
  },
  {
   "cell_type": "code",
   "execution_count": 19,
   "metadata": {},
   "outputs": [
    {
     "name": "stdout",
     "output_type": "stream",
     "text": [
      "Reject Null Hypothesis\n"
     ]
    }
   ],
   "source": [
    "if p_value < 0.05 :\n",
    "    print(\"Reject Null Hypothesis\")\n",
    "else :\n",
    "    print(\"Accept Null Hypothesis\")"
   ]
  },
  {
   "cell_type": "markdown",
   "metadata": {},
   "source": [
    "## Problem Statement 3:"
   ]
  },
  {
   "cell_type": "markdown",
   "metadata": {},
   "source": [
    "Calculate F Test for given 10, 20, 30, 40, 50 and 5,10,15, 20, 25.\n",
    "For 10, 20, 30, 40, 50:\n"
   ]
  },
  {
   "cell_type": "markdown",
   "metadata": {},
   "source": [
    "NULL Hypothesis : Population variances are equal\n",
    "\n",
    "ALTERNATE Hypothesis : population variances are unequal"
   ]
  },
  {
   "cell_type": "code",
   "execution_count": 20,
   "metadata": {},
   "outputs": [],
   "source": [
    "X = [10, 20, 30, 40, 50]\n",
    "Y = [5,10,15, 20, 25]"
   ]
  },
  {
   "cell_type": "code",
   "execution_count": 21,
   "metadata": {},
   "outputs": [],
   "source": [
    "import numpy as np\n",
    "from scipy import stats\n",
    "\n",
    "#define F-test function\n",
    "def f_test(x, y):\n",
    "    x = np.array(x)\n",
    "    y = np.array(y)\n",
    "    var1 = np.var(x, ddof=1)\n",
    "    var2 = np.var(y, ddof=1)\n",
    "    if var1 > var2 :\n",
    "        f = var1/var2 #calculate F test statistic \n",
    "        dof_x = x.size-1 #define degrees of freedom of x smaple \n",
    "        dof_y = y.size-1 #define degrees of freedom of y sample \n",
    "        p = 1-stats.f.cdf(f, dof_x, dof_y) #find p-value of F test statistic \n",
    "        return f, p\n",
    "    else :\n",
    "        f = var2/var1 #calculate F test statistic \n",
    "        dof_x = x.size-1 #define degrees of freedom of x smaple \n",
    "        dof_y = y.size-1 #define degrees of freedom of y sample \n",
    "        p = 1-stats.f.cdf(f, dof_y, dof_x) #find p-value of F test statistic \n",
    "        return f, p\n",
    "\n",
    "#perform F-test\n",
    "f_value , p_value = f_test(X, Y)"
   ]
  },
  {
   "cell_type": "code",
   "execution_count": 22,
   "metadata": {},
   "outputs": [
    {
     "name": "stdout",
     "output_type": "stream",
     "text": [
      "F Test Value for given 10, 20, 30, 40, 50 and 5,10,15, 20, 25 : 4.0\n"
     ]
    }
   ],
   "source": [
    "print(\"F Test Value for given 10, 20, 30, 40, 50 and 5,10,15, 20, 25 :\",f_value)"
   ]
  },
  {
   "cell_type": "code",
   "execution_count": 23,
   "metadata": {},
   "outputs": [
    {
     "name": "stdout",
     "output_type": "stream",
     "text": [
      "accept null hypothesis\n"
     ]
    }
   ],
   "source": [
    "if p_value < 0.05:\n",
    "    print(\"reject null hypothesis\")\n",
    "else:\n",
    "    print(\"accept null hypothesis\")"
   ]
  },
  {
   "cell_type": "code",
   "execution_count": null,
   "metadata": {},
   "outputs": [],
   "source": []
  },
  {
   "cell_type": "code",
   "execution_count": null,
   "metadata": {},
   "outputs": [],
   "source": []
  },
  {
   "cell_type": "code",
   "execution_count": null,
   "metadata": {},
   "outputs": [],
   "source": []
  },
  {
   "cell_type": "code",
   "execution_count": null,
   "metadata": {},
   "outputs": [],
   "source": []
  }
 ],
 "metadata": {
  "kernelspec": {
   "display_name": "Python 3",
   "language": "python",
   "name": "python3"
  },
  "language_info": {
   "codemirror_mode": {
    "name": "ipython",
    "version": 3
   },
   "file_extension": ".py",
   "mimetype": "text/x-python",
   "name": "python",
   "nbconvert_exporter": "python",
   "pygments_lexer": "ipython3",
   "version": "3.8.3"
  }
 },
 "nbformat": 4,
 "nbformat_minor": 4
}

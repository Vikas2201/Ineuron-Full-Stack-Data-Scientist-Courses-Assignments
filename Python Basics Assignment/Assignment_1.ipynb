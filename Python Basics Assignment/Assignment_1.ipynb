{
 "cells": [
  {
   "cell_type": "markdown",
   "metadata": {},
   "source": [
    "#### 1) In the below elements which of them are values or an expression? eg:- values can be integer or string and expressions will be mathematical operators."
   ]
  },
  {
   "cell_type": "markdown",
   "metadata": {},
   "source": [
    "* --> Mathematical operators (Multiplication)\n",
    "\n",
    "'hello' --> String\n",
    "\n",
    "-87.8 --> Floating Value(Integer)\n",
    "\n",
    "- --> Mathematical operators (Subtraction)\n",
    "\n",
    "/ --> Mathematical operators (Division)\n",
    "\n",
    "+ --> Mathematical operators (Addition)\n",
    "\n",
    "6 --> Integers\n",
    "\n",
    "Therefore, Values are :- 'hello' , -87.8 , 6\n",
    "    \n",
    "Expression :- * , - , / , +"
   ]
  },
  {
   "cell_type": "markdown",
   "metadata": {},
   "source": [
    "#### 2) What is the difference between string and variable?"
   ]
  },
  {
   "cell_type": "markdown",
   "metadata": {},
   "source": [
    "String :- String is represented by the immutable str data type.which hold sequence of unicode characters. The str data type can be called as function to create a string object with no arguments it return a empty string. for Example :- \"Study\"\n",
    "    \n",
    "Variable :- A variable is a reserved memory location to store values.There are three types of variable Integer , Float and Complex Variables. For Example :- 16 , 18.9, 2 +3j\n",
    "    "
   ]
  },
  {
   "cell_type": "markdown",
   "metadata": {},
   "source": [
    "#### 3) Describe three different data types."
   ]
  },
  {
   "cell_type": "markdown",
   "metadata": {},
   "source": [
    "1) int :- It is used to store integer value that is positive or negative and do not contain decimal values.\n",
    "    \n",
    "2) float :- It is used to store decimal values. It consists of integer and fraction parts.\n",
    "    \n",
    "3) complex :- It is used to store complex number. It consists Integer and complex part of a number.\n",
    "    \n",
    "4) str :- It is used to store string that hold a sequence of unicode characters.\n",
    "    \n",
    "5) bool :- It is used to store True and False boolean values."
   ]
  },
  {
   "cell_type": "markdown",
   "metadata": {},
   "source": [
    "#### 4) What is an expression made up of? What do all expressions do?"
   ]
  },
  {
   "cell_type": "markdown",
   "metadata": {},
   "source": [
    "An expression is a combination of values , variables , mathematical operators and calls to functions. Expressions need to be evaluated because it representated value."
   ]
  },
  {
   "cell_type": "markdown",
   "metadata": {},
   "source": [
    "#### 5) This assignment statements, like spam = 10. What is the difference between an expression and a statement?"
   ]
  },
  {
   "cell_type": "markdown",
   "metadata": {},
   "source": [
    "Expression is made up of values , variables and mathematical operators and operands.\n",
    "\n",
    "Statement is just like a command that a python interpreter executes like print."
   ]
  },
  {
   "cell_type": "markdown",
   "metadata": {},
   "source": [
    "#### 6) After running the following code, what does the variable bacon contain? \n",
    "####    bacon = 22 \n",
    "####    bacon + 1"
   ]
  },
  {
   "cell_type": "markdown",
   "metadata": {},
   "source": [
    "After running the above code bacon = 22 because the bacon + 1 expression does not reassign the value in bacon."
   ]
  },
  {
   "cell_type": "markdown",
   "metadata": {},
   "source": [
    "#### 7) What should the values of the following two terms be?\n",
    " \n",
    "    \"spam\" + \"spamspam\"\n",
    "\n",
    "    \"spam\" * 3"
   ]
  },
  {
   "cell_type": "markdown",
   "metadata": {},
   "source": [
    "After Evaluating the both string we get \"spamspamspam\""
   ]
  },
  {
   "cell_type": "markdown",
   "metadata": {},
   "source": [
    "#### 8) Why is eggs a valid variable name while 100 is invalid?"
   ]
  },
  {
   "cell_type": "markdown",
   "metadata": {},
   "source": [
    "Because variable name does not start with a number."
   ]
  },
  {
   "cell_type": "markdown",
   "metadata": {},
   "source": [
    "#### 9) What three functions can be used to get the integer, floating-point number, or string version of a value?"
   ]
  },
  {
   "cell_type": "markdown",
   "metadata": {},
   "source": [
    "int() , float() and str()"
   ]
  },
  {
   "cell_type": "markdown",
   "metadata": {},
   "source": [
    "#### 10) Why does this expression cause an error? How can you fix it?\n",
    "    \n",
    "        \"I have eaten\" + 99 + \"burritos.\""
   ]
  },
  {
   "cell_type": "markdown",
   "metadata": {},
   "source": [
    "The expression cause an error because 99 is an integer value and only strings can be concatenated to other strings with the + operator. So, The correct way is \"I have eaten \" + str(99) + \" burritos.\""
   ]
  },
  {
   "cell_type": "code",
   "execution_count": null,
   "metadata": {},
   "outputs": [],
   "source": []
  }
 ],
 "metadata": {
  "kernelspec": {
   "display_name": "Python 3",
   "language": "python",
   "name": "python3"
  },
  "language_info": {
   "codemirror_mode": {
    "name": "ipython",
    "version": 3
   },
   "file_extension": ".py",
   "mimetype": "text/x-python",
   "name": "python",
   "nbconvert_exporter": "python",
   "pygments_lexer": "ipython3",
   "version": "3.8.3"
  }
 },
 "nbformat": 4,
 "nbformat_minor": 4
}

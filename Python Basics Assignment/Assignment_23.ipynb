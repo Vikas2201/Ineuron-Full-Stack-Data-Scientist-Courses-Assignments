{
 "cells": [
  {
   "cell_type": "markdown",
   "metadata": {},
   "source": [
    "#### 1) What is the result of the code, and why?\n",
    "#### &gt;&gt;&gt; def func(a, b=6, c=8):\n",
    "#### print(a, b, c)\n",
    "#### &gt;&gt;&gt; func(1, 2)"
   ]
  },
  {
   "cell_type": "markdown",
   "metadata": {},
   "source": [
    "Output :- 1 2 8"
   ]
  },
  {
   "cell_type": "markdown",
   "metadata": {},
   "source": [
    "func() function has one parameter without default argument value followed by two parameters with default argument values.when we call func(1,2) then parameter a gets value 1 , parameter b gets the value 2 and parameter c gets default value 8."
   ]
  },
  {
   "cell_type": "markdown",
   "metadata": {},
   "source": [
    "#### 2) What is the result of this code, and why?\n",
    "#### &gt;&gt;&gt; def func(a, b, c=5):\n",
    "#### print(a, b, c)\n",
    "#### &gt;&gt;&gt; func(1, c=3, b=2)"
   ]
  },
  {
   "cell_type": "markdown",
   "metadata": {},
   "source": [
    "Output :- 1 2 3"
   ]
  },
  {
   "cell_type": "markdown",
   "metadata": {},
   "source": [
    "func() function has two parameter without default argument value followed by one parameters with default argument values.when we call func(1, c=3 , b=2) then parameter a gets value 1 , parameter b gets the value 2 and parameter c gets default value 3."
   ]
  },
  {
   "cell_type": "markdown",
   "metadata": {},
   "source": [
    "#### 3) How about this code: what is its result, and why?\n",
    "#### &gt;&gt;&gt; def func(a, *pargs):\n",
    "#### print(a, pargs)\n",
    "#### &gt;&gt;&gt; func(1, 2, 3)"
   ]
  },
  {
   "cell_type": "markdown",
   "metadata": {},
   "source": [
    "Output :- 1 (2,3)"
   ]
  },
  {
   "cell_type": "markdown",
   "metadata": {},
   "source": [
    "func() function has one parameter for default argument value followed by *pargs arguments is used to pass a variable number of arguments to a function.So, when we call func(1,2,3) then parameter a gets value 1 and rest values get by *pargs parameter in tuple form ."
   ]
  },
  {
   "cell_type": "markdown",
   "metadata": {},
   "source": [
    "#### 4) What does this code print, and why?\n",
    "#### &gt;&gt;&gt; def func(a, **kargs):\n",
    "#### print(a, kargs)\n",
    "#### &gt;&gt;&gt; func(a=1, c=3, b=2)"
   ]
  },
  {
   "cell_type": "markdown",
   "metadata": {},
   "source": [
    "Output :- 1 {'c': 3, 'b': 2}"
   ]
  },
  {
   "cell_type": "markdown",
   "metadata": {},
   "source": [
    "func() function has one parameter for default argument value followed by **kargs arguments is used to pass a keyworded, variable-length argument list.So, when we call func(a = 1,c = 3,b = 2) then parameter a gets value 1 and rest values get by * *kargs parameter in dictionary form ."
   ]
  },
  {
   "cell_type": "markdown",
   "metadata": {},
   "source": [
    "#### 5) What gets printed by this, and explain?\n",
    "#### &gt;&gt;&gt; def func(a, b, c=8, d=5): print(a, b, c, d)\n",
    "#### &gt;&gt;&gt; func(1, *(5, 6))"
   ]
  },
  {
   "cell_type": "markdown",
   "metadata": {},
   "source": [
    "Output :- 1 5 6 5"
   ]
  },
  {
   "cell_type": "markdown",
   "metadata": {},
   "source": [
    "func() function has one parameter for default argument value followed by *() arguments that is used to pass a variable number of arguments to a function.So, when we call func(1, *(5, 6)) then parameter a gets value 1 and parameter b gets the value 5 and parameter c gets the value 6 and parameter d gets default value 5."
   ]
  },
  {
   "cell_type": "markdown",
   "metadata": {},
   "source": [
    "#### 6) what is the result of this, and explain?\n",
    "#### &gt;&gt;&gt; def func(a, b, c): a = 2; b[0] = &#39;x&#39;; c[&#39;a&#39;] = &#39;y&#39;\n",
    "#### &gt;&gt;&gt; l=1; m=[1]; n={&#39;a&#39;:0}\n",
    "#### &gt;&gt;&gt; func(l, m, n)\n",
    "\n",
    "#### &gt;&gt;&gt; l, m, n"
   ]
  },
  {
   "cell_type": "markdown",
   "metadata": {},
   "source": [
    "Output :- (1, ['x'], {'a': 'y'})"
   ]
  },
  {
   "cell_type": "markdown",
   "metadata": {},
   "source": [
    "func() function has three parameter for default argument value. So, when we call func(l,m,n) then parameter a gets value l that a = 2 but it does not effect the value of l that is 1 , parameter b gets the value [1] that is a list and it assign 0th element of list equal to 'x' that also shows effects to the value of m so, m = ['x'] and parameter c gets the value {'a' : 0} that is a dictionary and assign the value of key element 'a' to 'y' that also shows effect in the value of n so, value of n = {'a':'y'}."
   ]
  },
  {
   "cell_type": "code",
   "execution_count": null,
   "metadata": {},
   "outputs": [],
   "source": []
  }
 ],
 "metadata": {
  "kernelspec": {
   "display_name": "Python 3",
   "language": "python",
   "name": "python3"
  },
  "language_info": {
   "codemirror_mode": {
    "name": "ipython",
    "version": 3
   },
   "file_extension": ".py",
   "mimetype": "text/x-python",
   "name": "python",
   "nbconvert_exporter": "python",
   "pygments_lexer": "ipython3",
   "version": "3.8.3"
  }
 },
 "nbformat": 4,
 "nbformat_minor": 4
}

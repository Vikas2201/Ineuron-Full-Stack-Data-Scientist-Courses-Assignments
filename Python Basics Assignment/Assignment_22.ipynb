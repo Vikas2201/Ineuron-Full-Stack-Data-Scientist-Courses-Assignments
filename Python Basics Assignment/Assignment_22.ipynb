{
 "cells": [
  {
   "cell_type": "markdown",
   "metadata": {},
   "source": [
    "#### 1) What is the result of the code, and explain?\n",
    "\n",
    "#### &gt;&gt;&gt; X = &#39;iNeuron&#39;\n",
    "#### &gt;&gt;&gt; def func():\n",
    "#### print(X)\n",
    "\n",
    "#### &gt;&gt;&gt; func()"
   ]
  },
  {
   "cell_type": "markdown",
   "metadata": {},
   "source": [
    "Output :- iNeuron"
   ]
  },
  {
   "cell_type": "markdown",
   "metadata": {},
   "source": [
    "bcz 'x' is declared out of the func() function so, its scope is in the complete block"
   ]
  },
  {
   "cell_type": "markdown",
   "metadata": {},
   "source": [
    "#### 2) What is the result of the code, and explain?\n",
    "\n",
    "#### &gt;&gt;&gt; X = &#39;iNeuron&#39;\n",
    "#### &gt;&gt;&gt; def func():\n",
    "#### X = &#39;NI!&#39;\n",
    "\n",
    "#### &gt;&gt;&gt; func()\n",
    "#### &gt;&gt;&gt; print(X)"
   ]
  },
  {
   "cell_type": "markdown",
   "metadata": {},
   "source": [
    "Output :- iNeuron"
   ]
  },
  {
   "cell_type": "markdown",
   "metadata": {},
   "source": [
    "bcz 'x' is declared out of the func() function so, its scope is in the complete block and the 'x' (local variable ) that is defined in the func() function its scope within the func() function. so, when we run the statement after the calling of func() function it print 'iNeuron' "
   ]
  },
  {
   "cell_type": "markdown",
   "metadata": {},
   "source": [
    "#### 3) What does this code print, and why?\n",
    "\n",
    "#### &gt;&gt;&gt; X = &#39;iNeuron&#39;\n",
    "#### &gt;&gt;&gt; def func():\n",
    "#### X = &#39;NI&#39;\n",
    "#### print(X)\n",
    "\n",
    "#### &gt;&gt;&gt; func()\n",
    "#### &gt;&gt;&gt; print(X)"
   ]
  },
  {
   "cell_type": "markdown",
   "metadata": {},
   "source": [
    "Output :- NI!\n",
    "\n",
    "        iNeuron"
   ]
  },
  {
   "cell_type": "markdown",
   "metadata": {},
   "source": [
    "firstly when func() is called then it print the value of x = 'NI!' after when the scope of function finished , print(x) statement is run which prints the value of x = 'iNeuron' bcz it decleared out of the func() function "
   ]
  },
  {
   "cell_type": "markdown",
   "metadata": {},
   "source": [
    "#### 4) What output does this code produce? Why?\n",
    "\n",
    "#### &gt;&gt;&gt; X = &#39;iNeuron&#39;\n",
    "#### &gt;&gt;&gt; def func():\n",
    "#### global X\n",
    "#### X = &#39;NI&#39;\n",
    "\n",
    "#### &gt;&gt;&gt; func()\n",
    "#### &gt;&gt;&gt; print(X)"
   ]
  },
  {
   "cell_type": "markdown",
   "metadata": {},
   "source": [
    "Output :- NI"
   ]
  },
  {
   "cell_type": "markdown",
   "metadata": {},
   "source": [
    "firstly when func() is called then x is declared as a global variable so, when print(x) statement is run then it print 'NI' after func() function called"
   ]
  },
  {
   "cell_type": "markdown",
   "metadata": {},
   "source": [
    "#### 5) What about this code—what’s the output, and why?\n",
    "\n",
    "#### &gt;&gt;&gt; X = &#39;iNeuron&#39;\n",
    "#### &gt;&gt;&gt; def func():\n",
    "#### X = &#39;NI&#39;\n",
    "#### def nested():\n",
    "#### print(X)\n",
    "#### nested()\n",
    "\n",
    "#### &gt;&gt;&gt; func()\n",
    "#### &gt;&gt;&gt; X"
   ]
  },
  {
   "cell_type": "markdown",
   "metadata": {},
   "source": [
    "Output :- NI\n",
    "    \n",
    "        iNeuron"
   ]
  },
  {
   "cell_type": "markdown",
   "metadata": {},
   "source": [
    "when func() function is called it declared a variable x = 'NI' its scopes within the func() function . In func() there is another function nested() is declared when nested() function is called in func() function it print the 'NI' as output bcz scope of variable x is in the func() function. After that X statement run which print 'iNeuron' as output bcz variable X = 'iNeuron' scope is in complete block.   "
   ]
  },
  {
   "cell_type": "markdown",
   "metadata": {},
   "source": [
    "#### 6) How about this code: what is its output in Python 3, and explain?\n",
    "\n",
    "#### &gt;&gt;&gt; def func():\n",
    "#### X = &#39;NI&#39;\n",
    "#### def nested():\n",
    "#### nonlocal X\n",
    "#### X = &#39;Spam&#39;\n",
    "#### nested()\n",
    "#### print(X)\n",
    "\n",
    "#### &gt;&gt;&gt; func()"
   ]
  },
  {
   "cell_type": "markdown",
   "metadata": {},
   "source": [
    "Output :- Spam"
   ]
  },
  {
   "cell_type": "markdown",
   "metadata": {},
   "source": [
    "bcz nonlocal keyword is used to make the variable which refers to the variable bounded in the nearest scope. so, when we declared x as a nonlocal variable and after that its assign a value 'Spam' then it bounded in func() function"
   ]
  },
  {
   "cell_type": "code",
   "execution_count": null,
   "metadata": {},
   "outputs": [],
   "source": []
  }
 ],
 "metadata": {
  "kernelspec": {
   "display_name": "Python 3",
   "language": "python",
   "name": "python3"
  },
  "language_info": {
   "codemirror_mode": {
    "name": "ipython",
    "version": 3
   },
   "file_extension": ".py",
   "mimetype": "text/x-python",
   "name": "python",
   "nbconvert_exporter": "python",
   "pygments_lexer": "ipython3",
   "version": "3.8.3"
  }
 },
 "nbformat": 4,
 "nbformat_minor": 4
}
